{
 "cells": [
  {
   "cell_type": "code",
   "execution_count": 1,
   "metadata": {},
   "outputs": [],
   "source": [
    "import sys\n",
    "sys.path.append(\"..\")\n",
    "\n",
    "from pathlib import Path\n",
    "import pandas as pd\n",
    "\n",
    "from mndot_bid_etl.reader.abstract import create_abstract_data_from_csv\n",
    "from mndot_bid_etl.reader.item import create_item_data_from_csv\n",
    "from mndot_bid_etl.transform.functional.transform_bid import transform_bid_df\n",
    "from mndot_bid_etl.transform.functional.transform_bidder import transform_bidder_df\n",
    "from mndot_bid_etl.transform.functional.transform_contract import transform_contract_df"
   ]
  },
  {
   "cell_type": "code",
   "execution_count": 2,
   "metadata": {},
   "outputs": [],
   "source": [
    "abstract_data = create_abstract_data_from_csv(Path(\"../data/csv/2022/220002.csv\").resolve())\n",
    "\n",
    "item_data_2020 = create_item_data_from_csv(Path(\"../data/csv/item_list_2020.csv\").resolve())\n",
    "item_data_2018 = create_item_data_from_csv(Path(\"../data/csv/item_list_2018.csv\").resolve())\n",
    "item_data_2016 = create_item_data_from_csv(Path(\"../data/csv/item_list_2016.csv\").resolve())"
   ]
  },
  {
   "cell_type": "code",
   "execution_count": 3,
   "metadata": {},
   "outputs": [],
   "source": [
    "from mndot_bid_etl.transform import item\n",
    "\n",
    "df_2020 = item.transform_item(item_data_2020.df)\n",
    "df_2018 = item.transform_item(item_data_2018.df)\n",
    "df_2016 = item.transform_item(item_data_2016.df)"
   ]
  },
  {
   "cell_type": "code",
   "execution_count": 4,
   "metadata": {},
   "outputs": [
    {
     "name": "stdout",
     "output_type": "stream",
     "text": [
      "<class 'pandas.core.frame.DataFrame'>\n",
      "RangeIndex: 8034 entries, 0 to 8033\n",
      "Data columns (total 8 columns):\n",
      " #   Column             Non-Null Count  Dtype \n",
      "---  ------             --------------  ----- \n",
      " 0   spec_year          8034 non-null   string\n",
      " 1   spec_code          8034 non-null   string\n",
      " 2   unit_code          8034 non-null   string\n",
      " 3   item_code          8034 non-null   string\n",
      " 4   short_description  8034 non-null   string\n",
      " 5   long_description   8034 non-null   string\n",
      " 6   unit               8034 non-null   string\n",
      " 7   unit_abbreviation  8034 non-null   string\n",
      "dtypes: string(8)\n",
      "memory usage: 502.2 KB\n"
     ]
    }
   ],
   "source": [
    "df_2020.info()"
   ]
  },
  {
   "cell_type": "code",
   "execution_count": 5,
   "metadata": {},
   "outputs": [],
   "source": [
    "def generate_in_spec_year_df(df: pd.DataFrame) -> pd.DataFrame:\n",
    "    spec_year = df.at[0, \"spec_year\"]\n",
    "\n",
    "    merged_id = (\n",
    "        df[\"spec_code\"]\n",
    "        + \"_\"\n",
    "        + df[\"unit_code\"]\n",
    "        + \"_\"\n",
    "        + df[\"item_code\"]\n",
    "        + \"_\"\n",
    "        + df[\"long_description\"]\n",
    "    )\n",
    "\n",
    "    out_df = pd.DataFrame({\"merged_id\": merged_id, spec_year: True})\n",
    "    return out_df.set_index(\"merged_id\")"
   ]
  },
  {
   "cell_type": "code",
   "execution_count": 6,
   "metadata": {},
   "outputs": [],
   "source": [
    "in_2016 = generate_in_spec_year_df(df_2016)\n",
    "in_2018 = generate_in_spec_year_df(df_2018)\n",
    "in_2020 = generate_in_spec_year_df(df_2020)"
   ]
  },
  {
   "cell_type": "code",
   "execution_count": 7,
   "metadata": {},
   "outputs": [
    {
     "data": {
      "text/html": [
       "<div>\n",
       "<style scoped>\n",
       "    .dataframe tbody tr th:only-of-type {\n",
       "        vertical-align: middle;\n",
       "    }\n",
       "\n",
       "    .dataframe tbody tr th {\n",
       "        vertical-align: top;\n",
       "    }\n",
       "\n",
       "    .dataframe thead th {\n",
       "        text-align: right;\n",
       "    }\n",
       "</style>\n",
       "<table border=\"1\" class=\"dataframe\">\n",
       "  <thead>\n",
       "    <tr style=\"text-align: right;\">\n",
       "      <th></th>\n",
       "      <th>2016</th>\n",
       "      <th>2018</th>\n",
       "      <th>2020</th>\n",
       "    </tr>\n",
       "    <tr>\n",
       "      <th>merged_id</th>\n",
       "      <th></th>\n",
       "      <th></th>\n",
       "      <th></th>\n",
       "    </tr>\n",
       "  </thead>\n",
       "  <tbody>\n",
       "    <tr>\n",
       "      <th>2011_601_00003</th>\n",
       "      <td>True</td>\n",
       "      <td>True</td>\n",
       "      <td>True</td>\n",
       "    </tr>\n",
       "    <tr>\n",
       "      <th>2011_601_00010</th>\n",
       "      <td>True</td>\n",
       "      <td>True</td>\n",
       "      <td>True</td>\n",
       "    </tr>\n",
       "    <tr>\n",
       "      <th>2011_601_00015</th>\n",
       "      <td>True</td>\n",
       "      <td>True</td>\n",
       "      <td>True</td>\n",
       "    </tr>\n",
       "    <tr>\n",
       "      <th>2011_601_00020</th>\n",
       "      <td>True</td>\n",
       "      <td>True</td>\n",
       "      <td>True</td>\n",
       "    </tr>\n",
       "    <tr>\n",
       "      <th>2011_601_00040</th>\n",
       "      <td>True</td>\n",
       "      <td>False</td>\n",
       "      <td>False</td>\n",
       "    </tr>\n",
       "  </tbody>\n",
       "</table>\n",
       "</div>"
      ],
      "text/plain": [
       "                2016   2018   2020\n",
       "merged_id                         \n",
       "2011_601_00003  True   True   True\n",
       "2011_601_00010  True   True   True\n",
       "2011_601_00015  True   True   True\n",
       "2011_601_00020  True   True   True\n",
       "2011_601_00040  True  False  False"
      ]
     },
     "execution_count": 7,
     "metadata": {},
     "output_type": "execute_result"
    }
   ],
   "source": [
    "spec_year_matrix = in_2016.join(other=[in_2018, in_2020], how=\"outer\").fillna(value=False)\n",
    "spec_year_matrix.head()"
   ]
  },
  {
   "cell_type": "code",
   "execution_count": 8,
   "metadata": {},
   "outputs": [
    {
     "name": "stdout",
     "output_type": "stream",
     "text": [
      "<class 'pandas.core.frame.DataFrame'>\n",
      "Index: 14338 entries, 2011_601_00003 to 2582_503_80312\n",
      "Data columns (total 3 columns):\n",
      " #   Column  Non-Null Count  Dtype\n",
      "---  ------  --------------  -----\n",
      " 0   2016    14338 non-null  bool \n",
      " 1   2018    14338 non-null  bool \n",
      " 2   2020    14338 non-null  bool \n",
      "dtypes: bool(3)\n",
      "memory usage: 154.0 KB\n"
     ]
    }
   ],
   "source": [
    "spec_year_matrix.info()"
   ]
  },
  {
   "cell_type": "code",
   "execution_count": 9,
   "metadata": {},
   "outputs": [
    {
     "data": {
      "text/html": [
       "<div>\n",
       "<style scoped>\n",
       "    .dataframe tbody tr th:only-of-type {\n",
       "        vertical-align: middle;\n",
       "    }\n",
       "\n",
       "    .dataframe tbody tr th {\n",
       "        vertical-align: top;\n",
       "    }\n",
       "\n",
       "    .dataframe thead th {\n",
       "        text-align: right;\n",
       "    }\n",
       "</style>\n",
       "<table border=\"1\" class=\"dataframe\">\n",
       "  <thead>\n",
       "    <tr style=\"text-align: right;\">\n",
       "      <th></th>\n",
       "      <th>2016</th>\n",
       "      <th>2018</th>\n",
       "      <th>2020</th>\n",
       "    </tr>\n",
       "    <tr>\n",
       "      <th>merged_id</th>\n",
       "      <th></th>\n",
       "      <th></th>\n",
       "      <th></th>\n",
       "    </tr>\n",
       "  </thead>\n",
       "  <tbody>\n",
       "    <tr>\n",
       "      <th>2011_601_00003_CONSTRUCTION SURVEYING</th>\n",
       "      <td>True</td>\n",
       "      <td>True</td>\n",
       "      <td>True</td>\n",
       "    </tr>\n",
       "    <tr>\n",
       "      <th>2011_601_00010_VIBRATION MONITORING</th>\n",
       "      <td>True</td>\n",
       "      <td>True</td>\n",
       "      <td>True</td>\n",
       "    </tr>\n",
       "    <tr>\n",
       "      <th>2011_601_00015_SCOUR MONITORING</th>\n",
       "      <td>True</td>\n",
       "      <td>True</td>\n",
       "      <td>True</td>\n",
       "    </tr>\n",
       "    <tr>\n",
       "      <th>2011_601_00020_REVISED BRIDGE PLANS</th>\n",
       "      <td>True</td>\n",
       "      <td>True</td>\n",
       "      <td>True</td>\n",
       "    </tr>\n",
       "    <tr>\n",
       "      <th>2011_601_00040_DESIGN</th>\n",
       "      <td>True</td>\n",
       "      <td>False</td>\n",
       "      <td>False</td>\n",
       "    </tr>\n",
       "  </tbody>\n",
       "</table>\n",
       "</div>"
      ],
      "text/plain": [
       "                                       2016   2018   2020\n",
       "merged_id                                                \n",
       "2011_601_00003_CONSTRUCTION SURVEYING  True   True   True\n",
       "2011_601_00010_VIBRATION MONITORING    True   True   True\n",
       "2011_601_00015_SCOUR MONITORING        True   True   True\n",
       "2011_601_00020_REVISED BRIDGE PLANS    True   True   True\n",
       "2011_601_00040_DESIGN                  True  False  False"
      ]
     },
     "execution_count": 9,
     "metadata": {},
     "output_type": "execute_result"
    }
   ],
   "source": [
    "from mndot_bid_etl.transform import spec_year\n",
    "\n",
    "matrix = spec_year.create_spec_year_matrix([df_2016, df_2018, df_2020])\n",
    "matrix.head()"
   ]
  },
  {
   "cell_type": "code",
   "execution_count": 10,
   "metadata": {},
   "outputs": [
    {
     "name": "stdout",
     "output_type": "stream",
     "text": [
      "<class 'pandas.core.frame.DataFrame'>\n",
      "Index: 14426 entries, 2011_601_00003_CONSTRUCTION SURVEYING to 2582_503_80312_12\" DOTTED LINE PREFORM THERMO GROUND IN CONT ESR\n",
      "Data columns (total 3 columns):\n",
      " #   Column  Non-Null Count  Dtype\n",
      "---  ------  --------------  -----\n",
      " 0   2016    14426 non-null  bool \n",
      " 1   2018    14426 non-null  bool \n",
      " 2   2020    14426 non-null  bool \n",
      "dtypes: bool(3)\n",
      "memory usage: 155.0 KB\n"
     ]
    }
   ],
   "source": [
    "matrix.info()"
   ]
  },
  {
   "cell_type": "code",
   "execution_count": null,
   "metadata": {},
   "outputs": [],
   "source": []
  }
 ],
 "metadata": {
  "kernelspec": {
   "display_name": "Python 3.10.8 64-bit",
   "language": "python",
   "name": "python3"
  },
  "language_info": {
   "codemirror_mode": {
    "name": "ipython",
    "version": 3
   },
   "file_extension": ".py",
   "mimetype": "text/x-python",
   "name": "python",
   "nbconvert_exporter": "python",
   "pygments_lexer": "ipython3",
   "version": "3.10.8"
  },
  "orig_nbformat": 4,
  "vscode": {
   "interpreter": {
    "hash": "949777d72b0d2535278d3dc13498b2535136f6dfe0678499012e853ee9abcab1"
   }
  }
 },
 "nbformat": 4,
 "nbformat_minor": 2
}
