{
 "cells": [
  {
   "cell_type": "code",
   "execution_count": 1,
   "metadata": {},
   "outputs": [],
   "source": [
    "import sys\n",
    "sys.path.append(\"..\")\n",
    "\n",
    "from pathlib import Path\n",
    "\n",
    "from mndot_bid_etl.reader.abstract import create_abstract_data_from_csv\n",
    "from mndot_bid_etl.reader.item import create_item_data_from_csv\n",
    "from mndot_bid_etl.transform.functional.transform_bid import transform_bid_df\n",
    "from mndot_bid_etl.transform.functional.transform_bidder import transform_bidder_df\n",
    "from mndot_bid_etl.transform.functional.transform_contract import transform_contract_df"
   ]
  },
  {
   "cell_type": "code",
   "execution_count": 2,
   "metadata": {},
   "outputs": [],
   "source": [
    "abstract_data = create_abstract_data_from_csv(Path(\"../data/csv/2022/220002.csv\").resolve())\n",
    "\n",
    "item_data_2020 = create_item_data_from_csv(Path(\"../data/csv/item_list_2020.csv\").resolve())"
   ]
  },
  {
   "cell_type": "markdown",
   "metadata": {},
   "source": [
    "# New transformation logic to match API"
   ]
  },
  {
   "cell_type": "code",
   "execution_count": 3,
   "metadata": {},
   "outputs": [
    {
     "data": {
      "text/html": [
       "<div>\n",
       "<style scoped>\n",
       "    .dataframe tbody tr th:only-of-type {\n",
       "        vertical-align: middle;\n",
       "    }\n",
       "\n",
       "    .dataframe tbody tr th {\n",
       "        vertical-align: top;\n",
       "    }\n",
       "\n",
       "    .dataframe thead th {\n",
       "        text-align: right;\n",
       "    }\n",
       "</style>\n",
       "<table border=\"1\" class=\"dataframe\">\n",
       "  <thead>\n",
       "    <tr style=\"text-align: right;\">\n",
       "      <th></th>\n",
       "      <th>Letting Date</th>\n",
       "      <th>Job Description</th>\n",
       "      <th>Contract Id</th>\n",
       "      <th>SP Number</th>\n",
       "      <th>District</th>\n",
       "      <th>County</th>\n",
       "    </tr>\n",
       "  </thead>\n",
       "  <tbody>\n",
       "    <tr>\n",
       "      <th>0</th>\n",
       "      <td>01/28/2022</td>\n",
       "      <td>LOCATED ON T.H. 14 FROM 490' WEST OF T.H. 71 T...</td>\n",
       "      <td>220002</td>\n",
       "      <td>0803-44</td>\n",
       "      <td>Mankato</td>\n",
       "      <td>BROWN</td>\n",
       "    </tr>\n",
       "  </tbody>\n",
       "</table>\n",
       "</div>"
      ],
      "text/plain": [
       "  Letting Date                                    Job Description Contract Id  \\\n",
       "0   01/28/2022  LOCATED ON T.H. 14 FROM 490' WEST OF T.H. 71 T...      220002   \n",
       "\n",
       "  SP Number District County  \n",
       "0   0803-44  Mankato  BROWN  "
      ]
     },
     "execution_count": 3,
     "metadata": {},
     "output_type": "execute_result"
    }
   ],
   "source": [
    "df =abstract_data.contract_df\n",
    "df.head()"
   ]
  },
  {
   "cell_type": "code",
   "execution_count": 4,
   "metadata": {},
   "outputs": [
    {
     "name": "stdout",
     "output_type": "stream",
     "text": [
      "<class 'pandas.core.frame.DataFrame'>\n",
      "RangeIndex: 1 entries, 0 to 0\n",
      "Data columns (total 6 columns):\n",
      " #   Column           Non-Null Count  Dtype \n",
      "---  ------           --------------  ----- \n",
      " 0   Letting Date     1 non-null      string\n",
      " 1   Job Description  1 non-null      string\n",
      " 2   Contract Id      1 non-null      string\n",
      " 3   SP Number        1 non-null      string\n",
      " 4   District         1 non-null      string\n",
      " 5   County           1 non-null      string\n",
      "dtypes: string(6)\n",
      "memory usage: 176.0 bytes\n"
     ]
    }
   ],
   "source": [
    "df.info()"
   ]
  },
  {
   "cell_type": "code",
   "execution_count": 5,
   "metadata": {},
   "outputs": [],
   "source": [
    "import pandas as pd\n",
    "from mndot_bid_etl.dtype import DType"
   ]
  },
  {
   "cell_type": "code",
   "execution_count": 6,
   "metadata": {},
   "outputs": [
    {
     "data": {
      "text/html": [
       "<div>\n",
       "<style scoped>\n",
       "    .dataframe tbody tr th:only-of-type {\n",
       "        vertical-align: middle;\n",
       "    }\n",
       "\n",
       "    .dataframe tbody tr th {\n",
       "        vertical-align: top;\n",
       "    }\n",
       "\n",
       "    .dataframe thead th {\n",
       "        text-align: right;\n",
       "    }\n",
       "</style>\n",
       "<table border=\"1\" class=\"dataframe\">\n",
       "  <thead>\n",
       "    <tr style=\"text-align: right;\">\n",
       "      <th></th>\n",
       "    </tr>\n",
       "  </thead>\n",
       "  <tbody>\n",
       "  </tbody>\n",
       "</table>\n",
       "</div>"
      ],
      "text/plain": [
       "Empty DataFrame\n",
       "Columns: []\n",
       "Index: []"
      ]
     },
     "execution_count": 6,
     "metadata": {},
     "output_type": "execute_result"
    }
   ],
   "source": [
    "out_df = pd.DataFrame()\n",
    "out_df.head()"
   ]
  },
  {
   "cell_type": "code",
   "execution_count": 7,
   "metadata": {},
   "outputs": [
    {
     "data": {
      "text/html": [
       "<div>\n",
       "<style scoped>\n",
       "    .dataframe tbody tr th:only-of-type {\n",
       "        vertical-align: middle;\n",
       "    }\n",
       "\n",
       "    .dataframe tbody tr th {\n",
       "        vertical-align: top;\n",
       "    }\n",
       "\n",
       "    .dataframe thead th {\n",
       "        text-align: right;\n",
       "    }\n",
       "</style>\n",
       "<table border=\"1\" class=\"dataframe\">\n",
       "  <thead>\n",
       "    <tr style=\"text-align: right;\">\n",
       "      <th></th>\n",
       "      <th>id</th>\n",
       "    </tr>\n",
       "  </thead>\n",
       "  <tbody>\n",
       "    <tr>\n",
       "      <th>0</th>\n",
       "      <td>220002</td>\n",
       "    </tr>\n",
       "  </tbody>\n",
       "</table>\n",
       "</div>"
      ],
      "text/plain": [
       "       id\n",
       "0  220002"
      ]
     },
     "execution_count": 7,
     "metadata": {},
     "output_type": "execute_result"
    }
   ],
   "source": [
    "out_df[\"id\"] = df[\"Contract Id\"].astype(DType.INT64)\n",
    "out_df.head()"
   ]
  },
  {
   "cell_type": "code",
   "execution_count": 8,
   "metadata": {},
   "outputs": [
    {
     "data": {
      "text/html": [
       "<div>\n",
       "<style scoped>\n",
       "    .dataframe tbody tr th:only-of-type {\n",
       "        vertical-align: middle;\n",
       "    }\n",
       "\n",
       "    .dataframe tbody tr th {\n",
       "        vertical-align: top;\n",
       "    }\n",
       "\n",
       "    .dataframe thead th {\n",
       "        text-align: right;\n",
       "    }\n",
       "</style>\n",
       "<table border=\"1\" class=\"dataframe\">\n",
       "  <thead>\n",
       "    <tr style=\"text-align: right;\">\n",
       "      <th></th>\n",
       "      <th>id</th>\n",
       "      <th>letting_date</th>\n",
       "    </tr>\n",
       "  </thead>\n",
       "  <tbody>\n",
       "    <tr>\n",
       "      <th>0</th>\n",
       "      <td>220002</td>\n",
       "      <td>2022-01-28</td>\n",
       "    </tr>\n",
       "  </tbody>\n",
       "</table>\n",
       "</div>"
      ],
      "text/plain": [
       "       id letting_date\n",
       "0  220002   2022-01-28"
      ]
     },
     "execution_count": 8,
     "metadata": {},
     "output_type": "execute_result"
    }
   ],
   "source": [
    "out_df[\"letting_date\"] = pd.to_datetime(df[\"Letting Date\"])\n",
    "out_df.head()"
   ]
  },
  {
   "cell_type": "code",
   "execution_count": 9,
   "metadata": {},
   "outputs": [
    {
     "data": {
      "text/html": [
       "<div>\n",
       "<style scoped>\n",
       "    .dataframe tbody tr th:only-of-type {\n",
       "        vertical-align: middle;\n",
       "    }\n",
       "\n",
       "    .dataframe tbody tr th {\n",
       "        vertical-align: top;\n",
       "    }\n",
       "\n",
       "    .dataframe thead th {\n",
       "        text-align: right;\n",
       "    }\n",
       "</style>\n",
       "<table border=\"1\" class=\"dataframe\">\n",
       "  <thead>\n",
       "    <tr style=\"text-align: right;\">\n",
       "      <th></th>\n",
       "      <th>id</th>\n",
       "      <th>letting_date</th>\n",
       "      <th>sp_number</th>\n",
       "      <th>district</th>\n",
       "      <th>county</th>\n",
       "      <th>description</th>\n",
       "    </tr>\n",
       "  </thead>\n",
       "  <tbody>\n",
       "    <tr>\n",
       "      <th>0</th>\n",
       "      <td>220002</td>\n",
       "      <td>2022-01-28</td>\n",
       "      <td>0803-44</td>\n",
       "      <td>Mankato</td>\n",
       "      <td>Brown</td>\n",
       "      <td>LOCATED ON T.H. 14 FROM 490' WEST OF T.H. 71 T...</td>\n",
       "    </tr>\n",
       "  </tbody>\n",
       "</table>\n",
       "</div>"
      ],
      "text/plain": [
       "       id letting_date sp_number district county  \\\n",
       "0  220002   2022-01-28   0803-44  Mankato  Brown   \n",
       "\n",
       "                                         description  \n",
       "0  LOCATED ON T.H. 14 FROM 490' WEST OF T.H. 71 T...  "
      ]
     },
     "execution_count": 9,
     "metadata": {},
     "output_type": "execute_result"
    }
   ],
   "source": [
    "out_df[\"sp_number\"] = df[\"SP Number\"].str.strip()\n",
    "out_df[\"district\"] = df[\"District\"].str.strip().str.title()\n",
    "out_df[\"county\"] = df[\"County\"].str.strip().str.title()\n",
    "out_df[\"description\"] = df[\"Job Description\"].str.strip()\n",
    "out_df.head()"
   ]
  },
  {
   "cell_type": "code",
   "execution_count": 10,
   "metadata": {},
   "outputs": [
    {
     "data": {
      "text/html": [
       "<div>\n",
       "<style scoped>\n",
       "    .dataframe tbody tr th:only-of-type {\n",
       "        vertical-align: middle;\n",
       "    }\n",
       "\n",
       "    .dataframe tbody tr th {\n",
       "        vertical-align: top;\n",
       "    }\n",
       "\n",
       "    .dataframe thead th {\n",
       "        text-align: right;\n",
       "    }\n",
       "</style>\n",
       "<table border=\"1\" class=\"dataframe\">\n",
       "  <thead>\n",
       "    <tr style=\"text-align: right;\">\n",
       "      <th></th>\n",
       "      <th>id</th>\n",
       "      <th>letting_date</th>\n",
       "      <th>sp_number</th>\n",
       "      <th>district</th>\n",
       "      <th>county</th>\n",
       "      <th>description</th>\n",
       "      <th>winning_bidder_id</th>\n",
       "      <th>spec_year</th>\n",
       "    </tr>\n",
       "  </thead>\n",
       "  <tbody>\n",
       "    <tr>\n",
       "      <th>0</th>\n",
       "      <td>220002</td>\n",
       "      <td>2022-01-28</td>\n",
       "      <td>0803-44</td>\n",
       "      <td>Mankato</td>\n",
       "      <td>Brown</td>\n",
       "      <td>LOCATED ON T.H. 14 FROM 490' WEST OF T.H. 71 T...</td>\n",
       "      <td>2</td>\n",
       "      <td>2020</td>\n",
       "    </tr>\n",
       "  </tbody>\n",
       "</table>\n",
       "</div>"
      ],
      "text/plain": [
       "       id letting_date sp_number district county  \\\n",
       "0  220002   2022-01-28   0803-44  Mankato  Brown   \n",
       "\n",
       "                                         description  winning_bidder_id  \\\n",
       "0  LOCATED ON T.H. 14 FROM 490' WEST OF T.H. 71 T...                  2   \n",
       "\n",
       "  spec_year  \n",
       "0      2020  "
      ]
     },
     "execution_count": 10,
     "metadata": {},
     "output_type": "execute_result"
    }
   ],
   "source": [
    "out_df[\"winning_bidder_id\"] = 2\n",
    "out_df[\"spec_year\"] = \"2020\"\n",
    "out_df[\"spec_year\"] = out_df[\"spec_year\"].astype(DType.STRING)\n",
    "out_df.head()"
   ]
  },
  {
   "cell_type": "code",
   "execution_count": 11,
   "metadata": {},
   "outputs": [
    {
     "name": "stdout",
     "output_type": "stream",
     "text": [
      "<class 'pandas.core.frame.DataFrame'>\n",
      "RangeIndex: 1 entries, 0 to 0\n",
      "Data columns (total 8 columns):\n",
      " #   Column             Non-Null Count  Dtype         \n",
      "---  ------             --------------  -----         \n",
      " 0   id                 1 non-null      int64         \n",
      " 1   letting_date       1 non-null      datetime64[ns]\n",
      " 2   sp_number          1 non-null      string        \n",
      " 3   district           1 non-null      string        \n",
      " 4   county             1 non-null      string        \n",
      " 5   description        1 non-null      string        \n",
      " 6   winning_bidder_id  1 non-null      int64         \n",
      " 7   spec_year          1 non-null      string        \n",
      "dtypes: datetime64[ns](1), int64(2), string(5)\n",
      "memory usage: 192.0 bytes\n"
     ]
    }
   ],
   "source": [
    "out_df.info()"
   ]
  },
  {
   "cell_type": "code",
   "execution_count": 12,
   "metadata": {},
   "outputs": [
    {
     "data": {
      "text/html": [
       "<div>\n",
       "<style scoped>\n",
       "    .dataframe tbody tr th:only-of-type {\n",
       "        vertical-align: middle;\n",
       "    }\n",
       "\n",
       "    .dataframe tbody tr th {\n",
       "        vertical-align: top;\n",
       "    }\n",
       "\n",
       "    .dataframe thead th {\n",
       "        text-align: right;\n",
       "    }\n",
       "</style>\n",
       "<table border=\"1\" class=\"dataframe\">\n",
       "  <thead>\n",
       "    <tr style=\"text-align: right;\">\n",
       "      <th></th>\n",
       "      <th>id</th>\n",
       "      <th>letting_date</th>\n",
       "      <th>sp_number</th>\n",
       "      <th>district</th>\n",
       "      <th>county</th>\n",
       "      <th>description</th>\n",
       "      <th>winning_bidder_id</th>\n",
       "      <th>spec_year</th>\n",
       "    </tr>\n",
       "  </thead>\n",
       "  <tbody>\n",
       "    <tr>\n",
       "      <th>0</th>\n",
       "      <td>220002</td>\n",
       "      <td>2022-01-28</td>\n",
       "      <td>0803-44</td>\n",
       "      <td>Mankato</td>\n",
       "      <td>Brown</td>\n",
       "      <td>LOCATED ON T.H. 14 FROM 490' WEST OF T.H. 71 T...</td>\n",
       "      <td>2</td>\n",
       "      <td>2020</td>\n",
       "    </tr>\n",
       "  </tbody>\n",
       "</table>\n",
       "</div>"
      ],
      "text/plain": [
       "       id letting_date sp_number district county  \\\n",
       "0  220002   2022-01-28   0803-44  Mankato  Brown   \n",
       "\n",
       "                                         description  winning_bidder_id  \\\n",
       "0  LOCATED ON T.H. 14 FROM 490' WEST OF T.H. 71 T...                  2   \n",
       "\n",
       "  spec_year  \n",
       "0      2020  "
      ]
     },
     "execution_count": 12,
     "metadata": {},
     "output_type": "execute_result"
    }
   ],
   "source": [
    "from mndot_bid_etl.transform import contract\n",
    "\n",
    "transformed_contract_df = contract.transform_contract(abstract_data.contract_df, 2, \"2020\")\n",
    "transformed_contract_df.head()"
   ]
  },
  {
   "cell_type": "code",
   "execution_count": 13,
   "metadata": {},
   "outputs": [
    {
     "name": "stdout",
     "output_type": "stream",
     "text": [
      "<class 'pandas.core.frame.DataFrame'>\n",
      "RangeIndex: 1 entries, 0 to 0\n",
      "Data columns (total 8 columns):\n",
      " #   Column             Non-Null Count  Dtype         \n",
      "---  ------             --------------  -----         \n",
      " 0   id                 1 non-null      int64         \n",
      " 1   letting_date       1 non-null      datetime64[ns]\n",
      " 2   sp_number          1 non-null      string        \n",
      " 3   district           1 non-null      string        \n",
      " 4   county             1 non-null      string        \n",
      " 5   description        1 non-null      string        \n",
      " 6   winning_bidder_id  1 non-null      int64         \n",
      " 7   spec_year          1 non-null      string        \n",
      "dtypes: datetime64[ns](1), int64(2), string(5)\n",
      "memory usage: 192.0 bytes\n"
     ]
    }
   ],
   "source": [
    "transformed_contract_df.info()"
   ]
  },
  {
   "cell_type": "code",
   "execution_count": null,
   "metadata": {},
   "outputs": [],
   "source": []
  }
 ],
 "metadata": {
  "kernelspec": {
   "display_name": "Python 3.10.8 64-bit",
   "language": "python",
   "name": "python3"
  },
  "language_info": {
   "codemirror_mode": {
    "name": "ipython",
    "version": 3
   },
   "file_extension": ".py",
   "mimetype": "text/x-python",
   "name": "python",
   "nbconvert_exporter": "python",
   "pygments_lexer": "ipython3",
   "version": "3.10.8"
  },
  "orig_nbformat": 4,
  "vscode": {
   "interpreter": {
    "hash": "949777d72b0d2535278d3dc13498b2535136f6dfe0678499012e853ee9abcab1"
   }
  }
 },
 "nbformat": 4,
 "nbformat_minor": 2
}
