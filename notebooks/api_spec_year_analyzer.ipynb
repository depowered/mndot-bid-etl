{
 "cells": [
  {
   "cell_type": "code",
   "execution_count": 30,
   "metadata": {},
   "outputs": [],
   "source": [
    "import sys\n",
    "sys.path.append(\"..\")\n",
    "\n",
    "from pathlib import Path\n",
    "import pandas as pd\n",
    "\n",
    "from mndot_bid_etl.reader.abstract import create_abstract_data_from_csv\n",
    "from mndot_bid_etl.reader.item import create_item_data_from_csv\n",
    "from mndot_bid_etl.transform.functional.transform_bid import transform_bid_df\n",
    "from mndot_bid_etl.transform.functional.transform_bidder import transform_bidder_df\n",
    "from mndot_bid_etl.transform.functional.transform_contract import transform_contract_df"
   ]
  },
  {
   "cell_type": "code",
   "execution_count": 31,
   "metadata": {},
   "outputs": [],
   "source": [
    "abstract_data = create_abstract_data_from_csv(Path(\"../data/csv/2021/210022.csv\").resolve())\n",
    "\n",
    "item_data_2020 = create_item_data_from_csv(Path(\"../data/csv/item_list_2020.csv\").resolve())\n",
    "item_data_2018 = create_item_data_from_csv(Path(\"../data/csv/item_list_2018.csv\").resolve())\n",
    "item_data_2016 = create_item_data_from_csv(Path(\"../data/csv/item_list_2016.csv\").resolve())"
   ]
  },
  {
   "cell_type": "code",
   "execution_count": 32,
   "metadata": {},
   "outputs": [],
   "source": [
    "from mndot_bid_etl.transform import item\n",
    "\n",
    "df_2020 = item.transform_item(item_data_2020.df)\n",
    "df_2018 = item.transform_item(item_data_2018.df)\n",
    "df_2016 = item.transform_item(item_data_2016.df)"
   ]
  },
  {
   "cell_type": "code",
   "execution_count": 33,
   "metadata": {},
   "outputs": [
    {
     "data": {
      "text/html": [
       "<div>\n",
       "<style scoped>\n",
       "    .dataframe tbody tr th:only-of-type {\n",
       "        vertical-align: middle;\n",
       "    }\n",
       "\n",
       "    .dataframe tbody tr th {\n",
       "        vertical-align: top;\n",
       "    }\n",
       "\n",
       "    .dataframe thead th {\n",
       "        text-align: right;\n",
       "    }\n",
       "</style>\n",
       "<table border=\"1\" class=\"dataframe\">\n",
       "  <thead>\n",
       "    <tr style=\"text-align: right;\">\n",
       "      <th></th>\n",
       "      <th>2016</th>\n",
       "      <th>2018</th>\n",
       "      <th>2020</th>\n",
       "    </tr>\n",
       "    <tr>\n",
       "      <th>merged_id</th>\n",
       "      <th></th>\n",
       "      <th></th>\n",
       "      <th></th>\n",
       "    </tr>\n",
       "  </thead>\n",
       "  <tbody>\n",
       "    <tr>\n",
       "      <th>2011_601_00003_CONSTRUCTION SURVEYING</th>\n",
       "      <td>True</td>\n",
       "      <td>True</td>\n",
       "      <td>True</td>\n",
       "    </tr>\n",
       "    <tr>\n",
       "      <th>2011_601_00010_VIBRATION MONITORING</th>\n",
       "      <td>True</td>\n",
       "      <td>True</td>\n",
       "      <td>True</td>\n",
       "    </tr>\n",
       "    <tr>\n",
       "      <th>2011_601_00015_SCOUR MONITORING</th>\n",
       "      <td>True</td>\n",
       "      <td>True</td>\n",
       "      <td>True</td>\n",
       "    </tr>\n",
       "    <tr>\n",
       "      <th>2011_601_00020_REVISED BRIDGE PLANS</th>\n",
       "      <td>True</td>\n",
       "      <td>True</td>\n",
       "      <td>True</td>\n",
       "    </tr>\n",
       "    <tr>\n",
       "      <th>2011_601_00040_DESIGN</th>\n",
       "      <td>True</td>\n",
       "      <td>False</td>\n",
       "      <td>False</td>\n",
       "    </tr>\n",
       "  </tbody>\n",
       "</table>\n",
       "</div>"
      ],
      "text/plain": [
       "                                       2016   2018   2020\n",
       "merged_id                                                \n",
       "2011_601_00003_CONSTRUCTION SURVEYING  True   True   True\n",
       "2011_601_00010_VIBRATION MONITORING    True   True   True\n",
       "2011_601_00015_SCOUR MONITORING        True   True   True\n",
       "2011_601_00020_REVISED BRIDGE PLANS    True   True   True\n",
       "2011_601_00040_DESIGN                  True  False  False"
      ]
     },
     "execution_count": 33,
     "metadata": {},
     "output_type": "execute_result"
    }
   ],
   "source": [
    "from mndot_bid_etl.transform import spec_year\n",
    "\n",
    "matrix = spec_year.create_spec_year_matrix([df_2016, df_2018, df_2020])\n",
    "matrix.head()"
   ]
  },
  {
   "cell_type": "code",
   "execution_count": 34,
   "metadata": {},
   "outputs": [],
   "source": [
    "df = abstract_data.bid_df"
   ]
  },
  {
   "cell_type": "code",
   "execution_count": 35,
   "metadata": {},
   "outputs": [
    {
     "data": {
      "text/html": [
       "<div>\n",
       "<style scoped>\n",
       "    .dataframe tbody tr th:only-of-type {\n",
       "        vertical-align: middle;\n",
       "    }\n",
       "\n",
       "    .dataframe tbody tr th {\n",
       "        vertical-align: top;\n",
       "    }\n",
       "\n",
       "    .dataframe thead th {\n",
       "        text-align: right;\n",
       "    }\n",
       "</style>\n",
       "<table border=\"1\" class=\"dataframe\">\n",
       "  <thead>\n",
       "    <tr style=\"text-align: right;\">\n",
       "      <th></th>\n",
       "      <th>ContractId</th>\n",
       "      <th>SectionDescription</th>\n",
       "      <th>LineNumber</th>\n",
       "      <th>ItemNumber</th>\n",
       "      <th>ItemDescription</th>\n",
       "      <th>UnitPrice</th>\n",
       "      <th>Quantity</th>\n",
       "      <th>UnitName</th>\n",
       "      <th>Engineers (Unit Price)</th>\n",
       "      <th>Engineers (Extended Amount)</th>\n",
       "      <th>0000203941 (Unit Price)</th>\n",
       "      <th>0000203941 (Extension)</th>\n",
       "      <th>0000211900 (Unit Price)</th>\n",
       "      <th>0000211900 (Extension)</th>\n",
       "    </tr>\n",
       "  </thead>\n",
       "  <tbody>\n",
       "    <tr>\n",
       "      <th>0</th>\n",
       "      <td>210022</td>\n",
       "      <td>0001 -  SP 8825-837 (90% NHPP/ 10% STATE)</td>\n",
       "      <td>0005</td>\n",
       "      <td>2011601/01000</td>\n",
       "      <td>AS BUILT</td>\n",
       "      <td>7500</td>\n",
       "      <td>1</td>\n",
       "      <td>LS</td>\n",
       "      <td>7500</td>\n",
       "      <td>7500</td>\n",
       "      <td>$8,000.00</td>\n",
       "      <td>$8,000.00</td>\n",
       "      <td>$8,750.00</td>\n",
       "      <td>$8,750.00</td>\n",
       "    </tr>\n",
       "    <tr>\n",
       "      <th>1</th>\n",
       "      <td>210022</td>\n",
       "      <td>0001 -  SP 8825-837 (90% NHPP/ 10% STATE)</td>\n",
       "      <td>0010</td>\n",
       "      <td>2021501/00010</td>\n",
       "      <td>MOBILIZATION</td>\n",
       "      <td>45000</td>\n",
       "      <td>1</td>\n",
       "      <td>LS</td>\n",
       "      <td>45000</td>\n",
       "      <td>45000</td>\n",
       "      <td>$50,000.00</td>\n",
       "      <td>$50,000.00</td>\n",
       "      <td>$75,000.00</td>\n",
       "      <td>$75,000.00</td>\n",
       "    </tr>\n",
       "    <tr>\n",
       "      <th>2</th>\n",
       "      <td>210022</td>\n",
       "      <td>0001 -  SP 8825-837 (90% NHPP/ 10% STATE)</td>\n",
       "      <td>0015</td>\n",
       "      <td>2102503/00010</td>\n",
       "      <td>PAVEMENT MARKING REMOVAL</td>\n",
       "      <td>0.848330</td>\n",
       "      <td>7000</td>\n",
       "      <td>L F</td>\n",
       "      <td>0.848330</td>\n",
       "      <td>5938.31</td>\n",
       "      <td>$1.50</td>\n",
       "      <td>$10,500.00</td>\n",
       "      <td>$1.00</td>\n",
       "      <td>$7,000.00</td>\n",
       "    </tr>\n",
       "    <tr>\n",
       "      <th>3</th>\n",
       "      <td>210022</td>\n",
       "      <td>0001 -  SP 8825-837 (90% NHPP/ 10% STATE)</td>\n",
       "      <td>0020</td>\n",
       "      <td>2104502/01240</td>\n",
       "      <td>REMOVE SIGN TYPE C</td>\n",
       "      <td>61.310210</td>\n",
       "      <td>5</td>\n",
       "      <td>EACH</td>\n",
       "      <td>61.310210</td>\n",
       "      <td>306.551050</td>\n",
       "      <td>$85.00</td>\n",
       "      <td>$425.00</td>\n",
       "      <td>$75.00</td>\n",
       "      <td>$375.00</td>\n",
       "    </tr>\n",
       "    <tr>\n",
       "      <th>4</th>\n",
       "      <td>210022</td>\n",
       "      <td>0001 -  SP 8825-837 (90% NHPP/ 10% STATE)</td>\n",
       "      <td>0025</td>\n",
       "      <td>2104502/01270</td>\n",
       "      <td>REMOVE SIGN TYPE EO</td>\n",
       "      <td>200</td>\n",
       "      <td>1</td>\n",
       "      <td>EACH</td>\n",
       "      <td>200</td>\n",
       "      <td>200</td>\n",
       "      <td>$100.00</td>\n",
       "      <td>$100.00</td>\n",
       "      <td>$300.00</td>\n",
       "      <td>$300.00</td>\n",
       "    </tr>\n",
       "  </tbody>\n",
       "</table>\n",
       "</div>"
      ],
      "text/plain": [
       "  ContractId                         SectionDescription LineNumber  \\\n",
       "0     210022  0001 -  SP 8825-837 (90% NHPP/ 10% STATE)       0005   \n",
       "1     210022  0001 -  SP 8825-837 (90% NHPP/ 10% STATE)       0010   \n",
       "2     210022  0001 -  SP 8825-837 (90% NHPP/ 10% STATE)       0015   \n",
       "3     210022  0001 -  SP 8825-837 (90% NHPP/ 10% STATE)       0020   \n",
       "4     210022  0001 -  SP 8825-837 (90% NHPP/ 10% STATE)       0025   \n",
       "\n",
       "      ItemNumber           ItemDescription  UnitPrice Quantity UnitName  \\\n",
       "0  2011601/01000                  AS BUILT       7500        1       LS   \n",
       "1  2021501/00010              MOBILIZATION      45000        1       LS   \n",
       "2  2102503/00010  PAVEMENT MARKING REMOVAL   0.848330     7000      L F   \n",
       "3  2104502/01240        REMOVE SIGN TYPE C  61.310210        5     EACH   \n",
       "4  2104502/01270       REMOVE SIGN TYPE EO        200        1     EACH   \n",
       "\n",
       "  Engineers (Unit Price) Engineers (Extended Amount) 0000203941 (Unit Price)   \\\n",
       "0                   7500                        7500                $8,000.00   \n",
       "1                  45000                       45000               $50,000.00   \n",
       "2               0.848330                     5938.31                    $1.50   \n",
       "3              61.310210                  306.551050                   $85.00   \n",
       "4                    200                         200                  $100.00   \n",
       "\n",
       "  0000203941 (Extension)   0000211900 (Unit Price)  0000211900 (Extension)    \n",
       "0                $8,000.00                $8,750.00                $8,750.00  \n",
       "1               $50,000.00               $75,000.00               $75,000.00  \n",
       "2               $10,500.00                    $1.00                $7,000.00  \n",
       "3                  $425.00                   $75.00                  $375.00  \n",
       "4                  $100.00                  $300.00                  $300.00  "
      ]
     },
     "execution_count": 35,
     "metadata": {},
     "output_type": "execute_result"
    }
   ],
   "source": [
    "df.head()"
   ]
  },
  {
   "cell_type": "code",
   "execution_count": 36,
   "metadata": {},
   "outputs": [
    {
     "data": {
      "text/plain": [
       "(78, 14)"
      ]
     },
     "execution_count": 36,
     "metadata": {},
     "output_type": "execute_result"
    }
   ],
   "source": [
    "df.shape"
   ]
  },
  {
   "cell_type": "code",
   "execution_count": 37,
   "metadata": {},
   "outputs": [
    {
     "data": {
      "text/html": [
       "<div>\n",
       "<style scoped>\n",
       "    .dataframe tbody tr th:only-of-type {\n",
       "        vertical-align: middle;\n",
       "    }\n",
       "\n",
       "    .dataframe tbody tr th {\n",
       "        vertical-align: top;\n",
       "    }\n",
       "\n",
       "    .dataframe thead th {\n",
       "        text-align: right;\n",
       "    }\n",
       "</style>\n",
       "<table border=\"1\" class=\"dataframe\">\n",
       "  <thead>\n",
       "    <tr style=\"text-align: right;\">\n",
       "      <th></th>\n",
       "    </tr>\n",
       "    <tr>\n",
       "      <th>merged_id</th>\n",
       "    </tr>\n",
       "  </thead>\n",
       "  <tbody>\n",
       "    <tr>\n",
       "      <th>2011_601_01000_AS BUILT</th>\n",
       "    </tr>\n",
       "    <tr>\n",
       "      <th>2021_501_00010_MOBILIZATION</th>\n",
       "    </tr>\n",
       "    <tr>\n",
       "      <th>2102_503_00010_PAVEMENT MARKING REMOVAL</th>\n",
       "    </tr>\n",
       "    <tr>\n",
       "      <th>2104_502_01240_REMOVE SIGN TYPE C</th>\n",
       "    </tr>\n",
       "    <tr>\n",
       "      <th>2104_502_01270_REMOVE SIGN TYPE EO</th>\n",
       "    </tr>\n",
       "  </tbody>\n",
       "</table>\n",
       "</div>"
      ],
      "text/plain": [
       "Empty DataFrame\n",
       "Columns: []\n",
       "Index: [2011_601_01000_AS BUILT, 2021_501_00010_MOBILIZATION, 2102_503_00010_PAVEMENT MARKING REMOVAL, 2104_502_01240_REMOVE SIGN TYPE C, 2104_502_01270_REMOVE SIGN TYPE EO]"
      ]
     },
     "execution_count": 37,
     "metadata": {},
     "output_type": "execute_result"
    }
   ],
   "source": [
    "import pandas as pd\n",
    "\n",
    "def format_long_description(long_description: str) -> str:\n",
    "    return long_description.strip().replace(\"''\", '\"')\n",
    "\n",
    "\n",
    "abstract_items_df = pd.DataFrame()\n",
    "\n",
    "abstract_items_df[\"merged_id\"] = (\n",
    "    df[\"ItemNumber\"].str.slice(0, 4)\n",
    "    + \"_\"\n",
    "    + df[\"ItemNumber\"].str.slice(4,7)\n",
    "    + \"_\"\n",
    "    + df[\"ItemNumber\"].str.slice(8)\n",
    "    + \"_\"\n",
    "    + df[\"ItemDescription\"].apply(format_long_description)\n",
    ")\n",
    "abstract_items_df.set_index(\"merged_id\", inplace=True)\n",
    "abstract_items_df.head()"
   ]
  },
  {
   "cell_type": "code",
   "execution_count": 51,
   "metadata": {},
   "outputs": [
    {
     "name": "stdout",
     "output_type": "stream",
     "text": [
      "<class 'pandas.core.frame.DataFrame'>\n",
      "Index: 78 entries, 2011_601_01000_AS BUILT to 2582_518_04070_PAVEMENT MESSAGE PREFORM THERMOPLASTIC GROUND IN CONTRAST ENHANCED SKID RESISTANCE\n",
      "Empty DataFrame\n"
     ]
    }
   ],
   "source": [
    "abstract_items_df."
   ]
  },
  {
   "cell_type": "code",
   "execution_count": 52,
   "metadata": {},
   "outputs": [
    {
     "name": "stdout",
     "output_type": "stream",
     "text": [
      "<class 'pandas.core.frame.DataFrame'>\n",
      "Index: 78 entries, 2011_601_01000_AS BUILT to 2582_518_04070_PAVEMENT MESSAGE PREFORM THERMOPLASTIC GROUND IN CONTRAST ENHANCED SKID RESISTANCE\n",
      "Data columns (total 4 columns):\n",
      " #   Column  Non-Null Count  Dtype   \n",
      "---  ------  --------------  -----   \n",
      " 0   2016    77 non-null     object  \n",
      " 1   2018    77 non-null     object  \n",
      " 2   2020    77 non-null     object  \n",
      " 3   _merge  78 non-null     category\n",
      "dtypes: category(1), object(3)\n",
      "memory usage: 2.6+ KB\n"
     ]
    }
   ],
   "source": [
    "merged_df = abstract_items_df.merge(matrix, how=\"left\", on=\"merged_id\", indicator=True)\n",
    "merged_df.info()"
   ]
  },
  {
   "cell_type": "code",
   "execution_count": 54,
   "metadata": {},
   "outputs": [
    {
     "data": {
      "text/html": [
       "<div>\n",
       "<style scoped>\n",
       "    .dataframe tbody tr th:only-of-type {\n",
       "        vertical-align: middle;\n",
       "    }\n",
       "\n",
       "    .dataframe tbody tr th {\n",
       "        vertical-align: top;\n",
       "    }\n",
       "\n",
       "    .dataframe thead th {\n",
       "        text-align: right;\n",
       "    }\n",
       "</style>\n",
       "<table border=\"1\" class=\"dataframe\">\n",
       "  <thead>\n",
       "    <tr style=\"text-align: right;\">\n",
       "      <th></th>\n",
       "      <th>2016</th>\n",
       "      <th>2018</th>\n",
       "      <th>2020</th>\n",
       "      <th>_merge</th>\n",
       "    </tr>\n",
       "    <tr>\n",
       "      <th>merged_id</th>\n",
       "      <th></th>\n",
       "      <th></th>\n",
       "      <th></th>\n",
       "      <th></th>\n",
       "    </tr>\n",
       "  </thead>\n",
       "  <tbody>\n",
       "    <tr>\n",
       "      <th>2211_507_00200_AGGREGATE BASE (CV) CLASS 5Q</th>\n",
       "      <td>NaN</td>\n",
       "      <td>NaN</td>\n",
       "      <td>NaN</td>\n",
       "      <td>left_only</td>\n",
       "    </tr>\n",
       "  </tbody>\n",
       "</table>\n",
       "</div>"
      ],
      "text/plain": [
       "                                            2016 2018 2020     _merge\n",
       "merged_id                                                            \n",
       "2211_507_00200_AGGREGATE BASE (CV) CLASS 5Q  NaN  NaN  NaN  left_only"
      ]
     },
     "execution_count": 54,
     "metadata": {},
     "output_type": "execute_result"
    }
   ],
   "source": [
    "merged_df[merged_df[\"_merge\"] != \"both\"]"
   ]
  },
  {
   "cell_type": "code",
   "execution_count": 40,
   "metadata": {},
   "outputs": [
    {
     "data": {
      "text/html": [
       "<div>\n",
       "<style scoped>\n",
       "    .dataframe tbody tr th:only-of-type {\n",
       "        vertical-align: middle;\n",
       "    }\n",
       "\n",
       "    .dataframe tbody tr th {\n",
       "        vertical-align: top;\n",
       "    }\n",
       "\n",
       "    .dataframe thead th {\n",
       "        text-align: right;\n",
       "    }\n",
       "</style>\n",
       "<table border=\"1\" class=\"dataframe\">\n",
       "  <thead>\n",
       "    <tr style=\"text-align: right;\">\n",
       "      <th></th>\n",
       "      <th>2016</th>\n",
       "      <th>2018</th>\n",
       "      <th>2020</th>\n",
       "    </tr>\n",
       "    <tr>\n",
       "      <th>merged_id</th>\n",
       "      <th></th>\n",
       "      <th></th>\n",
       "      <th></th>\n",
       "    </tr>\n",
       "  </thead>\n",
       "  <tbody>\n",
       "  </tbody>\n",
       "</table>\n",
       "</div>"
      ],
      "text/plain": [
       "Empty DataFrame\n",
       "Columns: [2016, 2018, 2020]\n",
       "Index: []"
      ]
     },
     "execution_count": 40,
     "metadata": {},
     "output_type": "execute_result"
    }
   ],
   "source": [
    "merged_df[merged_df[\"2018\"] == False]"
   ]
  },
  {
   "cell_type": "code",
   "execution_count": 41,
   "metadata": {},
   "outputs": [
    {
     "data": {
      "text/plain": [
       "['2016', '2018', '2020']"
      ]
     },
     "execution_count": 41,
     "metadata": {},
     "output_type": "execute_result"
    }
   ],
   "source": [
    "merged_df.columns.to_list()"
   ]
  },
  {
   "cell_type": "code",
   "execution_count": 42,
   "metadata": {},
   "outputs": [
    {
     "data": {
      "text/plain": [
       "6"
      ]
     },
     "execution_count": 42,
     "metadata": {},
     "output_type": "execute_result"
    }
   ],
   "source": [
    "count_2016 = merged_df[\"2016\"].value_counts()[True]\n",
    "count_2016"
   ]
  },
  {
   "cell_type": "code",
   "execution_count": 43,
   "metadata": {},
   "outputs": [
    {
     "data": {
      "text/plain": [
       "77"
      ]
     },
     "execution_count": 43,
     "metadata": {},
     "output_type": "execute_result"
    }
   ],
   "source": [
    "count_2018 = merged_df[\"2018\"].value_counts()[True]\n",
    "count_2018"
   ]
  },
  {
   "cell_type": "code",
   "execution_count": 44,
   "metadata": {},
   "outputs": [
    {
     "data": {
      "text/plain": [
       "76"
      ]
     },
     "execution_count": 44,
     "metadata": {},
     "output_type": "execute_result"
    }
   ],
   "source": [
    "count_2020 = merged_df[\"2020\"].value_counts()[True]\n",
    "count_2020"
   ]
  },
  {
   "cell_type": "code",
   "execution_count": 45,
   "metadata": {},
   "outputs": [
    {
     "data": {
      "text/plain": [
       "'2018'"
      ]
     },
     "execution_count": 45,
     "metadata": {},
     "output_type": "execute_result"
    }
   ],
   "source": [
    "test = {\"2016\": 100, \"2018\": 101, \"2020\": 101}\n",
    "max(test, key=test.get)"
   ]
  },
  {
   "cell_type": "code",
   "execution_count": 46,
   "metadata": {},
   "outputs": [
    {
     "data": {
      "text/plain": [
       "\"{'item_count': 78, '2016_matches': 6, '2018_matches': 77, '2020_matches': 76}\""
      ]
     },
     "execution_count": 46,
     "metadata": {},
     "output_type": "execute_result"
    }
   ],
   "source": [
    "estimated_spec_year = spec_year.determine_contract_spec_year(matrix, abstract_data.bid_df)\n",
    "estimated_spec_year"
   ]
  },
  {
   "cell_type": "code",
   "execution_count": null,
   "metadata": {},
   "outputs": [],
   "source": []
  }
 ],
 "metadata": {
  "kernelspec": {
   "display_name": "Python 3.10.8 64-bit",
   "language": "python",
   "name": "python3"
  },
  "language_info": {
   "codemirror_mode": {
    "name": "ipython",
    "version": 3
   },
   "file_extension": ".py",
   "mimetype": "text/x-python",
   "name": "python",
   "nbconvert_exporter": "python",
   "pygments_lexer": "ipython3",
   "version": "3.10.8"
  },
  "orig_nbformat": 4,
  "vscode": {
   "interpreter": {
    "hash": "949777d72b0d2535278d3dc13498b2535136f6dfe0678499012e853ee9abcab1"
   }
  }
 },
 "nbformat": 4,
 "nbformat_minor": 2
}
