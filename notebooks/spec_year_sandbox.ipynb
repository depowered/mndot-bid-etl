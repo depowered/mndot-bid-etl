{
 "cells": [
  {
   "cell_type": "code",
   "execution_count": 1,
   "metadata": {},
   "outputs": [],
   "source": [
    "import numpy as np\n",
    "import pandas as pd\n",
    "from pathlib import Path\n",
    "\n",
    "from mndot_bid_etl.transform.item_list import generate_item_list"
   ]
  },
  {
   "cell_type": "markdown",
   "metadata": {},
   "source": [
    "#### Load Data"
   ]
  },
  {
   "cell_type": "code",
   "execution_count": 2,
   "metadata": {},
   "outputs": [],
   "source": [
    "item_list_2016_csv = Path(\"../data/csv/item_list_2016.csv\")\n",
    "item_list_2018_csv = Path(\"../data/csv/item_list_2018.csv\")\n",
    "item_list_2020_csv = Path(\"../data/csv/item_list_2020.csv\")\n",
    "\n",
    "item_list = generate_item_list(item_list_2016_csv, item_list_2018_csv, item_list_2020_csv)"
   ]
  },
  {
   "cell_type": "code",
   "execution_count": 3,
   "metadata": {},
   "outputs": [],
   "source": [
    "transformed_item_list_2016_csv = Path(\"../data/csv/transformed_item_list_2016.csv\").resolve()\n",
    "transformed_item_list_2018_csv = Path(\"../data/csv/transformed_item_list_2018.csv\").resolve()\n",
    "transformed_item_list_2020_csv = Path(\"../data/csv/transformed_item_list_2020.csv\").resolve()\n",
    "\n",
    "with open(transformed_item_list_2016_csv, \"w\") as f:\n",
    "    item_list.item_2016_df.to_csv(f, quotechar=\"'\")\n",
    "with open(transformed_item_list_2018_csv, \"w\") as f:\n",
    "    item_list.item_2018_df.to_csv(f, quotechar=\"'\")\n",
    "with open(transformed_item_list_2020_csv, \"w\") as f:\n",
    "    item_list.item_2020_df.to_csv(f, quotechar=\"'\")"
   ]
  },
  {
   "cell_type": "code",
   "execution_count": 4,
   "metadata": {},
   "outputs": [
    {
     "name": "stdout",
     "output_type": "stream",
     "text": [
      "<class 'pandas.core.frame.DataFrame'>\n",
      "RangeIndex: 7713 entries, 0 to 7712\n",
      "Data columns (total 6 columns):\n",
      " #   Column            Non-Null Count  Dtype \n",
      "---  ------            --------------  ----- \n",
      " 0   id                7713 non-null   string\n",
      " 1   description       7713 non-null   string\n",
      " 2   long_description  7713 non-null   string\n",
      " 3   unit              7713 non-null   string\n",
      " 4   unit_description  7713 non-null   string\n",
      " 5   spec_year         7713 non-null   string\n",
      "dtypes: string(6)\n",
      "memory usage: 361.7 KB\n"
     ]
    }
   ],
   "source": [
    "item_list.item_2016_df.info()\n",
    "# item_list.item_2016_df.astype(\"string\").info()"
   ]
  },
  {
   "cell_type": "code",
   "execution_count": 5,
   "metadata": {},
   "outputs": [
    {
     "name": "stdout",
     "output_type": "stream",
     "text": [
      "<class 'pandas.core.frame.DataFrame'>\n",
      "RangeIndex: 8032 entries, 0 to 8031\n",
      "Data columns (total 6 columns):\n",
      " #   Column            Non-Null Count  Dtype \n",
      "---  ------            --------------  ----- \n",
      " 0   id                8032 non-null   string\n",
      " 1   description       8032 non-null   string\n",
      " 2   long_description  8032 non-null   string\n",
      " 3   unit              8032 non-null   string\n",
      " 4   unit_description  8032 non-null   string\n",
      " 5   spec_year         8032 non-null   string\n",
      "dtypes: string(6)\n",
      "memory usage: 376.6 KB\n"
     ]
    }
   ],
   "source": [
    "item_list.item_2018_df.info()"
   ]
  },
  {
   "cell_type": "code",
   "execution_count": 6,
   "metadata": {},
   "outputs": [
    {
     "name": "stdout",
     "output_type": "stream",
     "text": [
      "<class 'pandas.core.frame.DataFrame'>\n",
      "RangeIndex: 8034 entries, 0 to 8033\n",
      "Data columns (total 6 columns):\n",
      " #   Column            Non-Null Count  Dtype \n",
      "---  ------            --------------  ----- \n",
      " 0   id                8034 non-null   string\n",
      " 1   description       8034 non-null   string\n",
      " 2   long_description  8034 non-null   string\n",
      " 3   unit              8034 non-null   string\n",
      " 4   unit_description  8034 non-null   string\n",
      " 5   spec_year         8034 non-null   string\n",
      "dtypes: string(6)\n",
      "memory usage: 376.7 KB\n"
     ]
    }
   ],
   "source": [
    "item_list.item_2020_df.info()"
   ]
  },
  {
   "cell_type": "markdown",
   "metadata": {},
   "source": [
    "#### ID Matrix"
   ]
  },
  {
   "cell_type": "code",
   "execution_count": 7,
   "metadata": {},
   "outputs": [
    {
     "name": "stdout",
     "output_type": "stream",
     "text": [
      "<class 'pandas.core.frame.DataFrame'>\n",
      "Index: 8034 entries, 2011.601/00003 to 2999.501/00010\n",
      "Data columns (total 1 columns):\n",
      " #   Column      Non-Null Count  Dtype\n",
      "---  ------      --------------  -----\n",
      " 0   is_in_2020  8034 non-null   bool \n",
      "dtypes: bool(1)\n",
      "memory usage: 70.6 KB\n"
     ]
    }
   ],
   "source": [
    "item_2020_ids = pd.DataFrame(index=item_list.item_2020_df[\"id\"]).assign(is_in_2020=True)\n",
    "item_2020_ids.info()"
   ]
  },
  {
   "cell_type": "code",
   "execution_count": 8,
   "metadata": {},
   "outputs": [
    {
     "name": "stdout",
     "output_type": "stream",
     "text": [
      "<class 'pandas.core.frame.DataFrame'>\n",
      "Index: 8032 entries, 2011.601/00003 to 2999.501/00010\n",
      "Data columns (total 1 columns):\n",
      " #   Column      Non-Null Count  Dtype\n",
      "---  ------      --------------  -----\n",
      " 0   is_in_2018  8032 non-null   bool \n",
      "dtypes: bool(1)\n",
      "memory usage: 70.6 KB\n"
     ]
    }
   ],
   "source": [
    "item_2018_ids = pd.DataFrame(index=item_list.item_2018_df[\"id\"]).assign(is_in_2018=True)\n",
    "item_2018_ids.info()"
   ]
  },
  {
   "cell_type": "code",
   "execution_count": 9,
   "metadata": {},
   "outputs": [
    {
     "name": "stdout",
     "output_type": "stream",
     "text": [
      "<class 'pandas.core.frame.DataFrame'>\n",
      "Index: 7713 entries, 2011.601/00003 to 2999.509/00001\n",
      "Data columns (total 1 columns):\n",
      " #   Column      Non-Null Count  Dtype\n",
      "---  ------      --------------  -----\n",
      " 0   is_in_2016  7713 non-null   bool \n",
      "dtypes: bool(1)\n",
      "memory usage: 67.8 KB\n"
     ]
    }
   ],
   "source": [
    "item_2016_ids = pd.DataFrame(index=item_list.item_2016_df[\"id\"]).assign(is_in_2016=True)\n",
    "item_2016_ids.info()"
   ]
  },
  {
   "cell_type": "code",
   "execution_count": 10,
   "metadata": {},
   "outputs": [
    {
     "name": "stdout",
     "output_type": "stream",
     "text": [
      "<class 'pandas.core.frame.DataFrame'>\n",
      "Index: 14338 entries, 2011.601/00003 to 2999.509/00001\n",
      "Data columns (total 3 columns):\n",
      " #   Column      Non-Null Count  Dtype\n",
      "---  ------      --------------  -----\n",
      " 0   is_in_2016  14338 non-null  bool \n",
      " 1   is_in_2018  14338 non-null  bool \n",
      " 2   is_in_2020  14338 non-null  bool \n",
      "dtypes: bool(3)\n",
      "memory usage: 154.0+ KB\n"
     ]
    }
   ],
   "source": [
    "item_id_matrix = item_2016_ids.join(other=[item_2018_ids, item_2020_ids], how=\"outer\")\n",
    "item_id_matrix.fillna(value=False, inplace=True)\n",
    "item_id_matrix.sort_index(inplace=True)\n",
    "item_id_matrix.info()"
   ]
  },
  {
   "cell_type": "code",
   "execution_count": 11,
   "metadata": {},
   "outputs": [
    {
     "name": "stdout",
     "output_type": "stream",
     "text": [
      "<class 'pandas.core.frame.DataFrame'>\n",
      "Index: 14338 entries, 2011.601/00003 to 2999.509/00001\n",
      "Data columns (total 3 columns):\n",
      " #   Column      Non-Null Count  Dtype\n",
      "---  ------      --------------  -----\n",
      " 0   is_in_2016  14338 non-null  bool \n",
      " 1   is_in_2018  14338 non-null  bool \n",
      " 2   is_in_2020  14338 non-null  bool \n",
      "dtypes: bool(3)\n",
      "memory usage: 154.0+ KB\n"
     ]
    }
   ],
   "source": [
    "item_id_matrix_reindex = item_id_matrix[~item_id_matrix.index.duplicated()]\n",
    "item_id_matrix_reindex.info()"
   ]
  },
  {
   "cell_type": "code",
   "execution_count": 12,
   "metadata": {},
   "outputs": [],
   "source": [
    "with open(Path(\"../data/csv/item_id_matrix_dump.csv\"), \"w\") as f:\n",
    "    item_id_matrix.to_csv(f)"
   ]
  },
  {
   "cell_type": "markdown",
   "metadata": {},
   "source": [
    "#### Long Description Matrix"
   ]
  },
  {
   "cell_type": "code",
   "execution_count": 13,
   "metadata": {},
   "outputs": [
    {
     "name": "stdout",
     "output_type": "stream",
     "text": [
      "<class 'pandas.core.frame.DataFrame'>\n",
      "Index: 8034 entries, CONSTRUCTION SURVEYING to END TAPE\n",
      "Data columns (total 1 columns):\n",
      " #   Column      Non-Null Count  Dtype\n",
      "---  ------      --------------  -----\n",
      " 0   is_in_2020  8034 non-null   bool \n",
      "dtypes: bool(1)\n",
      "memory usage: 70.6 KB\n"
     ]
    }
   ],
   "source": [
    "item_2020_long_desc = pd.DataFrame(\n",
    "    index=item_list.item_2020_df[\"long_description\"]\n",
    ").assign(is_in_2020=True)\n",
    "item_2020_long_desc.info()"
   ]
  },
  {
   "cell_type": "code",
   "execution_count": 14,
   "metadata": {},
   "outputs": [
    {
     "name": "stdout",
     "output_type": "stream",
     "text": [
      "<class 'pandas.core.frame.DataFrame'>\n",
      "Index: 7459 entries, CONSTRUCTION SURVEYING to END TAPE\n",
      "Data columns (total 1 columns):\n",
      " #   Column      Non-Null Count  Dtype\n",
      "---  ------      --------------  -----\n",
      " 0   is_in_2020  7459 non-null   bool \n",
      "dtypes: bool(1)\n",
      "memory usage: 65.6 KB\n"
     ]
    }
   ],
   "source": [
    "item_2020_long_desc_reindex = item_2020_long_desc[~item_2020_long_desc.index.duplicated()]\n",
    "item_2020_long_desc_reindex.info()"
   ]
  },
  {
   "cell_type": "code",
   "execution_count": 15,
   "metadata": {},
   "outputs": [
    {
     "name": "stdout",
     "output_type": "stream",
     "text": [
      "<class 'pandas.core.frame.DataFrame'>\n",
      "Index: 8032 entries, CONSTRUCTION SURVEYING to END TAPE\n",
      "Data columns (total 1 columns):\n",
      " #   Column      Non-Null Count  Dtype\n",
      "---  ------      --------------  -----\n",
      " 0   is_in_2018  8032 non-null   bool \n",
      "dtypes: bool(1)\n",
      "memory usage: 70.6 KB\n"
     ]
    }
   ],
   "source": [
    "item_2018_long_desc = pd.DataFrame(\n",
    "    index=item_list.item_2018_df[\"long_description\"]\n",
    ").assign(is_in_2018=True)\n",
    "item_2018_long_desc.info()"
   ]
  },
  {
   "cell_type": "code",
   "execution_count": 16,
   "metadata": {},
   "outputs": [
    {
     "name": "stdout",
     "output_type": "stream",
     "text": [
      "<class 'pandas.core.frame.DataFrame'>\n",
      "Index: 7468 entries, CONSTRUCTION SURVEYING to END TAPE\n",
      "Data columns (total 1 columns):\n",
      " #   Column      Non-Null Count  Dtype\n",
      "---  ------      --------------  -----\n",
      " 0   is_in_2018  7468 non-null   bool \n",
      "dtypes: bool(1)\n",
      "memory usage: 65.6 KB\n"
     ]
    }
   ],
   "source": [
    "item_2018_long_desc_reindex = item_2018_long_desc[~item_2018_long_desc.index.duplicated()]\n",
    "item_2018_long_desc_reindex.info()"
   ]
  },
  {
   "cell_type": "code",
   "execution_count": 17,
   "metadata": {},
   "outputs": [
    {
     "name": "stdout",
     "output_type": "stream",
     "text": [
      "<class 'pandas.core.frame.DataFrame'>\n",
      "Index: 7713 entries, CONSTRUCTION SURVEYING to END TAPE\n",
      "Data columns (total 1 columns):\n",
      " #   Column      Non-Null Count  Dtype\n",
      "---  ------      --------------  -----\n",
      " 0   is_in_2016  7713 non-null   bool \n",
      "dtypes: bool(1)\n",
      "memory usage: 67.8 KB\n"
     ]
    }
   ],
   "source": [
    "item_2016_long_desc = pd.DataFrame(\n",
    "    index=item_list.item_2016_df[\"long_description\"]\n",
    ").assign(is_in_2016=True)\n",
    "item_2016_long_desc.info()"
   ]
  },
  {
   "cell_type": "code",
   "execution_count": 18,
   "metadata": {},
   "outputs": [
    {
     "name": "stdout",
     "output_type": "stream",
     "text": [
      "<class 'pandas.core.frame.DataFrame'>\n",
      "Index: 7201 entries, CONSTRUCTION SURVEYING to END TAPE\n",
      "Data columns (total 1 columns):\n",
      " #   Column      Non-Null Count  Dtype\n",
      "---  ------      --------------  -----\n",
      " 0   is_in_2016  7201 non-null   bool \n",
      "dtypes: bool(1)\n",
      "memory usage: 63.3 KB\n"
     ]
    }
   ],
   "source": [
    "item_2016_long_desc_reindex = item_2016_long_desc[~item_2016_long_desc.index.duplicated()]\n",
    "item_2016_long_desc_reindex.info()"
   ]
  },
  {
   "cell_type": "code",
   "execution_count": 19,
   "metadata": {},
   "outputs": [
    {
     "name": "stdout",
     "output_type": "stream",
     "text": [
      "<class 'pandas.core.frame.DataFrame'>\n",
      "Index: 164344 entries, 0.5 CU YD SHOVEL to YELLOW TUBE DELINEATORS\n",
      "Data columns (total 3 columns):\n",
      " #   Column      Non-Null Count   Dtype\n",
      "---  ------      --------------   -----\n",
      " 0   is_in_2016  164344 non-null  bool \n",
      " 1   is_in_2018  164344 non-null  bool \n",
      " 2   is_in_2020  164344 non-null  bool \n",
      "dtypes: bool(3)\n",
      "memory usage: 1.7 MB\n"
     ]
    }
   ],
   "source": [
    "item_long_desc_matrix = item_2016_long_desc.join(other=[item_2018_long_desc, item_2020_long_desc], how=\"outer\")\n",
    "item_long_desc_matrix.fillna(value=False, inplace=True)\n",
    "item_long_desc_matrix.info()"
   ]
  },
  {
   "cell_type": "code",
   "execution_count": 20,
   "metadata": {},
   "outputs": [
    {
     "name": "stdout",
     "output_type": "stream",
     "text": [
      "<class 'pandas.core.frame.DataFrame'>\n",
      "Index: 7988 entries, 0.5 CU YD SHOVEL to YELLOW TUBE DELINEATORS\n",
      "Data columns (total 3 columns):\n",
      " #   Column      Non-Null Count  Dtype\n",
      "---  ------      --------------  -----\n",
      " 0   is_in_2016  7988 non-null   bool \n",
      " 1   is_in_2018  7988 non-null   bool \n",
      " 2   is_in_2020  7988 non-null   bool \n",
      "dtypes: bool(3)\n",
      "memory usage: 85.8 KB\n"
     ]
    }
   ],
   "source": [
    "item_long_desc_matrix_reindex = item_long_desc_matrix[~item_long_desc_matrix.index.duplicated()]\n",
    "item_long_desc_matrix_reindex.info()"
   ]
  },
  {
   "cell_type": "code",
   "execution_count": 21,
   "metadata": {},
   "outputs": [
    {
     "name": "stdout",
     "output_type": "stream",
     "text": [
      "<class 'pandas.core.frame.DataFrame'>\n",
      "Index: 7988 entries, CONSTRUCTION SURVEYING to 12\" DOTTED LINE PREFORM THERMO GROUND IN CONT ESR\n",
      "Data columns (total 3 columns):\n",
      " #   Column      Non-Null Count  Dtype\n",
      "---  ------      --------------  -----\n",
      " 0   is_in_2016  7988 non-null   bool \n",
      " 1   is_in_2018  7988 non-null   bool \n",
      " 2   is_in_2020  7988 non-null   bool \n",
      "dtypes: bool(3)\n",
      "memory usage: 85.8+ KB\n"
     ]
    }
   ],
   "source": [
    "item_long_desc_matrix2 = item_2016_long_desc_reindex.join(other=[item_2018_long_desc_reindex, item_2020_long_desc_reindex], how=\"outer\")\n",
    "item_long_desc_matrix2.fillna(value=False, inplace=True)\n",
    "item_long_desc_matrix2.info()"
   ]
  },
  {
   "cell_type": "markdown",
   "metadata": {},
   "source": [
    "#### Combined ID & Long Description Matrix"
   ]
  },
  {
   "cell_type": "code",
   "execution_count": 22,
   "metadata": {},
   "outputs": [
    {
     "name": "stdout",
     "output_type": "stream",
     "text": [
      "<class 'pandas.core.frame.DataFrame'>\n",
      "Index: 8034 entries, 2011.601/00003 CONSTRUCTION SURVEYING to 2999.501/00010 END TAPE\n",
      "Data columns (total 1 columns):\n",
      " #   Column      Non-Null Count  Dtype\n",
      "---  ------      --------------  -----\n",
      " 0   is_in_2020  8034 non-null   bool \n",
      "dtypes: bool(1)\n",
      "memory usage: 70.6 KB\n"
     ]
    }
   ],
   "source": [
    "\n",
    "compound_id_2020 = item_list.item_2020_df[\"id\"] + \" \" + item_list.item_2020_df[\"long_description\"]\n",
    "compound_id_2020_df = pd.DataFrame(index=compound_id_2020).assign(is_in_2020=True)\n",
    "compound_id_2020_df.info()"
   ]
  },
  {
   "cell_type": "code",
   "execution_count": 23,
   "metadata": {},
   "outputs": [
    {
     "name": "stdout",
     "output_type": "stream",
     "text": [
      "<class 'pandas.core.frame.DataFrame'>\n",
      "Index: 8032 entries, 2011.601/00003 CONSTRUCTION SURVEYING to 2999.501/00010 END TAPE\n",
      "Data columns (total 1 columns):\n",
      " #   Column      Non-Null Count  Dtype\n",
      "---  ------      --------------  -----\n",
      " 0   is_in_2018  8032 non-null   bool \n",
      "dtypes: bool(1)\n",
      "memory usage: 70.6 KB\n"
     ]
    }
   ],
   "source": [
    "compound_id_2018 = item_list.item_2018_df[\"id\"] + \" \" + item_list.item_2018_df[\"long_description\"]\n",
    "compound_id_2018_df = pd.DataFrame(index=compound_id_2018).assign(is_in_2018=True)\n",
    "compound_id_2018_df.info()"
   ]
  },
  {
   "cell_type": "code",
   "execution_count": 24,
   "metadata": {},
   "outputs": [
    {
     "name": "stdout",
     "output_type": "stream",
     "text": [
      "<class 'pandas.core.frame.DataFrame'>\n",
      "Index: 7713 entries, 2011.601/00003 CONSTRUCTION SURVEYING to 2999.509/00001 END TAPE\n",
      "Data columns (total 1 columns):\n",
      " #   Column      Non-Null Count  Dtype\n",
      "---  ------      --------------  -----\n",
      " 0   is_in_2016  7713 non-null   bool \n",
      "dtypes: bool(1)\n",
      "memory usage: 67.8 KB\n"
     ]
    }
   ],
   "source": [
    "compound_id_2016 = item_list.item_2016_df[\"id\"] + \" \" + item_list.item_2016_df[\"long_description\"]\n",
    "compound_id_2016_df = pd.DataFrame(index=compound_id_2016).assign(is_in_2016=True)\n",
    "compound_id_2016_df.info()"
   ]
  },
  {
   "cell_type": "code",
   "execution_count": 25,
   "metadata": {},
   "outputs": [
    {
     "name": "stdout",
     "output_type": "stream",
     "text": [
      "<class 'pandas.core.frame.DataFrame'>\n",
      "Index: 14426 entries, 2011.601/00003 CONSTRUCTION SURVEYING to 2582.503/80312 12\" DOTTED LINE PREFORM THERMO GROUND IN CONT ESR\n",
      "Data columns (total 3 columns):\n",
      " #   Column      Non-Null Count  Dtype\n",
      "---  ------      --------------  -----\n",
      " 0   is_in_2016  14426 non-null  bool \n",
      " 1   is_in_2018  14426 non-null  bool \n",
      " 2   is_in_2020  14426 non-null  bool \n",
      "dtypes: bool(3)\n",
      "memory usage: 155.0+ KB\n"
     ]
    }
   ],
   "source": [
    "compound_id_matrix = compound_id_2016_df.join(other=[compound_id_2018_df, compound_id_2020_df], how=\"outer\")\n",
    "compound_id_matrix.fillna(value=False, inplace=True)\n",
    "compound_id_matrix.info()"
   ]
  },
  {
   "cell_type": "code",
   "execution_count": 26,
   "metadata": {},
   "outputs": [
    {
     "name": "stdout",
     "output_type": "stream",
     "text": [
      "<class 'pandas.core.frame.DataFrame'>\n",
      "Index: 14426 entries, 2011.601/00003 CONSTRUCTION SURVEYING to 2582.503/80312 12\" DOTTED LINE PREFORM THERMO GROUND IN CONT ESR\n",
      "Data columns (total 3 columns):\n",
      " #   Column      Non-Null Count  Dtype\n",
      "---  ------      --------------  -----\n",
      " 0   is_in_2016  14426 non-null  bool \n",
      " 1   is_in_2018  14426 non-null  bool \n",
      " 2   is_in_2020  14426 non-null  bool \n",
      "dtypes: bool(3)\n",
      "memory usage: 155.0+ KB\n"
     ]
    }
   ],
   "source": [
    "compound_id_matrix_reindex = compound_id_matrix[~compound_id_matrix.index.duplicated()]\n",
    "compound_id_matrix_reindex.info()"
   ]
  },
  {
   "cell_type": "code",
   "execution_count": 27,
   "metadata": {},
   "outputs": [
    {
     "data": {
      "text/plain": [
       "592"
      ]
     },
     "execution_count": 27,
     "metadata": {},
     "output_type": "execute_result"
    }
   ],
   "source": [
    "unique_2020_items = compound_id_matrix.query(\n",
    "    \"is_in_2016 == False & is_in_2018 == False & is_in_2020 == True\"\n",
    ").index.to_list()\n",
    "len(unique_2020_items)\n"
   ]
  },
  {
   "cell_type": "code",
   "execution_count": 28,
   "metadata": {},
   "outputs": [
    {
     "data": {
      "text/plain": [
       "446"
      ]
     },
     "execution_count": 28,
     "metadata": {},
     "output_type": "execute_result"
    }
   ],
   "source": [
    "unique_2018_items = compound_id_matrix.query(\n",
    "    \"is_in_2016 == False & is_in_2018 == True & is_in_2020 == False\"\n",
    ").index.to_list()\n",
    "len(unique_2018_items)"
   ]
  },
  {
   "cell_type": "code",
   "execution_count": 29,
   "metadata": {},
   "outputs": [
    {
     "data": {
      "text/plain": [
       "5800"
      ]
     },
     "execution_count": 29,
     "metadata": {},
     "output_type": "execute_result"
    }
   ],
   "source": [
    "unique_2016_items = compound_id_matrix.query(\n",
    "    \"is_in_2016 == True & is_in_2018 == False & is_in_2020 == False\"\n",
    ").index.to_list()\n",
    "len(unique_2016_items)"
   ]
  },
  {
   "cell_type": "markdown",
   "metadata": {},
   "source": [
    "#### Test ItemList Compound Matrix & Unique Compound Id Sets"
   ]
  },
  {
   "cell_type": "code",
   "execution_count": 30,
   "metadata": {},
   "outputs": [],
   "source": [
    "assert item_list.compound_id_matrix.shape == (14426, 3)"
   ]
  },
  {
   "cell_type": "code",
   "execution_count": 31,
   "metadata": {},
   "outputs": [],
   "source": [
    "assert len(item_list.unique_2016_compound_ids) == 5800"
   ]
  },
  {
   "cell_type": "code",
   "execution_count": 32,
   "metadata": {},
   "outputs": [],
   "source": [
    "assert len(item_list.unique_2018_compound_ids) == 446"
   ]
  },
  {
   "cell_type": "code",
   "execution_count": 33,
   "metadata": {},
   "outputs": [],
   "source": [
    "assert len(item_list.unique_2020_compound_ids) == 592"
   ]
  },
  {
   "cell_type": "code",
   "execution_count": 34,
   "metadata": {},
   "outputs": [
    {
     "data": {
      "text/html": [
       "<div>\n",
       "<style scoped>\n",
       "    .dataframe tbody tr th:only-of-type {\n",
       "        vertical-align: middle;\n",
       "    }\n",
       "\n",
       "    .dataframe tbody tr th {\n",
       "        vertical-align: top;\n",
       "    }\n",
       "\n",
       "    .dataframe thead th {\n",
       "        text-align: right;\n",
       "    }\n",
       "</style>\n",
       "<table border=\"1\" class=\"dataframe\">\n",
       "  <thead>\n",
       "    <tr style=\"text-align: right;\">\n",
       "      <th></th>\n",
       "      <th>is_in_2016</th>\n",
       "      <th>is_in_2018</th>\n",
       "      <th>is_in_2020</th>\n",
       "    </tr>\n",
       "  </thead>\n",
       "  <tbody>\n",
       "    <tr>\n",
       "      <th>2011.601/00003_CONSTRUCTION SURVEYING</th>\n",
       "      <td>True</td>\n",
       "      <td>True</td>\n",
       "      <td>True</td>\n",
       "    </tr>\n",
       "    <tr>\n",
       "      <th>2011.601/00010_VIBRATION MONITORING</th>\n",
       "      <td>True</td>\n",
       "      <td>True</td>\n",
       "      <td>True</td>\n",
       "    </tr>\n",
       "    <tr>\n",
       "      <th>2011.601/00015_SCOUR MONITORING</th>\n",
       "      <td>True</td>\n",
       "      <td>True</td>\n",
       "      <td>True</td>\n",
       "    </tr>\n",
       "    <tr>\n",
       "      <th>2011.601/00020_REVISED BRIDGE PLANS</th>\n",
       "      <td>True</td>\n",
       "      <td>True</td>\n",
       "      <td>True</td>\n",
       "    </tr>\n",
       "    <tr>\n",
       "      <th>2011.601/00040_DESIGN</th>\n",
       "      <td>True</td>\n",
       "      <td>False</td>\n",
       "      <td>False</td>\n",
       "    </tr>\n",
       "  </tbody>\n",
       "</table>\n",
       "</div>"
      ],
      "text/plain": [
       "                                       is_in_2016  is_in_2018  is_in_2020\n",
       "2011.601/00003_CONSTRUCTION SURVEYING        True        True        True\n",
       "2011.601/00010_VIBRATION MONITORING          True        True        True\n",
       "2011.601/00015_SCOUR MONITORING              True        True        True\n",
       "2011.601/00020_REVISED BRIDGE PLANS          True        True        True\n",
       "2011.601/00040_DESIGN                        True       False       False"
      ]
     },
     "execution_count": 34,
     "metadata": {},
     "output_type": "execute_result"
    }
   ],
   "source": [
    "item_list.compound_id_matrix.head()"
   ]
  },
  {
   "cell_type": "code",
   "execution_count": 35,
   "metadata": {},
   "outputs": [
    {
     "data": {
      "text/plain": [
       "'2501.502/36015_15\" CS SAFETY APRON'"
      ]
     },
     "execution_count": 35,
     "metadata": {},
     "output_type": "execute_result"
    }
   ],
   "source": [
    "item_list.compound_id_matrix.iloc[10315].name"
   ]
  },
  {
   "cell_type": "code",
   "execution_count": null,
   "metadata": {},
   "outputs": [],
   "source": []
  }
 ],
 "metadata": {
  "kernelspec": {
   "display_name": "Python 3.10.4 ('mndot-bid-etl-YQuOmX7S-py3.10')",
   "language": "python",
   "name": "python3"
  },
  "language_info": {
   "codemirror_mode": {
    "name": "ipython",
    "version": 3
   },
   "file_extension": ".py",
   "mimetype": "text/x-python",
   "name": "python",
   "nbconvert_exporter": "python",
   "pygments_lexer": "ipython3",
   "version": "3.10.4"
  },
  "orig_nbformat": 4,
  "vscode": {
   "interpreter": {
    "hash": "f9c9d2af983e9106a5331158cee0de754d053900e4906c0641bac8d646089032"
   }
  }
 },
 "nbformat": 4,
 "nbformat_minor": 2
}
