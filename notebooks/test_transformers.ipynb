{
 "cells": [
  {
   "cell_type": "code",
   "execution_count": 1,
   "metadata": {},
   "outputs": [],
   "source": [
    "from pathlib import Path\n",
    "\n",
    "from mndot_bid_etl.reader.abstract import create_abstract_data_from_csv\n",
    "from mndot_bid_etl.reader.item import create_item_data_from_csv\n",
    "from mndot_bid_etl.transform.functional.transform_bid import transform_bid_df\n",
    "from mndot_bid_etl.transform.functional.transform_bidder import transform_bidder_df\n",
    "from mndot_bid_etl.transform.functional.transform_contract import transform_contract_df"
   ]
  },
  {
   "cell_type": "code",
   "execution_count": 2,
   "metadata": {},
   "outputs": [],
   "source": [
    "abstract_data = create_abstract_data_from_csv(Path(\"../data/csv/2022/220002.csv\").resolve())\n",
    "\n",
    "item_data_2020 = create_item_data_from_csv(Path(\"../data/csv/item_list_2020.csv\").resolve())"
   ]
  },
  {
   "cell_type": "markdown",
   "metadata": {},
   "source": [
    "# Bid Transformer (Object)"
   ]
  },
  {
   "cell_type": "code",
   "execution_count": 3,
   "metadata": {},
   "outputs": [
    {
     "data": {
      "text/html": [
       "<div>\n",
       "<style scoped>\n",
       "    .dataframe tbody tr th:only-of-type {\n",
       "        vertical-align: middle;\n",
       "    }\n",
       "\n",
       "    .dataframe tbody tr th {\n",
       "        vertical-align: top;\n",
       "    }\n",
       "\n",
       "    .dataframe thead th {\n",
       "        text-align: right;\n",
       "    }\n",
       "</style>\n",
       "<table border=\"1\" class=\"dataframe\">\n",
       "  <thead>\n",
       "    <tr style=\"text-align: right;\">\n",
       "      <th></th>\n",
       "      <th>contract_id</th>\n",
       "      <th>item_id</th>\n",
       "      <th>long_description</th>\n",
       "      <th>quantity</th>\n",
       "      <th>bidder_id</th>\n",
       "      <th>unit_price</th>\n",
       "    </tr>\n",
       "  </thead>\n",
       "  <tbody>\n",
       "    <tr>\n",
       "      <th>0</th>\n",
       "      <td>220002</td>\n",
       "      <td>2011.601/01000</td>\n",
       "      <td>AS BUILT</td>\n",
       "      <td>1.0</td>\n",
       "      <td>engineers</td>\n",
       "      <td>1500000</td>\n",
       "    </tr>\n",
       "    <tr>\n",
       "      <th>1</th>\n",
       "      <td>220002</td>\n",
       "      <td>2021.501/00010</td>\n",
       "      <td>MOBILIZATION</td>\n",
       "      <td>1.0</td>\n",
       "      <td>engineers</td>\n",
       "      <td>25000000</td>\n",
       "    </tr>\n",
       "    <tr>\n",
       "      <th>2</th>\n",
       "      <td>220002</td>\n",
       "      <td>2051.501/00010</td>\n",
       "      <td>MAINT AND RESTORATION OF HAUL ROADS</td>\n",
       "      <td>1.0</td>\n",
       "      <td>engineers</td>\n",
       "      <td>100000</td>\n",
       "    </tr>\n",
       "    <tr>\n",
       "      <th>3</th>\n",
       "      <td>220002</td>\n",
       "      <td>2101.505/00020</td>\n",
       "      <td>CLEARING</td>\n",
       "      <td>1.4</td>\n",
       "      <td>engineers</td>\n",
       "      <td>800000</td>\n",
       "    </tr>\n",
       "    <tr>\n",
       "      <th>4</th>\n",
       "      <td>220002</td>\n",
       "      <td>2101.505/00030</td>\n",
       "      <td>GRUBBING</td>\n",
       "      <td>1.4</td>\n",
       "      <td>engineers</td>\n",
       "      <td>400000</td>\n",
       "    </tr>\n",
       "  </tbody>\n",
       "</table>\n",
       "</div>"
      ],
      "text/plain": [
       "  contract_id         item_id                     long_description  quantity  \\\n",
       "0      220002  2011.601/01000                             AS BUILT       1.0   \n",
       "1      220002  2021.501/00010                         MOBILIZATION       1.0   \n",
       "2      220002  2051.501/00010  MAINT AND RESTORATION OF HAUL ROADS       1.0   \n",
       "3      220002  2101.505/00020                             CLEARING       1.4   \n",
       "4      220002  2101.505/00030                             GRUBBING       1.4   \n",
       "\n",
       "   bidder_id  unit_price  \n",
       "0  engineers     1500000  \n",
       "1  engineers    25000000  \n",
       "2  engineers      100000  \n",
       "3  engineers      800000  \n",
       "4  engineers      400000  "
      ]
     },
     "execution_count": 3,
     "metadata": {},
     "output_type": "execute_result"
    }
   ],
   "source": [
    "from mndot_bid_etl.transform.recipes import bid_transformer\n",
    "\n",
    "transformed_bid_df = bid_transformer.apply(abstract_data.bid_df)\n",
    "transformed_bid_df.head()"
   ]
  },
  {
   "cell_type": "code",
   "execution_count": 6,
   "metadata": {},
   "outputs": [
    {
     "name": "stdout",
     "output_type": "stream",
     "text": [
      "<class 'pandas.core.frame.DataFrame'>\n",
      "RangeIndex: 568 entries, 0 to 567\n",
      "Data columns (total 6 columns):\n",
      " #   Column            Non-Null Count  Dtype  \n",
      "---  ------            --------------  -----  \n",
      " 0   contract_id       568 non-null    string \n",
      " 1   item_id           568 non-null    string \n",
      " 2   long_description  568 non-null    string \n",
      " 3   quantity          568 non-null    float64\n",
      " 4   bidder_id         568 non-null    string \n",
      " 5   unit_price        568 non-null    int64  \n",
      "dtypes: float64(1), int64(1), string(4)\n",
      "memory usage: 26.8 KB\n"
     ]
    }
   ],
   "source": [
    "transformed_bid_df.info()"
   ]
  },
  {
   "cell_type": "markdown",
   "metadata": {},
   "source": [
    "#### Bid Transformer"
   ]
  },
  {
   "cell_type": "code",
   "execution_count": 7,
   "metadata": {},
   "outputs": [],
   "source": [
    "bid_df = transform_bid_df(df=abstract_data.bid_df, contract_id=abstract_data.contract_id)"
   ]
  },
  {
   "cell_type": "code",
   "execution_count": 8,
   "metadata": {},
   "outputs": [
    {
     "data": {
      "text/html": [
       "<div>\n",
       "<style scoped>\n",
       "    .dataframe tbody tr th:only-of-type {\n",
       "        vertical-align: middle;\n",
       "    }\n",
       "\n",
       "    .dataframe tbody tr th {\n",
       "        vertical-align: top;\n",
       "    }\n",
       "\n",
       "    .dataframe thead th {\n",
       "        text-align: right;\n",
       "    }\n",
       "</style>\n",
       "<table border=\"1\" class=\"dataframe\">\n",
       "  <thead>\n",
       "    <tr style=\"text-align: right;\">\n",
       "      <th></th>\n",
       "      <th>item_id</th>\n",
       "      <th>long_description</th>\n",
       "      <th>quantity</th>\n",
       "      <th>bidder_id</th>\n",
       "      <th>unit_price</th>\n",
       "      <th>contract_id</th>\n",
       "    </tr>\n",
       "  </thead>\n",
       "  <tbody>\n",
       "    <tr>\n",
       "      <th>0</th>\n",
       "      <td>2011.601/01000</td>\n",
       "      <td>AS BUILT</td>\n",
       "      <td>1.0</td>\n",
       "      <td>engineers</td>\n",
       "      <td>1500000</td>\n",
       "      <td>220002</td>\n",
       "    </tr>\n",
       "    <tr>\n",
       "      <th>1</th>\n",
       "      <td>2021.501/00010</td>\n",
       "      <td>MOBILIZATION</td>\n",
       "      <td>1.0</td>\n",
       "      <td>engineers</td>\n",
       "      <td>25000000</td>\n",
       "      <td>220002</td>\n",
       "    </tr>\n",
       "    <tr>\n",
       "      <th>2</th>\n",
       "      <td>2051.501/00010</td>\n",
       "      <td>MAINT AND RESTORATION OF HAUL ROADS</td>\n",
       "      <td>1.0</td>\n",
       "      <td>engineers</td>\n",
       "      <td>100000</td>\n",
       "      <td>220002</td>\n",
       "    </tr>\n",
       "    <tr>\n",
       "      <th>3</th>\n",
       "      <td>2101.505/00020</td>\n",
       "      <td>CLEARING</td>\n",
       "      <td>1.4</td>\n",
       "      <td>engineers</td>\n",
       "      <td>800000</td>\n",
       "      <td>220002</td>\n",
       "    </tr>\n",
       "    <tr>\n",
       "      <th>4</th>\n",
       "      <td>2101.505/00030</td>\n",
       "      <td>GRUBBING</td>\n",
       "      <td>1.4</td>\n",
       "      <td>engineers</td>\n",
       "      <td>400000</td>\n",
       "      <td>220002</td>\n",
       "    </tr>\n",
       "  </tbody>\n",
       "</table>\n",
       "</div>"
      ],
      "text/plain": [
       "          item_id                     long_description  quantity  bidder_id  \\\n",
       "0  2011.601/01000                             AS BUILT       1.0  engineers   \n",
       "1  2021.501/00010                         MOBILIZATION       1.0  engineers   \n",
       "2  2051.501/00010  MAINT AND RESTORATION OF HAUL ROADS       1.0  engineers   \n",
       "3  2101.505/00020                             CLEARING       1.4  engineers   \n",
       "4  2101.505/00030                             GRUBBING       1.4  engineers   \n",
       "\n",
       "   unit_price contract_id  \n",
       "0     1500000      220002  \n",
       "1    25000000      220002  \n",
       "2      100000      220002  \n",
       "3      800000      220002  \n",
       "4      400000      220002  "
      ]
     },
     "execution_count": 8,
     "metadata": {},
     "output_type": "execute_result"
    }
   ],
   "source": [
    "bid_df.head()"
   ]
  },
  {
   "cell_type": "code",
   "execution_count": 9,
   "metadata": {},
   "outputs": [
    {
     "name": "stdout",
     "output_type": "stream",
     "text": [
      "<class 'pandas.core.frame.DataFrame'>\n",
      "RangeIndex: 568 entries, 0 to 567\n",
      "Data columns (total 6 columns):\n",
      " #   Column            Non-Null Count  Dtype  \n",
      "---  ------            --------------  -----  \n",
      " 0   item_id           568 non-null    object \n",
      " 1   long_description  568 non-null    object \n",
      " 2   quantity          568 non-null    float64\n",
      " 3   bidder_id         568 non-null    object \n",
      " 4   unit_price        568 non-null    int64  \n",
      " 5   contract_id       568 non-null    object \n",
      "dtypes: float64(1), int64(1), object(4)\n",
      "memory usage: 26.8+ KB\n"
     ]
    }
   ],
   "source": [
    "bid_df.info()"
   ]
  },
  {
   "cell_type": "markdown",
   "metadata": {},
   "source": [
    "# Bidder Transformer (Object)"
   ]
  },
  {
   "cell_type": "code",
   "execution_count": 10,
   "metadata": {},
   "outputs": [
    {
     "data": {
      "text/html": [
       "<div>\n",
       "<style scoped>\n",
       "    .dataframe tbody tr th:only-of-type {\n",
       "        vertical-align: middle;\n",
       "    }\n",
       "\n",
       "    .dataframe tbody tr th {\n",
       "        vertical-align: top;\n",
       "    }\n",
       "\n",
       "    .dataframe thead th {\n",
       "        text-align: right;\n",
       "    }\n",
       "</style>\n",
       "<table border=\"1\" class=\"dataframe\">\n",
       "  <thead>\n",
       "    <tr style=\"text-align: right;\">\n",
       "      <th></th>\n",
       "      <th>id</th>\n",
       "      <th>name</th>\n",
       "    </tr>\n",
       "  </thead>\n",
       "  <tbody>\n",
       "    <tr>\n",
       "      <th>0</th>\n",
       "      <td>0000198793</td>\n",
       "      <td>Duininck, Inc.</td>\n",
       "    </tr>\n",
       "    <tr>\n",
       "      <th>1</th>\n",
       "      <td>0000210000</td>\n",
       "      <td>Knife River Corporation - North Central</td>\n",
       "    </tr>\n",
       "    <tr>\n",
       "      <th>2</th>\n",
       "      <td>0000207897</td>\n",
       "      <td>Central Specialties, Inc.</td>\n",
       "    </tr>\n",
       "  </tbody>\n",
       "</table>\n",
       "</div>"
      ],
      "text/plain": [
       "           id                                     name\n",
       "0  0000198793                           Duininck, Inc.\n",
       "1  0000210000  Knife River Corporation - North Central\n",
       "2  0000207897                Central Specialties, Inc."
      ]
     },
     "execution_count": 10,
     "metadata": {},
     "output_type": "execute_result"
    }
   ],
   "source": [
    "from mndot_bid_etl.transform.recipes import bidder_transformer\n",
    "\n",
    "transformed_bidder_df = bidder_transformer.apply(abstract_data.bidder_df)\n",
    "transformed_bidder_df.head()"
   ]
  },
  {
   "cell_type": "code",
   "execution_count": 11,
   "metadata": {},
   "outputs": [
    {
     "name": "stdout",
     "output_type": "stream",
     "text": [
      "<class 'pandas.core.frame.DataFrame'>\n",
      "RangeIndex: 3 entries, 0 to 2\n",
      "Data columns (total 2 columns):\n",
      " #   Column  Non-Null Count  Dtype \n",
      "---  ------  --------------  ----- \n",
      " 0   id      3 non-null      string\n",
      " 1   name    3 non-null      string\n",
      "dtypes: string(2)\n",
      "memory usage: 176.0 bytes\n"
     ]
    }
   ],
   "source": [
    "transformed_bidder_df.info()"
   ]
  },
  {
   "cell_type": "markdown",
   "metadata": {},
   "source": [
    "#### Bidder Transformer"
   ]
  },
  {
   "cell_type": "code",
   "execution_count": 12,
   "metadata": {},
   "outputs": [],
   "source": [
    "bidder_df = transform_bidder_df(df=abstract_data.bidder_df)"
   ]
  },
  {
   "cell_type": "code",
   "execution_count": 13,
   "metadata": {},
   "outputs": [
    {
     "data": {
      "text/html": [
       "<div>\n",
       "<style scoped>\n",
       "    .dataframe tbody tr th:only-of-type {\n",
       "        vertical-align: middle;\n",
       "    }\n",
       "\n",
       "    .dataframe tbody tr th {\n",
       "        vertical-align: top;\n",
       "    }\n",
       "\n",
       "    .dataframe thead th {\n",
       "        text-align: right;\n",
       "    }\n",
       "</style>\n",
       "<table border=\"1\" class=\"dataframe\">\n",
       "  <thead>\n",
       "    <tr style=\"text-align: right;\">\n",
       "      <th></th>\n",
       "      <th>id</th>\n",
       "      <th>name</th>\n",
       "    </tr>\n",
       "  </thead>\n",
       "  <tbody>\n",
       "    <tr>\n",
       "      <th>0</th>\n",
       "      <td>0000198793</td>\n",
       "      <td>Duininck, Inc.</td>\n",
       "    </tr>\n",
       "    <tr>\n",
       "      <th>1</th>\n",
       "      <td>0000210000</td>\n",
       "      <td>Knife River Corporation - North Central</td>\n",
       "    </tr>\n",
       "    <tr>\n",
       "      <th>2</th>\n",
       "      <td>0000207897</td>\n",
       "      <td>Central Specialties, Inc.</td>\n",
       "    </tr>\n",
       "  </tbody>\n",
       "</table>\n",
       "</div>"
      ],
      "text/plain": [
       "           id                                     name\n",
       "0  0000198793                           Duininck, Inc.\n",
       "1  0000210000  Knife River Corporation - North Central\n",
       "2  0000207897                Central Specialties, Inc."
      ]
     },
     "execution_count": 13,
     "metadata": {},
     "output_type": "execute_result"
    }
   ],
   "source": [
    "bidder_df.head()"
   ]
  },
  {
   "cell_type": "code",
   "execution_count": 14,
   "metadata": {},
   "outputs": [
    {
     "name": "stdout",
     "output_type": "stream",
     "text": [
      "<class 'pandas.core.frame.DataFrame'>\n",
      "RangeIndex: 3 entries, 0 to 2\n",
      "Data columns (total 2 columns):\n",
      " #   Column  Non-Null Count  Dtype \n",
      "---  ------  --------------  ----- \n",
      " 0   id      3 non-null      object\n",
      " 1   name    3 non-null      object\n",
      "dtypes: object(2)\n",
      "memory usage: 176.0+ bytes\n"
     ]
    }
   ],
   "source": [
    "bidder_df.info()"
   ]
  },
  {
   "cell_type": "markdown",
   "metadata": {},
   "source": [
    "# Contract Transformer (Object)"
   ]
  },
  {
   "cell_type": "code",
   "execution_count": 15,
   "metadata": {},
   "outputs": [
    {
     "data": {
      "text/html": [
       "<div>\n",
       "<style scoped>\n",
       "    .dataframe tbody tr th:only-of-type {\n",
       "        vertical-align: middle;\n",
       "    }\n",
       "\n",
       "    .dataframe tbody tr th {\n",
       "        vertical-align: top;\n",
       "    }\n",
       "\n",
       "    .dataframe thead th {\n",
       "        text-align: right;\n",
       "    }\n",
       "</style>\n",
       "<table border=\"1\" class=\"dataframe\">\n",
       "  <thead>\n",
       "    <tr style=\"text-align: right;\">\n",
       "      <th></th>\n",
       "      <th>letting_date</th>\n",
       "      <th>description</th>\n",
       "      <th>id</th>\n",
       "      <th>sp_number</th>\n",
       "      <th>district</th>\n",
       "      <th>county</th>\n",
       "    </tr>\n",
       "  </thead>\n",
       "  <tbody>\n",
       "    <tr>\n",
       "      <th>0</th>\n",
       "      <td>2022-01-28</td>\n",
       "      <td>LOCATED ON T.H. 14 FROM 490' WEST OF T.H. 71 T...</td>\n",
       "      <td>220002</td>\n",
       "      <td>0803-44</td>\n",
       "      <td>Mankato</td>\n",
       "      <td>BROWN</td>\n",
       "    </tr>\n",
       "  </tbody>\n",
       "</table>\n",
       "</div>"
      ],
      "text/plain": [
       "  letting_date                                        description      id  \\\n",
       "0   2022-01-28  LOCATED ON T.H. 14 FROM 490' WEST OF T.H. 71 T...  220002   \n",
       "\n",
       "  sp_number district county  \n",
       "0   0803-44  Mankato  BROWN  "
      ]
     },
     "execution_count": 15,
     "metadata": {},
     "output_type": "execute_result"
    }
   ],
   "source": [
    "from mndot_bid_etl.transform.recipes import contract_transformer\n",
    "\n",
    "transformed_contract_df = contract_transformer.apply(abstract_data.contract_df)\n",
    "transformed_contract_df.head()"
   ]
  },
  {
   "cell_type": "code",
   "execution_count": 16,
   "metadata": {},
   "outputs": [
    {
     "name": "stdout",
     "output_type": "stream",
     "text": [
      "<class 'pandas.core.frame.DataFrame'>\n",
      "RangeIndex: 1 entries, 0 to 0\n",
      "Data columns (total 6 columns):\n",
      " #   Column        Non-Null Count  Dtype         \n",
      "---  ------        --------------  -----         \n",
      " 0   letting_date  1 non-null      datetime64[ns]\n",
      " 1   description   1 non-null      string        \n",
      " 2   id            1 non-null      string        \n",
      " 3   sp_number     1 non-null      string        \n",
      " 4   district      1 non-null      string        \n",
      " 5   county        1 non-null      string        \n",
      "dtypes: datetime64[ns](1), string(5)\n",
      "memory usage: 176.0 bytes\n"
     ]
    }
   ],
   "source": [
    "transformed_contract_df.info()"
   ]
  },
  {
   "cell_type": "markdown",
   "metadata": {},
   "source": [
    "#### Contract Transformer"
   ]
  },
  {
   "cell_type": "code",
   "execution_count": 17,
   "metadata": {},
   "outputs": [],
   "source": [
    "contract_df = transform_contract_df(\n",
    "    df=abstract_data.contract_df,\n",
    "    winning_bidder_id=abstract_data.winning_bidder_id,\n",
    "    spec_year=\"2001\",\n",
    ")\n"
   ]
  },
  {
   "cell_type": "code",
   "execution_count": 18,
   "metadata": {},
   "outputs": [
    {
     "data": {
      "text/html": [
       "<div>\n",
       "<style scoped>\n",
       "    .dataframe tbody tr th:only-of-type {\n",
       "        vertical-align: middle;\n",
       "    }\n",
       "\n",
       "    .dataframe tbody tr th {\n",
       "        vertical-align: top;\n",
       "    }\n",
       "\n",
       "    .dataframe thead th {\n",
       "        text-align: right;\n",
       "    }\n",
       "</style>\n",
       "<table border=\"1\" class=\"dataframe\">\n",
       "  <thead>\n",
       "    <tr style=\"text-align: right;\">\n",
       "      <th></th>\n",
       "      <th>letting_date</th>\n",
       "      <th>description</th>\n",
       "      <th>id</th>\n",
       "      <th>sp_number</th>\n",
       "      <th>district</th>\n",
       "      <th>county</th>\n",
       "      <th>winning_bidder_id</th>\n",
       "      <th>spec_year</th>\n",
       "    </tr>\n",
       "  </thead>\n",
       "  <tbody>\n",
       "    <tr>\n",
       "      <th>0</th>\n",
       "      <td>2022-01-28</td>\n",
       "      <td>LOCATED ON T.H. 14 FROM 490' WEST OF T.H. 71 T...</td>\n",
       "      <td>220002</td>\n",
       "      <td>0803-44</td>\n",
       "      <td>Mankato</td>\n",
       "      <td>BROWN</td>\n",
       "      <td>0000198793</td>\n",
       "      <td>2001</td>\n",
       "    </tr>\n",
       "  </tbody>\n",
       "</table>\n",
       "</div>"
      ],
      "text/plain": [
       "  letting_date                                        description      id  \\\n",
       "0   2022-01-28  LOCATED ON T.H. 14 FROM 490' WEST OF T.H. 71 T...  220002   \n",
       "\n",
       "  sp_number district county winning_bidder_id spec_year  \n",
       "0   0803-44  Mankato  BROWN        0000198793      2001  "
      ]
     },
     "execution_count": 18,
     "metadata": {},
     "output_type": "execute_result"
    }
   ],
   "source": [
    "contract_df.head()"
   ]
  },
  {
   "cell_type": "code",
   "execution_count": 19,
   "metadata": {},
   "outputs": [
    {
     "name": "stdout",
     "output_type": "stream",
     "text": [
      "<class 'pandas.core.frame.DataFrame'>\n",
      "RangeIndex: 1 entries, 0 to 0\n",
      "Data columns (total 8 columns):\n",
      " #   Column             Non-Null Count  Dtype         \n",
      "---  ------             --------------  -----         \n",
      " 0   letting_date       1 non-null      datetime64[ns]\n",
      " 1   description        1 non-null      object        \n",
      " 2   id                 1 non-null      object        \n",
      " 3   sp_number          1 non-null      object        \n",
      " 4   district           1 non-null      object        \n",
      " 5   county             1 non-null      object        \n",
      " 6   winning_bidder_id  1 non-null      object        \n",
      " 7   spec_year          1 non-null      object        \n",
      "dtypes: datetime64[ns](1), object(7)\n",
      "memory usage: 192.0+ bytes\n"
     ]
    }
   ],
   "source": [
    "contract_df.info()"
   ]
  },
  {
   "cell_type": "markdown",
   "metadata": {},
   "source": [
    "# Item Transformer (Object)"
   ]
  },
  {
   "cell_type": "code",
   "execution_count": 20,
   "metadata": {},
   "outputs": [
    {
     "data": {
      "text/html": [
       "<div>\n",
       "<style scoped>\n",
       "    .dataframe tbody tr th:only-of-type {\n",
       "        vertical-align: middle;\n",
       "    }\n",
       "\n",
       "    .dataframe tbody tr th {\n",
       "        vertical-align: top;\n",
       "    }\n",
       "\n",
       "    .dataframe thead th {\n",
       "        text-align: right;\n",
       "    }\n",
       "</style>\n",
       "<table border=\"1\" class=\"dataframe\">\n",
       "  <thead>\n",
       "    <tr style=\"text-align: right;\">\n",
       "      <th></th>\n",
       "      <th>id</th>\n",
       "      <th>description</th>\n",
       "      <th>long_description</th>\n",
       "      <th>unit</th>\n",
       "      <th>unit_description</th>\n",
       "      <th>spec_year</th>\n",
       "    </tr>\n",
       "  </thead>\n",
       "  <tbody>\n",
       "    <tr>\n",
       "      <th>0</th>\n",
       "      <td>2011.601/00003</td>\n",
       "      <td>CONSTRUCTION SURVEYING</td>\n",
       "      <td>CONSTRUCTION SURVEYING</td>\n",
       "      <td>LS</td>\n",
       "      <td>LUMP SUM</td>\n",
       "      <td>2020</td>\n",
       "    </tr>\n",
       "    <tr>\n",
       "      <th>1</th>\n",
       "      <td>2011.601/00010</td>\n",
       "      <td>VIBRATION MONITORING</td>\n",
       "      <td>VIBRATION MONITORING</td>\n",
       "      <td>LS</td>\n",
       "      <td>LUMP SUM</td>\n",
       "      <td>2020</td>\n",
       "    </tr>\n",
       "    <tr>\n",
       "      <th>2</th>\n",
       "      <td>2011.601/00015</td>\n",
       "      <td>SCOUR MONITORING</td>\n",
       "      <td>SCOUR MONITORING</td>\n",
       "      <td>LS</td>\n",
       "      <td>LUMP SUM</td>\n",
       "      <td>2020</td>\n",
       "    </tr>\n",
       "    <tr>\n",
       "      <th>3</th>\n",
       "      <td>2011.601/00018</td>\n",
       "      <td>SETTLEMENT MONITORING</td>\n",
       "      <td>SETTLEMENT MONITORING</td>\n",
       "      <td>LS</td>\n",
       "      <td>LUMP SUM</td>\n",
       "      <td>2020</td>\n",
       "    </tr>\n",
       "    <tr>\n",
       "      <th>4</th>\n",
       "      <td>2011.601/00020</td>\n",
       "      <td>REVISED BRIDGE PLANS</td>\n",
       "      <td>REVISED BRIDGE PLANS</td>\n",
       "      <td>LS</td>\n",
       "      <td>LUMP SUM</td>\n",
       "      <td>2020</td>\n",
       "    </tr>\n",
       "  </tbody>\n",
       "</table>\n",
       "</div>"
      ],
      "text/plain": [
       "               id             description        long_description unit  \\\n",
       "0  2011.601/00003  CONSTRUCTION SURVEYING  CONSTRUCTION SURVEYING   LS   \n",
       "1  2011.601/00010    VIBRATION MONITORING    VIBRATION MONITORING   LS   \n",
       "2  2011.601/00015        SCOUR MONITORING        SCOUR MONITORING   LS   \n",
       "3  2011.601/00018   SETTLEMENT MONITORING   SETTLEMENT MONITORING   LS   \n",
       "4  2011.601/00020    REVISED BRIDGE PLANS    REVISED BRIDGE PLANS   LS   \n",
       "\n",
       "  unit_description spec_year  \n",
       "0         LUMP SUM      2020  \n",
       "1         LUMP SUM      2020  \n",
       "2         LUMP SUM      2020  \n",
       "3         LUMP SUM      2020  \n",
       "4         LUMP SUM      2020  "
      ]
     },
     "execution_count": 20,
     "metadata": {},
     "output_type": "execute_result"
    }
   ],
   "source": [
    "from mndot_bid_etl.transform.recipes import item_transformer\n",
    "\n",
    "transformed_item_2020_df = item_transformer.apply(item_data_2020)\n",
    "transformed_item_2020_df.head()"
   ]
  },
  {
   "cell_type": "code",
   "execution_count": 21,
   "metadata": {},
   "outputs": [
    {
     "name": "stdout",
     "output_type": "stream",
     "text": [
      "<class 'pandas.core.frame.DataFrame'>\n",
      "RangeIndex: 8034 entries, 0 to 8033\n",
      "Data columns (total 6 columns):\n",
      " #   Column            Non-Null Count  Dtype \n",
      "---  ------            --------------  ----- \n",
      " 0   id                8034 non-null   string\n",
      " 1   description       8034 non-null   string\n",
      " 2   long_description  8034 non-null   string\n",
      " 3   unit              8034 non-null   string\n",
      " 4   unit_description  8034 non-null   string\n",
      " 5   spec_year         8034 non-null   string\n",
      "dtypes: string(6)\n",
      "memory usage: 376.7 KB\n"
     ]
    }
   ],
   "source": [
    "transformed_item_2020_df.info()"
   ]
  },
  {
   "cell_type": "code",
   "execution_count": 22,
   "metadata": {},
   "outputs": [
    {
     "data": {
      "text/plain": [
       "id                                              2118.507/00050\n",
       "description              AGGREGATE SURFACING (LV), CLASS 5 MOD\n",
       "long_description    AGGREGATE SURFACING (LV), CLASS 5 MODIFIED\n",
       "unit                                                       C Y\n",
       "unit_description                                         CU YD\n",
       "spec_year                                                 2020\n",
       "Name: 1110, dtype: string"
      ]
     },
     "execution_count": 22,
     "metadata": {},
     "output_type": "execute_result"
    }
   ],
   "source": [
    "transformed_item_2020_df.iloc[1110]"
   ]
  },
  {
   "cell_type": "code",
   "execution_count": null,
   "metadata": {},
   "outputs": [],
   "source": []
  }
 ],
 "metadata": {
  "kernelspec": {
   "display_name": "Python 3.10.4 ('mndot-bid-etl-YQuOmX7S-py3.10')",
   "language": "python",
   "name": "python3"
  },
  "language_info": {
   "codemirror_mode": {
    "name": "ipython",
    "version": 3
   },
   "file_extension": ".py",
   "mimetype": "text/x-python",
   "name": "python",
   "nbconvert_exporter": "python",
   "pygments_lexer": "ipython3",
   "version": "3.10.4"
  },
  "orig_nbformat": 4,
  "vscode": {
   "interpreter": {
    "hash": "f9c9d2af983e9106a5331158cee0de754d053900e4906c0641bac8d646089032"
   }
  }
 },
 "nbformat": 4,
 "nbformat_minor": 2
}
