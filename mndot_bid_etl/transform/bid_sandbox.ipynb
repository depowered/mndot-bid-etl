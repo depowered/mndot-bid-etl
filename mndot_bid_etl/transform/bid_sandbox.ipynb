{
 "cells": [
  {
   "cell_type": "code",
   "execution_count": 1,
   "metadata": {},
   "outputs": [],
   "source": [
    "import pandas as pd\n",
    "from pathlib import Path\n",
    "\n",
    "from mndot_bid_etl.transform.abstract import read_abstract_csv"
   ]
  },
  {
   "cell_type": "markdown",
   "metadata": {},
   "source": [
    "#### Step 1.)\n",
    "Read a csv into separate dataframes. Use data/csv/2022/220002.csv for testing."
   ]
  },
  {
   "cell_type": "code",
   "execution_count": 2,
   "metadata": {},
   "outputs": [],
   "source": [
    "csv_file = Path(\"../data/csv/2022/220002.csv\").resolve()\n",
    "abstract = read_abstract_csv(csv_file)"
   ]
  },
  {
   "cell_type": "code",
   "execution_count": 3,
   "metadata": {},
   "outputs": [
    {
     "name": "stdout",
     "output_type": "stream",
     "text": [
      "<class 'pandas.core.frame.DataFrame'>\n",
      "RangeIndex: 1 entries, 0 to 0\n",
      "Data columns (total 6 columns):\n",
      " #   Column           Non-Null Count  Dtype \n",
      "---  ------           --------------  ----- \n",
      " 0   Letting Date     1 non-null      object\n",
      " 1   Job Description  1 non-null      object\n",
      " 2   Contract Id      1 non-null      object\n",
      " 3   SP Number        1 non-null      object\n",
      " 4   District         1 non-null      object\n",
      " 5   County           1 non-null      object\n",
      "dtypes: object(6)\n",
      "memory usage: 176.0+ bytes\n"
     ]
    }
   ],
   "source": [
    "contract_df = abstract.contract_df\n",
    "contract_df.info()"
   ]
  },
  {
   "cell_type": "code",
   "execution_count": 4,
   "metadata": {},
   "outputs": [
    {
     "data": {
      "text/plain": [
       "'220002'"
      ]
     },
     "execution_count": 4,
     "metadata": {},
     "output_type": "execute_result"
    }
   ],
   "source": [
    "contract_df.at[0, \"Contract Id\"]"
   ]
  },
  {
   "cell_type": "code",
   "execution_count": 5,
   "metadata": {},
   "outputs": [
    {
     "name": "stdout",
     "output_type": "stream",
     "text": [
      "<class 'pandas.core.frame.DataFrame'>\n",
      "RangeIndex: 142 entries, 0 to 141\n",
      "Data columns (total 16 columns):\n",
      " #   Column                       Non-Null Count  Dtype \n",
      "---  ------                       --------------  ----- \n",
      " 0   ContractId                   142 non-null    object\n",
      " 1   SectionDescription           142 non-null    object\n",
      " 2   LineNumber                   142 non-null    object\n",
      " 3   ItemNumber                   142 non-null    object\n",
      " 4   ItemDescription              142 non-null    object\n",
      " 5   UnitPrice                    142 non-null    object\n",
      " 6   Quantity                     142 non-null    object\n",
      " 7   UnitName                     142 non-null    object\n",
      " 8   Engineers (Unit Price)       142 non-null    object\n",
      " 9   Engineers (Extended Amount)  142 non-null    object\n",
      " 10  0000198793 (Unit Price)      142 non-null    object\n",
      " 11  0000198793 (Extension)       142 non-null    object\n",
      " 12  0000210000 (Unit Price)      142 non-null    object\n",
      " 13  0000210000 (Extension)       142 non-null    object\n",
      " 14  0000207897 (Unit Price)      142 non-null    object\n",
      " 15  0000207897 (Extension)       142 non-null    object\n",
      "dtypes: object(16)\n",
      "memory usage: 17.9+ KB\n"
     ]
    }
   ],
   "source": [
    "bid_df = abstract.bid_df\n",
    "bid_df.info()"
   ]
  },
  {
   "cell_type": "code",
   "execution_count": 6,
   "metadata": {},
   "outputs": [
    {
     "data": {
      "text/plain": [
       "'220002'"
      ]
     },
     "execution_count": 6,
     "metadata": {},
     "output_type": "execute_result"
    }
   ],
   "source": [
    "bid_df.at[0, \"ContractId\"]"
   ]
  },
  {
   "cell_type": "code",
   "execution_count": 7,
   "metadata": {},
   "outputs": [
    {
     "name": "stdout",
     "output_type": "stream",
     "text": [
      "<class 'pandas.core.frame.DataFrame'>\n",
      "RangeIndex: 3 entries, 0 to 2\n",
      "Data columns (total 3 columns):\n",
      " #   Column         Non-Null Count  Dtype \n",
      "---  ------         --------------  ----- \n",
      " 0   Bidder Number  3 non-null      object\n",
      " 1   Bidder Name    3 non-null      object\n",
      " 2   Bidder Amount  3 non-null      object\n",
      "dtypes: object(3)\n",
      "memory usage: 200.0+ bytes\n"
     ]
    }
   ],
   "source": [
    "bidder_df = abstract.bidder_df\n",
    "bidder_df.info()"
   ]
  },
  {
   "cell_type": "code",
   "execution_count": 8,
   "metadata": {},
   "outputs": [
    {
     "data": {
      "text/plain": [
       "'0000198793'"
      ]
     },
     "execution_count": 8,
     "metadata": {},
     "output_type": "execute_result"
    }
   ],
   "source": [
    "bidder_df.at[0, \"Bidder Number\"]"
   ]
  },
  {
   "cell_type": "markdown",
   "metadata": {},
   "source": [
    "#### Step 2.)\n",
    "Transform the bid_df for serialization into initial bid objects.\n",
    "\n",
    "The bid object should contain: ```item_id, bidder_id, quantity, unit_price```"
   ]
  },
  {
   "cell_type": "code",
   "execution_count": 9,
   "metadata": {},
   "outputs": [
    {
     "name": "stdout",
     "output_type": "stream",
     "text": [
      "Index(['ContractId', 'SectionDescription', 'LineNumber', 'ItemNumber',\n",
      "       'ItemDescription', 'UnitPrice', 'Quantity', 'UnitName',\n",
      "       'Engineers (Unit Price)', 'Engineers (Extended Amount)',\n",
      "       '0000198793 (Unit Price) ', '0000198793 (Extension)  ',\n",
      "       '0000210000 (Unit Price) ', '0000210000 (Extension)  ',\n",
      "       '0000207897 (Unit Price) ', '0000207897 (Extension)  '],\n",
      "      dtype='object')\n"
     ]
    }
   ],
   "source": [
    "bid_columns = bid_df.columns\n",
    "print(bid_columns)"
   ]
  },
  {
   "cell_type": "code",
   "execution_count": 10,
   "metadata": {},
   "outputs": [],
   "source": [
    "def get_column_names_containing_string(df: pd.DataFrame, search_strings: list[str]) -> list[str]:\n",
    "    drop_columns = []\n",
    "    for column_name in bid_df.columns.to_list():\n",
    "        for substring in search_strings:\n",
    "            if substring in column_name:\n",
    "                drop_columns.append(column_name)\n",
    "    return drop_columns\n"
   ]
  },
  {
   "cell_type": "code",
   "execution_count": 11,
   "metadata": {},
   "outputs": [
    {
     "name": "stdout",
     "output_type": "stream",
     "text": [
      "<class 'pandas.core.frame.DataFrame'>\n",
      "RangeIndex: 142 entries, 0 to 141\n",
      "Data columns (total 6 columns):\n",
      " #   Column                    Non-Null Count  Dtype \n",
      "---  ------                    --------------  ----- \n",
      " 0   ItemNumber                142 non-null    object\n",
      " 1   Quantity                  142 non-null    object\n",
      " 2   Engineers (Unit Price)    142 non-null    object\n",
      " 3   0000198793 (Unit Price)   142 non-null    object\n",
      " 4   0000210000 (Unit Price)   142 non-null    object\n",
      " 5   0000207897 (Unit Price)   142 non-null    object\n",
      "dtypes: object(6)\n",
      "memory usage: 6.8+ KB\n"
     ]
    }
   ],
   "source": [
    "bid_search_strings = [\n",
    "    \"ContractId\",\n",
    "    \"SectionDescription\",\n",
    "    \"LineNumber\",\n",
    "    \"ItemDescription\",\n",
    "    \"UnitPrice\",\n",
    "    \"UnitName\",\n",
    "    \"Ext\"\n",
    "]\n",
    "\n",
    "drop_columns = get_column_names_containing_string(bid_df, bid_search_strings)\n",
    "\n",
    "bid_df_dropped = bid_df.drop(columns=drop_columns)\n",
    "bid_df_dropped.info()"
   ]
  },
  {
   "cell_type": "code",
   "execution_count": 12,
   "metadata": {},
   "outputs": [
    {
     "name": "stdout",
     "output_type": "stream",
     "text": [
      "<class 'pandas.core.frame.DataFrame'>\n",
      "RangeIndex: 142 entries, 0 to 141\n",
      "Data columns (total 6 columns):\n",
      " #   Column      Non-Null Count  Dtype \n",
      "---  ------      --------------  ----- \n",
      " 0   item_id     142 non-null    object\n",
      " 1   quantity    142 non-null    object\n",
      " 2   engineers   142 non-null    object\n",
      " 3   0000198793  142 non-null    object\n",
      " 4   0000210000  142 non-null    object\n",
      " 5   0000207897  142 non-null    object\n",
      "dtypes: object(6)\n",
      "memory usage: 6.8+ KB\n"
     ]
    }
   ],
   "source": [
    "def rename_bid_columns(column_name: str) -> str:\n",
    "    match column_name:\n",
    "        case \"ItemNumber\":\n",
    "            return \"item_id\"\n",
    "        case \"Quantity\":\n",
    "            return column_name.lower()\n",
    "        case other:\n",
    "            return column_name.split(\" \")[0].lower()\n",
    "\n",
    "    # if column_name == \"ItemNumber\":\n",
    "    #     return \"item_id\"\n",
    "    # elif column_name == \"Quantity\":\n",
    "    #     return column_name.lower()\n",
    "    # else:\n",
    "    #     return column_name.split(\" \")[0].lower()\n",
    "\n",
    "bid_df_renamed = bid_df_dropped.rename(columns=rename_bid_columns)\n",
    "bid_df_renamed.info()"
   ]
  },
  {
   "cell_type": "code",
   "execution_count": 13,
   "metadata": {},
   "outputs": [],
   "source": [
    "def format_item_id(id: str) -> str:\n",
    "    return id[:4] + \".\" + id[4:]\n",
    "\n",
    "def format_quantity(quantity: str) -> float:\n",
    "    return float(quantity.strip())\n",
    "\n",
    "def format_price(price: str) -> int:\n",
    "    cleaned_str = price.strip().replace(\"$\", \"\").replace(\",\", \"\")\n",
    "    return int(float(cleaned_str) * 100)\n"
   ]
  },
  {
   "cell_type": "code",
   "execution_count": 14,
   "metadata": {},
   "outputs": [
    {
     "data": {
      "text/html": [
       "<div>\n",
       "<style scoped>\n",
       "    .dataframe tbody tr th:only-of-type {\n",
       "        vertical-align: middle;\n",
       "    }\n",
       "\n",
       "    .dataframe tbody tr th {\n",
       "        vertical-align: top;\n",
       "    }\n",
       "\n",
       "    .dataframe thead th {\n",
       "        text-align: right;\n",
       "    }\n",
       "</style>\n",
       "<table border=\"1\" class=\"dataframe\">\n",
       "  <thead>\n",
       "    <tr style=\"text-align: right;\">\n",
       "      <th></th>\n",
       "      <th>item_id</th>\n",
       "      <th>quantity</th>\n",
       "      <th>engineers</th>\n",
       "      <th>0000198793</th>\n",
       "      <th>0000210000</th>\n",
       "      <th>0000207897</th>\n",
       "    </tr>\n",
       "  </thead>\n",
       "  <tbody>\n",
       "    <tr>\n",
       "      <th>0</th>\n",
       "      <td>2011.601/01000</td>\n",
       "      <td>1.0</td>\n",
       "      <td>1500000</td>\n",
       "      <td>980000</td>\n",
       "      <td>1200000</td>\n",
       "      <td>980000</td>\n",
       "    </tr>\n",
       "    <tr>\n",
       "      <th>1</th>\n",
       "      <td>2021.501/00010</td>\n",
       "      <td>1.0</td>\n",
       "      <td>25000000</td>\n",
       "      <td>20900000</td>\n",
       "      <td>31700000</td>\n",
       "      <td>21600000</td>\n",
       "    </tr>\n",
       "    <tr>\n",
       "      <th>2</th>\n",
       "      <td>2051.501/00010</td>\n",
       "      <td>1.0</td>\n",
       "      <td>100000</td>\n",
       "      <td>100</td>\n",
       "      <td>100</td>\n",
       "      <td>100</td>\n",
       "    </tr>\n",
       "    <tr>\n",
       "      <th>3</th>\n",
       "      <td>2101.505/00020</td>\n",
       "      <td>1.4</td>\n",
       "      <td>800000</td>\n",
       "      <td>350000</td>\n",
       "      <td>350000</td>\n",
       "      <td>800000</td>\n",
       "    </tr>\n",
       "    <tr>\n",
       "      <th>4</th>\n",
       "      <td>2101.505/00030</td>\n",
       "      <td>1.4</td>\n",
       "      <td>400000</td>\n",
       "      <td>370000</td>\n",
       "      <td>370000</td>\n",
       "      <td>550000</td>\n",
       "    </tr>\n",
       "  </tbody>\n",
       "</table>\n",
       "</div>"
      ],
      "text/plain": [
       "          item_id  quantity  engineers  0000198793  0000210000  0000207897\n",
       "0  2011.601/01000       1.0    1500000      980000     1200000      980000\n",
       "1  2021.501/00010       1.0   25000000    20900000    31700000    21600000\n",
       "2  2051.501/00010       1.0     100000         100         100         100\n",
       "3  2101.505/00020       1.4     800000      350000      350000      800000\n",
       "4  2101.505/00030       1.4     400000      370000      370000      550000"
      ]
     },
     "execution_count": 14,
     "metadata": {},
     "output_type": "execute_result"
    }
   ],
   "source": [
    "bid_df_formatted = bid_df_renamed.copy()\n",
    "bid_df_formatted[\"item_id\"] = bid_df_formatted[\"item_id\"].apply(format_item_id)\n",
    "bid_df_formatted[\"quantity\"] = bid_df_formatted[\"quantity\"].apply(format_quantity)\n",
    "bid_df_formatted[\"engineers\"] = bid_df_formatted[\"engineers\"].apply(format_price)\n",
    "bid_df_formatted[\"0000198793\"] = bid_df_formatted[\"0000198793\"].apply(format_price)\n",
    "bid_df_formatted[\"0000210000\"] = bid_df_formatted[\"0000210000\"].apply(format_price)\n",
    "bid_df_formatted[\"0000207897\"] = bid_df_formatted[\"0000207897\"].apply(format_price)\n",
    "\n",
    "bid_df_formatted.head()"
   ]
  },
  {
   "cell_type": "code",
   "execution_count": 15,
   "metadata": {},
   "outputs": [],
   "source": [
    "bid_df_melted = bid_df_formatted.melt(\n",
    "    id_vars=[\"item_id\", \"quantity\"], var_name=\"bidder_id\", value_name=\"unit_price\"\n",
    ")\n",
    "pd.set_option(\"display.max_rows\", 500)\n"
   ]
  },
  {
   "cell_type": "code",
   "execution_count": 16,
   "metadata": {},
   "outputs": [
    {
     "name": "stdout",
     "output_type": "stream",
     "text": [
      "<class 'pandas.core.frame.DataFrame'>\n",
      "RangeIndex: 568 entries, 0 to 567\n",
      "Data columns (total 4 columns):\n",
      " #   Column      Non-Null Count  Dtype  \n",
      "---  ------      --------------  -----  \n",
      " 0   item_id     568 non-null    object \n",
      " 1   quantity    568 non-null    float64\n",
      " 2   bidder_id   568 non-null    object \n",
      " 3   unit_price  568 non-null    int64  \n",
      "dtypes: float64(1), int64(1), object(2)\n",
      "memory usage: 17.9+ KB\n"
     ]
    }
   ],
   "source": [
    "bid_df_melted.info()"
   ]
  },
  {
   "cell_type": "code",
   "execution_count": 17,
   "metadata": {},
   "outputs": [
    {
     "data": {
      "text/html": [
       "<div>\n",
       "<style scoped>\n",
       "    .dataframe tbody tr th:only-of-type {\n",
       "        vertical-align: middle;\n",
       "    }\n",
       "\n",
       "    .dataframe tbody tr th {\n",
       "        vertical-align: top;\n",
       "    }\n",
       "\n",
       "    .dataframe thead th {\n",
       "        text-align: right;\n",
       "    }\n",
       "</style>\n",
       "<table border=\"1\" class=\"dataframe\">\n",
       "  <thead>\n",
       "    <tr style=\"text-align: right;\">\n",
       "      <th></th>\n",
       "      <th>item_id</th>\n",
       "      <th>quantity</th>\n",
       "      <th>bidder_id</th>\n",
       "      <th>unit_price</th>\n",
       "      <th>contract_id</th>\n",
       "      <th>is_winning_bid</th>\n",
       "    </tr>\n",
       "  </thead>\n",
       "  <tbody>\n",
       "    <tr>\n",
       "      <th>0</th>\n",
       "      <td>2011.601/01000</td>\n",
       "      <td>1.0</td>\n",
       "      <td>engineers</td>\n",
       "      <td>1500000</td>\n",
       "      <td>220002</td>\n",
       "      <td>False</td>\n",
       "    </tr>\n",
       "    <tr>\n",
       "      <th>1</th>\n",
       "      <td>2021.501/00010</td>\n",
       "      <td>1.0</td>\n",
       "      <td>engineers</td>\n",
       "      <td>25000000</td>\n",
       "      <td>220002</td>\n",
       "      <td>False</td>\n",
       "    </tr>\n",
       "    <tr>\n",
       "      <th>2</th>\n",
       "      <td>2051.501/00010</td>\n",
       "      <td>1.0</td>\n",
       "      <td>engineers</td>\n",
       "      <td>100000</td>\n",
       "      <td>220002</td>\n",
       "      <td>False</td>\n",
       "    </tr>\n",
       "    <tr>\n",
       "      <th>3</th>\n",
       "      <td>2101.505/00020</td>\n",
       "      <td>1.4</td>\n",
       "      <td>engineers</td>\n",
       "      <td>800000</td>\n",
       "      <td>220002</td>\n",
       "      <td>False</td>\n",
       "    </tr>\n",
       "    <tr>\n",
       "      <th>4</th>\n",
       "      <td>2101.505/00030</td>\n",
       "      <td>1.4</td>\n",
       "      <td>engineers</td>\n",
       "      <td>400000</td>\n",
       "      <td>220002</td>\n",
       "      <td>False</td>\n",
       "    </tr>\n",
       "  </tbody>\n",
       "</table>\n",
       "</div>"
      ],
      "text/plain": [
       "          item_id  quantity  bidder_id  unit_price contract_id  is_winning_bid\n",
       "0  2011.601/01000       1.0  engineers     1500000      220002           False\n",
       "1  2021.501/00010       1.0  engineers    25000000      220002           False\n",
       "2  2051.501/00010       1.0  engineers      100000      220002           False\n",
       "3  2101.505/00020       1.4  engineers      800000      220002           False\n",
       "4  2101.505/00030       1.4  engineers      400000      220002           False"
      ]
     },
     "execution_count": 17,
     "metadata": {},
     "output_type": "execute_result"
    }
   ],
   "source": [
    "bid_df_final = bid_df_melted.copy()\n",
    "bid_df_final['contract_id'] = \"220002\"\n",
    "bid_df_final['is_winning_bid'] = bid_df_final['bidder_id'] == \"0000198793\"\n",
    "\n",
    "bid_df_final.head()"
   ]
  },
  {
   "cell_type": "code",
   "execution_count": 18,
   "metadata": {},
   "outputs": [
    {
     "name": "stdout",
     "output_type": "stream",
     "text": [
      "{'item_id': '2011.601/01000', 'quantity': 1.0, 'bidder_id': 'engineers', 'unit_price': 1500000, 'contract_id': '220002', 'is_winning_bid': False}\n",
      "{'item_id': '2021.501/00010', 'quantity': 1.0, 'bidder_id': 'engineers', 'unit_price': 25000000, 'contract_id': '220002', 'is_winning_bid': False}\n",
      "{'item_id': '2051.501/00010', 'quantity': 1.0, 'bidder_id': 'engineers', 'unit_price': 100000, 'contract_id': '220002', 'is_winning_bid': False}\n",
      "{'item_id': '2101.505/00020', 'quantity': 1.4, 'bidder_id': 'engineers', 'unit_price': 800000, 'contract_id': '220002', 'is_winning_bid': False}\n",
      "{'item_id': '2101.505/00030', 'quantity': 1.4, 'bidder_id': 'engineers', 'unit_price': 400000, 'contract_id': '220002', 'is_winning_bid': False}\n",
      "{'item_id': '2101.524/00050', 'quantity': 4.0, 'bidder_id': 'engineers', 'unit_price': 12500, 'contract_id': '220002', 'is_winning_bid': False}\n",
      "{'item_id': '2104.502/00120', 'quantity': 67.0, 'bidder_id': 'engineers', 'unit_price': 18641, 'contract_id': '220002', 'is_winning_bid': False}\n",
      "{'item_id': '2104.502/00500', 'quantity': 9.0, 'bidder_id': 'engineers', 'unit_price': 3441, 'contract_id': '220002', 'is_winning_bid': False}\n",
      "{'item_id': '2104.502/00820', 'quantity': 17.0, 'bidder_id': 'engineers', 'unit_price': 20000, 'contract_id': '220002', 'is_winning_bid': False}\n",
      "{'item_id': '2104.502/01200', 'quantity': 4.0, 'bidder_id': 'engineers', 'unit_price': 5500, 'contract_id': '220002', 'is_winning_bid': False}\n"
     ]
    }
   ],
   "source": [
    "bid_dict = bid_df_final.to_dict(orient=\"records\")\n",
    "\n",
    "for idx in range(10):\n",
    "    print(bid_dict[idx])\n"
   ]
  },
  {
   "cell_type": "code",
   "execution_count": null,
   "metadata": {},
   "outputs": [],
   "source": []
  }
 ],
 "metadata": {
  "kernelspec": {
   "display_name": "Python 3.10.4 ('mndot-bid-etl-YQuOmX7S-py3.10')",
   "language": "python",
   "name": "python3"
  },
  "language_info": {
   "codemirror_mode": {
    "name": "ipython",
    "version": 3
   },
   "file_extension": ".py",
   "mimetype": "text/x-python",
   "name": "python",
   "nbconvert_exporter": "python",
   "pygments_lexer": "ipython3",
   "version": "3.10.4"
  },
  "orig_nbformat": 4,
  "vscode": {
   "interpreter": {
    "hash": "f9c9d2af983e9106a5331158cee0de754d053900e4906c0641bac8d646089032"
   }
  }
 },
 "nbformat": 4,
 "nbformat_minor": 2
}
