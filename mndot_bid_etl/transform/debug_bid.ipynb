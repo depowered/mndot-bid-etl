{
 "cells": [
  {
   "cell_type": "code",
   "execution_count": 1,
   "metadata": {},
   "outputs": [],
   "source": [
    "from pathlib import Path\n",
    "\n",
    "from mndot_bid_etl.transform.abstract import read_abstract_csv\n",
    "from mndot_bid_etl.transform.transform_bid import *"
   ]
  },
  {
   "cell_type": "code",
   "execution_count": 2,
   "metadata": {},
   "outputs": [],
   "source": [
    "csv_file = Path(\"../data/csv/2022/220002.csv\").resolve()\n",
    "abstract = read_abstract_csv(csv_file)\n",
    "bid_df = abstract.bid_df"
   ]
  },
  {
   "cell_type": "code",
   "execution_count": null,
   "metadata": {},
   "outputs": [],
   "source": []
  }
 ],
 "metadata": {
  "kernelspec": {
   "display_name": "Python 3.10.4 ('mndot-bid-etl-YQuOmX7S-py3.10')",
   "language": "python",
   "name": "python3"
  },
  "language_info": {
   "codemirror_mode": {
    "name": "ipython",
    "version": 3
   },
   "file_extension": ".py",
   "mimetype": "text/x-python",
   "name": "python",
   "nbconvert_exporter": "python",
   "pygments_lexer": "ipython3",
   "version": "3.10.4"
  },
  "orig_nbformat": 4,
  "vscode": {
   "interpreter": {
    "hash": "f9c9d2af983e9106a5331158cee0de754d053900e4906c0641bac8d646089032"
   }
  }
 },
 "nbformat": 4,
 "nbformat_minor": 2
}
