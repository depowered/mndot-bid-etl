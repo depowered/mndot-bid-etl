{
 "cells": [
  {
   "cell_type": "code",
   "execution_count": 1,
   "metadata": {},
   "outputs": [],
   "source": [
    "import pandas as pd\n",
    "from pathlib import Path\n",
    "\n",
    "from mndot_bid_etl.extract import abstract as ab"
   ]
  },
  {
   "cell_type": "code",
   "execution_count": 3,
   "metadata": {},
   "outputs": [],
   "source": [
    "csv_file = Path(\"../data/csv/2022/220002.csv\").resolve()\n",
    "abstract = ab.read_csv(csv_file)\n",
    "contract_df_raw = abstract.contract_df.copy()"
   ]
  },
  {
   "cell_type": "code",
   "execution_count": 4,
   "metadata": {},
   "outputs": [
    {
     "data": {
      "text/html": [
       "<div>\n",
       "<style scoped>\n",
       "    .dataframe tbody tr th:only-of-type {\n",
       "        vertical-align: middle;\n",
       "    }\n",
       "\n",
       "    .dataframe tbody tr th {\n",
       "        vertical-align: top;\n",
       "    }\n",
       "\n",
       "    .dataframe thead th {\n",
       "        text-align: right;\n",
       "    }\n",
       "</style>\n",
       "<table border=\"1\" class=\"dataframe\">\n",
       "  <thead>\n",
       "    <tr style=\"text-align: right;\">\n",
       "      <th></th>\n",
       "      <th>Letting Date</th>\n",
       "      <th>Job Description</th>\n",
       "      <th>Contract Id</th>\n",
       "      <th>SP Number</th>\n",
       "      <th>District</th>\n",
       "      <th>County</th>\n",
       "    </tr>\n",
       "  </thead>\n",
       "  <tbody>\n",
       "    <tr>\n",
       "      <th>0</th>\n",
       "      <td>01/28/2022</td>\n",
       "      <td>LOCATED ON T.H. 14 FROM 490' WEST OF T.H. 71 T...</td>\n",
       "      <td>220002</td>\n",
       "      <td>0803-44</td>\n",
       "      <td>Mankato</td>\n",
       "      <td>BROWN</td>\n",
       "    </tr>\n",
       "  </tbody>\n",
       "</table>\n",
       "</div>"
      ],
      "text/plain": [
       "  Letting Date                                    Job Description Contract Id  \\\n",
       "0   01/28/2022  LOCATED ON T.H. 14 FROM 490' WEST OF T.H. 71 T...      220002   \n",
       "\n",
       "  SP Number District County  \n",
       "0   0803-44  Mankato  BROWN  "
      ]
     },
     "execution_count": 4,
     "metadata": {},
     "output_type": "execute_result"
    }
   ],
   "source": [
    "contract_df_raw.head()"
   ]
  },
  {
   "cell_type": "code",
   "execution_count": 5,
   "metadata": {},
   "outputs": [
    {
     "name": "stdout",
     "output_type": "stream",
     "text": [
      "<class 'pandas.core.frame.DataFrame'>\n",
      "RangeIndex: 1 entries, 0 to 0\n",
      "Data columns (total 6 columns):\n",
      " #   Column           Non-Null Count  Dtype \n",
      "---  ------           --------------  ----- \n",
      " 0   Letting Date     1 non-null      object\n",
      " 1   Job Description  1 non-null      object\n",
      " 2   Contract Id      1 non-null      object\n",
      " 3   SP Number        1 non-null      object\n",
      " 4   District         1 non-null      object\n",
      " 5   County           1 non-null      object\n",
      "dtypes: object(6)\n",
      "memory usage: 176.0+ bytes\n"
     ]
    }
   ],
   "source": [
    "contract_df_raw.info()"
   ]
  },
  {
   "cell_type": "code",
   "execution_count": 11,
   "metadata": {},
   "outputs": [
    {
     "name": "stdout",
     "output_type": "stream",
     "text": [
      "<class 'pandas.core.frame.DataFrame'>\n",
      "RangeIndex: 1 entries, 0 to 0\n",
      "Data columns (total 6 columns):\n",
      " #   Column           Non-Null Count  Dtype         \n",
      "---  ------           --------------  -----         \n",
      " 0   Letting Date     1 non-null      datetime64[ns]\n",
      " 1   Job Description  1 non-null      object        \n",
      " 2   Contract Id      1 non-null      object        \n",
      " 3   SP Number        1 non-null      object        \n",
      " 4   District         1 non-null      object        \n",
      " 5   County           1 non-null      object        \n",
      "dtypes: datetime64[ns](1), object(5)\n",
      "memory usage: 176.0+ bytes\n"
     ]
    }
   ],
   "source": [
    "# Cast Letting Date to a date type\n",
    "contract_df_dtype = contract_df_raw.astype({\"Letting Date\": \"datetime64[ns]\"})\n",
    "contract_df_dtype.info()"
   ]
  },
  {
   "cell_type": "code",
   "execution_count": 13,
   "metadata": {},
   "outputs": [
    {
     "data": {
      "text/html": [
       "<div>\n",
       "<style scoped>\n",
       "    .dataframe tbody tr th:only-of-type {\n",
       "        vertical-align: middle;\n",
       "    }\n",
       "\n",
       "    .dataframe tbody tr th {\n",
       "        vertical-align: top;\n",
       "    }\n",
       "\n",
       "    .dataframe thead th {\n",
       "        text-align: right;\n",
       "    }\n",
       "</style>\n",
       "<table border=\"1\" class=\"dataframe\">\n",
       "  <thead>\n",
       "    <tr style=\"text-align: right;\">\n",
       "      <th></th>\n",
       "      <th>letting_date</th>\n",
       "      <th>description</th>\n",
       "      <th>id</th>\n",
       "      <th>sp_number</th>\n",
       "      <th>district</th>\n",
       "      <th>county</th>\n",
       "    </tr>\n",
       "  </thead>\n",
       "  <tbody>\n",
       "    <tr>\n",
       "      <th>0</th>\n",
       "      <td>2022-01-28</td>\n",
       "      <td>LOCATED ON T.H. 14 FROM 490' WEST OF T.H. 71 T...</td>\n",
       "      <td>220002</td>\n",
       "      <td>0803-44</td>\n",
       "      <td>Mankato</td>\n",
       "      <td>BROWN</td>\n",
       "    </tr>\n",
       "  </tbody>\n",
       "</table>\n",
       "</div>"
      ],
      "text/plain": [
       "  letting_date                                        description      id  \\\n",
       "0   2022-01-28  LOCATED ON T.H. 14 FROM 490' WEST OF T.H. 71 T...  220002   \n",
       "\n",
       "  sp_number district county  \n",
       "0   0803-44  Mankato  BROWN  "
      ]
     },
     "execution_count": 13,
     "metadata": {},
     "output_type": "execute_result"
    }
   ],
   "source": [
    "# Rename columns\n",
    "rename_map = {\n",
    "    \"Letting Date\": \"letting_date\",\n",
    "    \"Job Description\": \"description\",\n",
    "    \"Contract Id\": \"id\",\n",
    "    \"SP Number\": \"sp_number\",\n",
    "    \"District\": \"district\",\n",
    "    \"County\": \"county\"\n",
    "}\n",
    "\n",
    "contract_df_renamed = contract_df_dtype.rename(columns=rename_map)\n",
    "contract_df_renamed.head()"
   ]
  },
  {
   "cell_type": "code",
   "execution_count": 14,
   "metadata": {},
   "outputs": [
    {
     "data": {
      "text/html": [
       "<div>\n",
       "<style scoped>\n",
       "    .dataframe tbody tr th:only-of-type {\n",
       "        vertical-align: middle;\n",
       "    }\n",
       "\n",
       "    .dataframe tbody tr th {\n",
       "        vertical-align: top;\n",
       "    }\n",
       "\n",
       "    .dataframe thead th {\n",
       "        text-align: right;\n",
       "    }\n",
       "</style>\n",
       "<table border=\"1\" class=\"dataframe\">\n",
       "  <thead>\n",
       "    <tr style=\"text-align: right;\">\n",
       "      <th></th>\n",
       "      <th>letting_date</th>\n",
       "      <th>description</th>\n",
       "      <th>id</th>\n",
       "      <th>sp_number</th>\n",
       "      <th>district</th>\n",
       "      <th>county</th>\n",
       "      <th>winning_bidder_id</th>\n",
       "      <th>spec_year</th>\n",
       "    </tr>\n",
       "  </thead>\n",
       "  <tbody>\n",
       "    <tr>\n",
       "      <th>0</th>\n",
       "      <td>2022-01-28</td>\n",
       "      <td>LOCATED ON T.H. 14 FROM 490' WEST OF T.H. 71 T...</td>\n",
       "      <td>220002</td>\n",
       "      <td>0803-44</td>\n",
       "      <td>Mankato</td>\n",
       "      <td>BROWN</td>\n",
       "      <td>0000198793</td>\n",
       "      <td>2001</td>\n",
       "    </tr>\n",
       "  </tbody>\n",
       "</table>\n",
       "</div>"
      ],
      "text/plain": [
       "  letting_date                                        description      id  \\\n",
       "0   2022-01-28  LOCATED ON T.H. 14 FROM 490' WEST OF T.H. 71 T...  220002   \n",
       "\n",
       "  sp_number district county winning_bidder_id  spec_year  \n",
       "0   0803-44  Mankato  BROWN        0000198793       2001  "
      ]
     },
     "execution_count": 14,
     "metadata": {},
     "output_type": "execute_result"
    }
   ],
   "source": [
    "# Append winning_bidder and spec_year columns\n",
    "contract_df_final = contract_df_renamed.copy()\n",
    "contract_df_final[\"winning_bidder_id\"] = abstract.winning_bidder_id\n",
    "\n",
    "# TODO create algorithm that determines the spec_year\n",
    "contract_df_final[\"spec_year\"] = 2001\n",
    "\n",
    "contract_df_final.head()"
   ]
  },
  {
   "cell_type": "code",
   "execution_count": null,
   "metadata": {},
   "outputs": [],
   "source": []
  }
 ],
 "metadata": {
  "kernelspec": {
   "display_name": "Python 3.10.4 ('mndot-bid-etl-YQuOmX7S-py3.10')",
   "language": "python",
   "name": "python3"
  },
  "language_info": {
   "codemirror_mode": {
    "name": "ipython",
    "version": 3
   },
   "file_extension": ".py",
   "mimetype": "text/x-python",
   "name": "python",
   "nbconvert_exporter": "python",
   "pygments_lexer": "ipython3",
   "version": "3.10.4"
  },
  "orig_nbformat": 4,
  "vscode": {
   "interpreter": {
    "hash": "f9c9d2af983e9106a5331158cee0de754d053900e4906c0641bac8d646089032"
   }
  }
 },
 "nbformat": 4,
 "nbformat_minor": 2
}
