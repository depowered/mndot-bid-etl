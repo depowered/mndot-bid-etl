{
 "cells": [
  {
   "cell_type": "code",
   "execution_count": 1,
   "metadata": {},
   "outputs": [],
   "source": [
    "from pathlib import Path\n",
    "\n",
    "from mndot_bid_etl.extract import abstract as ab\n",
    "from mndot_bid_etl.transform.transform_bid import get_transformed_bid_df"
   ]
  },
  {
   "cell_type": "code",
   "execution_count": 2,
   "metadata": {},
   "outputs": [],
   "source": [
    "csv_file = Path(\"../data/csv/2022/220002.csv\").resolve()\n",
    "abstract = ab.read_csv(csv_file)\n",
    "bid_df = get_transformed_bid_df(abstract)"
   ]
  },
  {
   "cell_type": "code",
   "execution_count": 3,
   "metadata": {},
   "outputs": [
    {
     "data": {
      "text/html": [
       "<div>\n",
       "<style scoped>\n",
       "    .dataframe tbody tr th:only-of-type {\n",
       "        vertical-align: middle;\n",
       "    }\n",
       "\n",
       "    .dataframe tbody tr th {\n",
       "        vertical-align: top;\n",
       "    }\n",
       "\n",
       "    .dataframe thead th {\n",
       "        text-align: right;\n",
       "    }\n",
       "</style>\n",
       "<table border=\"1\" class=\"dataframe\">\n",
       "  <thead>\n",
       "    <tr style=\"text-align: right;\">\n",
       "      <th></th>\n",
       "      <th>item_id</th>\n",
       "      <th>quantity</th>\n",
       "      <th>bidder_id</th>\n",
       "      <th>unit_price</th>\n",
       "      <th>contract_id</th>\n",
       "      <th>is_winning_bid</th>\n",
       "    </tr>\n",
       "  </thead>\n",
       "  <tbody>\n",
       "    <tr>\n",
       "      <th>0</th>\n",
       "      <td>2011.601/01000</td>\n",
       "      <td>1.0</td>\n",
       "      <td>engineers</td>\n",
       "      <td>1500000</td>\n",
       "      <td>220002</td>\n",
       "      <td>False</td>\n",
       "    </tr>\n",
       "    <tr>\n",
       "      <th>1</th>\n",
       "      <td>2021.501/00010</td>\n",
       "      <td>1.0</td>\n",
       "      <td>engineers</td>\n",
       "      <td>25000000</td>\n",
       "      <td>220002</td>\n",
       "      <td>False</td>\n",
       "    </tr>\n",
       "    <tr>\n",
       "      <th>2</th>\n",
       "      <td>2051.501/00010</td>\n",
       "      <td>1.0</td>\n",
       "      <td>engineers</td>\n",
       "      <td>100000</td>\n",
       "      <td>220002</td>\n",
       "      <td>False</td>\n",
       "    </tr>\n",
       "    <tr>\n",
       "      <th>3</th>\n",
       "      <td>2101.505/00020</td>\n",
       "      <td>1.4</td>\n",
       "      <td>engineers</td>\n",
       "      <td>800000</td>\n",
       "      <td>220002</td>\n",
       "      <td>False</td>\n",
       "    </tr>\n",
       "    <tr>\n",
       "      <th>4</th>\n",
       "      <td>2101.505/00030</td>\n",
       "      <td>1.4</td>\n",
       "      <td>engineers</td>\n",
       "      <td>400000</td>\n",
       "      <td>220002</td>\n",
       "      <td>False</td>\n",
       "    </tr>\n",
       "  </tbody>\n",
       "</table>\n",
       "</div>"
      ],
      "text/plain": [
       "          item_id  quantity  bidder_id  unit_price contract_id  is_winning_bid\n",
       "0  2011.601/01000       1.0  engineers     1500000      220002           False\n",
       "1  2021.501/00010       1.0  engineers    25000000      220002           False\n",
       "2  2051.501/00010       1.0  engineers      100000      220002           False\n",
       "3  2101.505/00020       1.4  engineers      800000      220002           False\n",
       "4  2101.505/00030       1.4  engineers      400000      220002           False"
      ]
     },
     "execution_count": 3,
     "metadata": {},
     "output_type": "execute_result"
    }
   ],
   "source": [
    "bid_df.head()"
   ]
  },
  {
   "cell_type": "code",
   "execution_count": 4,
   "metadata": {},
   "outputs": [
    {
     "name": "stdout",
     "output_type": "stream",
     "text": [
      "<class 'pandas.core.frame.DataFrame'>\n",
      "RangeIndex: 568 entries, 0 to 567\n",
      "Data columns (total 6 columns):\n",
      " #   Column          Non-Null Count  Dtype  \n",
      "---  ------          --------------  -----  \n",
      " 0   item_id         568 non-null    object \n",
      " 1   quantity        568 non-null    float64\n",
      " 2   bidder_id       568 non-null    object \n",
      " 3   unit_price      568 non-null    int64  \n",
      " 4   contract_id     568 non-null    object \n",
      " 5   is_winning_bid  568 non-null    bool   \n",
      "dtypes: bool(1), float64(1), int64(1), object(3)\n",
      "memory usage: 22.9+ KB\n"
     ]
    }
   ],
   "source": [
    "bid_df.info()"
   ]
  },
  {
   "cell_type": "code",
   "execution_count": null,
   "metadata": {},
   "outputs": [],
   "source": []
  }
 ],
 "metadata": {
  "kernelspec": {
   "display_name": "Python 3.10.4 ('mndot-bid-etl-YQuOmX7S-py3.10')",
   "language": "python",
   "name": "python3"
  },
  "language_info": {
   "codemirror_mode": {
    "name": "ipython",
    "version": 3
   },
   "file_extension": ".py",
   "mimetype": "text/x-python",
   "name": "python",
   "nbconvert_exporter": "python",
   "pygments_lexer": "ipython3",
   "version": "3.10.4"
  },
  "orig_nbformat": 4,
  "vscode": {
   "interpreter": {
    "hash": "f9c9d2af983e9106a5331158cee0de754d053900e4906c0641bac8d646089032"
   }
  }
 },
 "nbformat": 4,
 "nbformat_minor": 2
}
