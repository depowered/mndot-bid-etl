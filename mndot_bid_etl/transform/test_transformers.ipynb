{
 "cells": [
  {
   "cell_type": "code",
   "execution_count": 13,
   "metadata": {},
   "outputs": [],
   "source": [
    "from pathlib import Path\n",
    "\n",
    "from mndot_bid_etl.extract import abstract as ab\n",
    "from mndot_bid_etl.transform.transform_bid import get_transformed_bid_df\n",
    "from mndot_bid_etl.transform.transform_bidder import get_transformed_bidder_df\n",
    "from mndot_bid_etl.transform.transform_contract import transform_contract_df"
   ]
  },
  {
   "cell_type": "code",
   "execution_count": 3,
   "metadata": {},
   "outputs": [],
   "source": [
    "csv_file = Path(\"../data/csv/2022/220002.csv\").resolve()\n",
    "abstract = ab.read_csv(csv_file)"
   ]
  },
  {
   "cell_type": "markdown",
   "metadata": {},
   "source": [
    "#### Bid Transformer"
   ]
  },
  {
   "cell_type": "code",
   "execution_count": 4,
   "metadata": {},
   "outputs": [],
   "source": [
    "bid_df = get_transformed_bid_df(abstract)"
   ]
  },
  {
   "cell_type": "code",
   "execution_count": 5,
   "metadata": {},
   "outputs": [
    {
     "data": {
      "text/html": [
       "<div>\n",
       "<style scoped>\n",
       "    .dataframe tbody tr th:only-of-type {\n",
       "        vertical-align: middle;\n",
       "    }\n",
       "\n",
       "    .dataframe tbody tr th {\n",
       "        vertical-align: top;\n",
       "    }\n",
       "\n",
       "    .dataframe thead th {\n",
       "        text-align: right;\n",
       "    }\n",
       "</style>\n",
       "<table border=\"1\" class=\"dataframe\">\n",
       "  <thead>\n",
       "    <tr style=\"text-align: right;\">\n",
       "      <th></th>\n",
       "      <th>item_id</th>\n",
       "      <th>quantity</th>\n",
       "      <th>bidder_id</th>\n",
       "      <th>unit_price</th>\n",
       "      <th>contract_id</th>\n",
       "      <th>is_winning_bid</th>\n",
       "    </tr>\n",
       "  </thead>\n",
       "  <tbody>\n",
       "    <tr>\n",
       "      <th>0</th>\n",
       "      <td>2011.601/01000</td>\n",
       "      <td>1.0</td>\n",
       "      <td>engineers</td>\n",
       "      <td>1500000</td>\n",
       "      <td>220002</td>\n",
       "      <td>False</td>\n",
       "    </tr>\n",
       "    <tr>\n",
       "      <th>1</th>\n",
       "      <td>2021.501/00010</td>\n",
       "      <td>1.0</td>\n",
       "      <td>engineers</td>\n",
       "      <td>25000000</td>\n",
       "      <td>220002</td>\n",
       "      <td>False</td>\n",
       "    </tr>\n",
       "    <tr>\n",
       "      <th>2</th>\n",
       "      <td>2051.501/00010</td>\n",
       "      <td>1.0</td>\n",
       "      <td>engineers</td>\n",
       "      <td>100000</td>\n",
       "      <td>220002</td>\n",
       "      <td>False</td>\n",
       "    </tr>\n",
       "    <tr>\n",
       "      <th>3</th>\n",
       "      <td>2101.505/00020</td>\n",
       "      <td>1.4</td>\n",
       "      <td>engineers</td>\n",
       "      <td>800000</td>\n",
       "      <td>220002</td>\n",
       "      <td>False</td>\n",
       "    </tr>\n",
       "    <tr>\n",
       "      <th>4</th>\n",
       "      <td>2101.505/00030</td>\n",
       "      <td>1.4</td>\n",
       "      <td>engineers</td>\n",
       "      <td>400000</td>\n",
       "      <td>220002</td>\n",
       "      <td>False</td>\n",
       "    </tr>\n",
       "  </tbody>\n",
       "</table>\n",
       "</div>"
      ],
      "text/plain": [
       "          item_id  quantity  bidder_id  unit_price contract_id  is_winning_bid\n",
       "0  2011.601/01000       1.0  engineers     1500000      220002           False\n",
       "1  2021.501/00010       1.0  engineers    25000000      220002           False\n",
       "2  2051.501/00010       1.0  engineers      100000      220002           False\n",
       "3  2101.505/00020       1.4  engineers      800000      220002           False\n",
       "4  2101.505/00030       1.4  engineers      400000      220002           False"
      ]
     },
     "execution_count": 5,
     "metadata": {},
     "output_type": "execute_result"
    }
   ],
   "source": [
    "bid_df.head()"
   ]
  },
  {
   "cell_type": "code",
   "execution_count": 6,
   "metadata": {},
   "outputs": [
    {
     "name": "stdout",
     "output_type": "stream",
     "text": [
      "<class 'pandas.core.frame.DataFrame'>\n",
      "RangeIndex: 568 entries, 0 to 567\n",
      "Data columns (total 6 columns):\n",
      " #   Column          Non-Null Count  Dtype  \n",
      "---  ------          --------------  -----  \n",
      " 0   item_id         568 non-null    object \n",
      " 1   quantity        568 non-null    float64\n",
      " 2   bidder_id       568 non-null    object \n",
      " 3   unit_price      568 non-null    int64  \n",
      " 4   contract_id     568 non-null    object \n",
      " 5   is_winning_bid  568 non-null    bool   \n",
      "dtypes: bool(1), float64(1), int64(1), object(3)\n",
      "memory usage: 22.9+ KB\n"
     ]
    }
   ],
   "source": [
    "bid_df.info()"
   ]
  },
  {
   "cell_type": "markdown",
   "metadata": {},
   "source": [
    "#### Bidder Transformer"
   ]
  },
  {
   "cell_type": "code",
   "execution_count": 8,
   "metadata": {},
   "outputs": [],
   "source": [
    "bidder_df = get_transformed_bidder_df(abstract)"
   ]
  },
  {
   "cell_type": "code",
   "execution_count": 9,
   "metadata": {},
   "outputs": [
    {
     "data": {
      "text/html": [
       "<div>\n",
       "<style scoped>\n",
       "    .dataframe tbody tr th:only-of-type {\n",
       "        vertical-align: middle;\n",
       "    }\n",
       "\n",
       "    .dataframe tbody tr th {\n",
       "        vertical-align: top;\n",
       "    }\n",
       "\n",
       "    .dataframe thead th {\n",
       "        text-align: right;\n",
       "    }\n",
       "</style>\n",
       "<table border=\"1\" class=\"dataframe\">\n",
       "  <thead>\n",
       "    <tr style=\"text-align: right;\">\n",
       "      <th></th>\n",
       "      <th>id</th>\n",
       "      <th>name</th>\n",
       "    </tr>\n",
       "  </thead>\n",
       "  <tbody>\n",
       "    <tr>\n",
       "      <th>0</th>\n",
       "      <td>0000198793</td>\n",
       "      <td>Duininck, Inc.</td>\n",
       "    </tr>\n",
       "    <tr>\n",
       "      <th>1</th>\n",
       "      <td>0000210000</td>\n",
       "      <td>Knife River Corporation - North Central</td>\n",
       "    </tr>\n",
       "    <tr>\n",
       "      <th>2</th>\n",
       "      <td>0000207897</td>\n",
       "      <td>Central Specialties, Inc.</td>\n",
       "    </tr>\n",
       "  </tbody>\n",
       "</table>\n",
       "</div>"
      ],
      "text/plain": [
       "           id                                     name\n",
       "0  0000198793                           Duininck, Inc.\n",
       "1  0000210000  Knife River Corporation - North Central\n",
       "2  0000207897                Central Specialties, Inc."
      ]
     },
     "execution_count": 9,
     "metadata": {},
     "output_type": "execute_result"
    }
   ],
   "source": [
    "bidder_df.head()"
   ]
  },
  {
   "cell_type": "code",
   "execution_count": 11,
   "metadata": {},
   "outputs": [
    {
     "name": "stdout",
     "output_type": "stream",
     "text": [
      "<class 'pandas.core.frame.DataFrame'>\n",
      "RangeIndex: 3 entries, 0 to 2\n",
      "Data columns (total 2 columns):\n",
      " #   Column  Non-Null Count  Dtype \n",
      "---  ------  --------------  ----- \n",
      " 0   id      3 non-null      object\n",
      " 1   name    3 non-null      object\n",
      "dtypes: object(2)\n",
      "memory usage: 176.0+ bytes\n"
     ]
    }
   ],
   "source": [
    "bidder_df.info()"
   ]
  },
  {
   "cell_type": "markdown",
   "metadata": {},
   "source": [
    "#### Contract Transformer"
   ]
  },
  {
   "cell_type": "code",
   "execution_count": 14,
   "metadata": {},
   "outputs": [],
   "source": [
    "contract_df = transform_contract_df(abstract)"
   ]
  },
  {
   "cell_type": "code",
   "execution_count": 15,
   "metadata": {},
   "outputs": [
    {
     "data": {
      "text/html": [
       "<div>\n",
       "<style scoped>\n",
       "    .dataframe tbody tr th:only-of-type {\n",
       "        vertical-align: middle;\n",
       "    }\n",
       "\n",
       "    .dataframe tbody tr th {\n",
       "        vertical-align: top;\n",
       "    }\n",
       "\n",
       "    .dataframe thead th {\n",
       "        text-align: right;\n",
       "    }\n",
       "</style>\n",
       "<table border=\"1\" class=\"dataframe\">\n",
       "  <thead>\n",
       "    <tr style=\"text-align: right;\">\n",
       "      <th></th>\n",
       "      <th>letting_date</th>\n",
       "      <th>description</th>\n",
       "      <th>id</th>\n",
       "      <th>sp_number</th>\n",
       "      <th>district</th>\n",
       "      <th>county</th>\n",
       "      <th>winning_bidder_id</th>\n",
       "      <th>spec_year</th>\n",
       "    </tr>\n",
       "  </thead>\n",
       "  <tbody>\n",
       "    <tr>\n",
       "      <th>0</th>\n",
       "      <td>01/28/2022</td>\n",
       "      <td>LOCATED ON T.H. 14 FROM 490' WEST OF T.H. 71 T...</td>\n",
       "      <td>220002</td>\n",
       "      <td>0803-44</td>\n",
       "      <td>Mankato</td>\n",
       "      <td>BROWN</td>\n",
       "      <td>0000198793</td>\n",
       "      <td>2001</td>\n",
       "    </tr>\n",
       "  </tbody>\n",
       "</table>\n",
       "</div>"
      ],
      "text/plain": [
       "  letting_date                                        description      id  \\\n",
       "0   01/28/2022  LOCATED ON T.H. 14 FROM 490' WEST OF T.H. 71 T...  220002   \n",
       "\n",
       "  sp_number district county winning_bidder_id  spec_year  \n",
       "0   0803-44  Mankato  BROWN        0000198793       2001  "
      ]
     },
     "execution_count": 15,
     "metadata": {},
     "output_type": "execute_result"
    }
   ],
   "source": [
    "contract_df.head()"
   ]
  },
  {
   "cell_type": "code",
   "execution_count": 16,
   "metadata": {},
   "outputs": [
    {
     "name": "stdout",
     "output_type": "stream",
     "text": [
      "<class 'pandas.core.frame.DataFrame'>\n",
      "RangeIndex: 1 entries, 0 to 0\n",
      "Data columns (total 8 columns):\n",
      " #   Column             Non-Null Count  Dtype \n",
      "---  ------             --------------  ----- \n",
      " 0   letting_date       1 non-null      object\n",
      " 1   description        1 non-null      object\n",
      " 2   id                 1 non-null      object\n",
      " 3   sp_number          1 non-null      object\n",
      " 4   district           1 non-null      object\n",
      " 5   county             1 non-null      object\n",
      " 6   winning_bidder_id  1 non-null      object\n",
      " 7   spec_year          1 non-null      int64 \n",
      "dtypes: int64(1), object(7)\n",
      "memory usage: 192.0+ bytes\n"
     ]
    }
   ],
   "source": [
    "contract_df.info()"
   ]
  },
  {
   "cell_type": "code",
   "execution_count": null,
   "metadata": {},
   "outputs": [],
   "source": []
  }
 ],
 "metadata": {
  "kernelspec": {
   "display_name": "Python 3.10.4 ('mndot-bid-etl-YQuOmX7S-py3.10')",
   "language": "python",
   "name": "python3"
  },
  "language_info": {
   "codemirror_mode": {
    "name": "ipython",
    "version": 3
   },
   "file_extension": ".py",
   "mimetype": "text/x-python",
   "name": "python",
   "nbconvert_exporter": "python",
   "pygments_lexer": "ipython3",
   "version": "3.10.4"
  },
  "orig_nbformat": 4,
  "vscode": {
   "interpreter": {
    "hash": "f9c9d2af983e9106a5331158cee0de754d053900e4906c0641bac8d646089032"
   }
  }
 },
 "nbformat": 4,
 "nbformat_minor": 2
}
