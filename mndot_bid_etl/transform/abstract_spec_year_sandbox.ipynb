{
 "cells": [
  {
   "cell_type": "code",
   "execution_count": 1,
   "metadata": {},
   "outputs": [],
   "source": [
    "import pandas as pd\n",
    "from pathlib import Path\n",
    "\n",
    "from mndot_bid_etl.transform.item_list import generate_item_list\n",
    "from mndot_bid_etl.transform.abstract import read_abstract_csv\n",
    "from mndot_bid_etl.transform.transform_bid import transform_bid_df"
   ]
  },
  {
   "cell_type": "markdown",
   "metadata": {},
   "source": [
    "#### Load Data"
   ]
  },
  {
   "cell_type": "code",
   "execution_count": 2,
   "metadata": {},
   "outputs": [],
   "source": [
    "item_list_2016_csv = Path(\"../data/csv/item_list_2016.csv\").resolve()\n",
    "item_list_2018_csv = Path(\"../data/csv/item_list_2018.csv\").resolve()\n",
    "item_list_2020_csv = Path(\"../data/csv/item_list_2020.csv\").resolve()\n",
    "\n",
    "item_list = generate_item_list(item_list_2016_csv, item_list_2018_csv, item_list_2020_csv)"
   ]
  },
  {
   "cell_type": "markdown",
   "metadata": {},
   "source": [
    "#### Analyze Spec Year of Contract Id 220002"
   ]
  },
  {
   "cell_type": "code",
   "execution_count": 3,
   "metadata": {},
   "outputs": [],
   "source": [
    "abstract_220002_csv = Path(\"../data/csv/2022/220002.csv\").resolve()\n",
    "abstract_220002 = read_abstract_csv(abstract_220002_csv)"
   ]
  },
  {
   "cell_type": "code",
   "execution_count": 4,
   "metadata": {},
   "outputs": [
    {
     "name": "stdout",
     "output_type": "stream",
     "text": [
      "<class 'pandas.core.frame.DataFrame'>\n",
      "RangeIndex: 1 entries, 0 to 0\n",
      "Data columns (total 6 columns):\n",
      " #   Column           Non-Null Count  Dtype \n",
      "---  ------           --------------  ----- \n",
      " 0   Letting Date     1 non-null      object\n",
      " 1   Job Description  1 non-null      object\n",
      " 2   Contract Id      1 non-null      object\n",
      " 3   SP Number        1 non-null      object\n",
      " 4   District         1 non-null      object\n",
      " 5   County           1 non-null      object\n",
      "dtypes: object(6)\n",
      "memory usage: 176.0+ bytes\n"
     ]
    }
   ],
   "source": [
    "abstract_220002.contract_df.info()"
   ]
  },
  {
   "cell_type": "code",
   "execution_count": 5,
   "metadata": {},
   "outputs": [
    {
     "data": {
      "text/plain": [
       "datetime.date(2022, 1, 28)"
      ]
     },
     "execution_count": 5,
     "metadata": {},
     "output_type": "execute_result"
    }
   ],
   "source": [
    "abstract_220002.letting_date"
   ]
  },
  {
   "cell_type": "code",
   "execution_count": 6,
   "metadata": {},
   "outputs": [
    {
     "data": {
      "text/html": [
       "<div>\n",
       "<style scoped>\n",
       "    .dataframe tbody tr th:only-of-type {\n",
       "        vertical-align: middle;\n",
       "    }\n",
       "\n",
       "    .dataframe tbody tr th {\n",
       "        vertical-align: top;\n",
       "    }\n",
       "\n",
       "    .dataframe thead th {\n",
       "        text-align: right;\n",
       "    }\n",
       "</style>\n",
       "<table border=\"1\" class=\"dataframe\">\n",
       "  <thead>\n",
       "    <tr style=\"text-align: right;\">\n",
       "      <th></th>\n",
       "      <th>item_id</th>\n",
       "      <th>long_description</th>\n",
       "      <th>quantity</th>\n",
       "      <th>bidder_id</th>\n",
       "      <th>unit_price</th>\n",
       "      <th>contract_id</th>\n",
       "    </tr>\n",
       "  </thead>\n",
       "  <tbody>\n",
       "    <tr>\n",
       "      <th>0</th>\n",
       "      <td>2011.601/01000</td>\n",
       "      <td>AS BUILT</td>\n",
       "      <td>1.0</td>\n",
       "      <td>engineers</td>\n",
       "      <td>1500000</td>\n",
       "      <td>220002</td>\n",
       "    </tr>\n",
       "    <tr>\n",
       "      <th>1</th>\n",
       "      <td>2021.501/00010</td>\n",
       "      <td>MOBILIZATION</td>\n",
       "      <td>1.0</td>\n",
       "      <td>engineers</td>\n",
       "      <td>25000000</td>\n",
       "      <td>220002</td>\n",
       "    </tr>\n",
       "    <tr>\n",
       "      <th>2</th>\n",
       "      <td>2051.501/00010</td>\n",
       "      <td>MAINT AND RESTORATION OF HAUL ROADS</td>\n",
       "      <td>1.0</td>\n",
       "      <td>engineers</td>\n",
       "      <td>100000</td>\n",
       "      <td>220002</td>\n",
       "    </tr>\n",
       "    <tr>\n",
       "      <th>3</th>\n",
       "      <td>2101.505/00020</td>\n",
       "      <td>CLEARING</td>\n",
       "      <td>1.4</td>\n",
       "      <td>engineers</td>\n",
       "      <td>800000</td>\n",
       "      <td>220002</td>\n",
       "    </tr>\n",
       "    <tr>\n",
       "      <th>4</th>\n",
       "      <td>2101.505/00030</td>\n",
       "      <td>GRUBBING</td>\n",
       "      <td>1.4</td>\n",
       "      <td>engineers</td>\n",
       "      <td>400000</td>\n",
       "      <td>220002</td>\n",
       "    </tr>\n",
       "  </tbody>\n",
       "</table>\n",
       "</div>"
      ],
      "text/plain": [
       "          item_id                     long_description  quantity  bidder_id  \\\n",
       "0  2011.601/01000                             AS BUILT       1.0  engineers   \n",
       "1  2021.501/00010                         MOBILIZATION       1.0  engineers   \n",
       "2  2051.501/00010  MAINT AND RESTORATION OF HAUL ROADS       1.0  engineers   \n",
       "3  2101.505/00020                             CLEARING       1.4  engineers   \n",
       "4  2101.505/00030                             GRUBBING       1.4  engineers   \n",
       "\n",
       "   unit_price contract_id  \n",
       "0     1500000      220002  \n",
       "1    25000000      220002  \n",
       "2      100000      220002  \n",
       "3      800000      220002  \n",
       "4      400000      220002  "
      ]
     },
     "execution_count": 6,
     "metadata": {},
     "output_type": "execute_result"
    }
   ],
   "source": [
    "bid_df = transform_bid_df(abstract_220002.bid_df, abstract_220002.contract_id)\n",
    "bid_df.head()"
   ]
  },
  {
   "cell_type": "code",
   "execution_count": 7,
   "metadata": {},
   "outputs": [],
   "source": [
    "def generate_compound_ids(df: pd.DataFrame) -> pd.Series:\n",
    "    return df[\"item_id\"] + \"_\" + df[\"long_description\"]"
   ]
  },
  {
   "cell_type": "code",
   "execution_count": 8,
   "metadata": {},
   "outputs": [
    {
     "name": "stdout",
     "output_type": "stream",
     "text": [
      "<class 'pandas.core.frame.DataFrame'>\n",
      "RangeIndex: 568 entries, 0 to 567\n",
      "Data columns (total 7 columns):\n",
      " #   Column            Non-Null Count  Dtype  \n",
      "---  ------            --------------  -----  \n",
      " 0   item_id           568 non-null    object \n",
      " 1   long_description  568 non-null    object \n",
      " 2   quantity          568 non-null    float64\n",
      " 3   bidder_id         568 non-null    object \n",
      " 4   unit_price        568 non-null    int64  \n",
      " 5   contract_id       568 non-null    object \n",
      " 6   compound_id       568 non-null    object \n",
      "dtypes: float64(1), int64(1), object(5)\n",
      "memory usage: 31.2+ KB\n"
     ]
    }
   ],
   "source": [
    "bid_df_compound_id = bid_df.assign(compound_id=generate_compound_ids(bid_df))\n",
    "bid_df_compound_id.info()"
   ]
  },
  {
   "cell_type": "code",
   "execution_count": 9,
   "metadata": {},
   "outputs": [
    {
     "name": "stdout",
     "output_type": "stream",
     "text": [
      "<class 'pandas.core.frame.DataFrame'>\n",
      "Index: 14426 entries, 2011.601/00003_CONSTRUCTION SURVEYING to 2582.503/80312_12\" DOTTED LINE PREFORM THERMO GROUND IN CONT ESR\n",
      "Data columns (total 3 columns):\n",
      " #   Column      Non-Null Count  Dtype\n",
      "---  ------      --------------  -----\n",
      " 0   is_in_2016  14426 non-null  bool \n",
      " 1   is_in_2018  14426 non-null  bool \n",
      " 2   is_in_2020  14426 non-null  bool \n",
      "dtypes: bool(3)\n",
      "memory usage: 155.0+ KB\n"
     ]
    }
   ],
   "source": [
    "item_list.compound_id_matrix.info()"
   ]
  },
  {
   "cell_type": "code",
   "execution_count": 12,
   "metadata": {},
   "outputs": [
    {
     "data": {
      "text/plain": [
       "is_in_2016    False\n",
       "is_in_2018     True\n",
       "is_in_2020     True\n",
       "Name: 2360.509/14500_TYPE SP 9.5 WEARING COURSE MIXTURE (4,E), dtype: bool"
      ]
     },
     "execution_count": 12,
     "metadata": {},
     "output_type": "execute_result"
    }
   ],
   "source": [
    "# This should succeed\n",
    "item_list.compound_id_matrix.loc[\"2360.509/14500_TYPE SP 9.5 WEARING COURSE MIXTURE (4,E)\"]"
   ]
  },
  {
   "cell_type": "code",
   "execution_count": 13,
   "metadata": {},
   "outputs": [],
   "source": [
    "compound_id_matrix_dump = Path(\"../data/csv/compound_id_matrix_dump.csv\").resolve()\n",
    "with open(compound_id_matrix_dump, \"w\") as f:\n",
    "    item_list.compound_id_matrix.to_csv(f, quotechar=\"'\")"
   ]
  },
  {
   "cell_type": "code",
   "execution_count": 14,
   "metadata": {},
   "outputs": [
    {
     "name": "stdout",
     "output_type": "stream",
     "text": [
      "<class 'pandas.core.frame.DataFrame'>\n",
      "RangeIndex: 568 entries, 0 to 567\n",
      "Data columns (total 10 columns):\n",
      " #   Column            Non-Null Count  Dtype  \n",
      "---  ------            --------------  -----  \n",
      " 0   item_id           568 non-null    object \n",
      " 1   long_description  568 non-null    object \n",
      " 2   quantity          568 non-null    float64\n",
      " 3   bidder_id         568 non-null    object \n",
      " 4   unit_price        568 non-null    int64  \n",
      " 5   contract_id       568 non-null    object \n",
      " 6   compound_id       568 non-null    object \n",
      " 7   is_in_2016        568 non-null    bool   \n",
      " 8   is_in_2018        568 non-null    bool   \n",
      " 9   is_in_2020        568 non-null    bool   \n",
      "dtypes: bool(3), float64(1), int64(1), object(5)\n",
      "memory usage: 32.9+ KB\n"
     ]
    }
   ],
   "source": [
    "bid_df_matrix = bid_df_compound_id.merge(item_list.compound_id_matrix, how=\"left\", left_on=\"compound_id\", right_index=True)\n",
    "bid_df_matrix.info()"
   ]
  },
  {
   "cell_type": "code",
   "execution_count": 15,
   "metadata": {},
   "outputs": [
    {
     "data": {
      "text/plain": [
       "item_id                                                2360.509/14500\n",
       "long_description             TYPE SP 9.5 WEARING COURSE MIXTURE (4,E)\n",
       "quantity                                                       4585.0\n",
       "bidder_id                                                   engineers\n",
       "unit_price                                                       6919\n",
       "contract_id                                                    220002\n",
       "compound_id         2360.509/14500_TYPE SP 9.5 WEARING COURSE MIXT...\n",
       "is_in_2016                                                      False\n",
       "is_in_2018                                                       True\n",
       "is_in_2020                                                       True\n",
       "Name: 49, dtype: object"
      ]
     },
     "execution_count": 15,
     "metadata": {},
     "output_type": "execute_result"
    }
   ],
   "source": [
    "bid_df_matrix.iloc[49]"
   ]
  },
  {
   "cell_type": "code",
   "execution_count": 16,
   "metadata": {},
   "outputs": [
    {
     "data": {
      "text/html": [
       "<div>\n",
       "<style scoped>\n",
       "    .dataframe tbody tr th:only-of-type {\n",
       "        vertical-align: middle;\n",
       "    }\n",
       "\n",
       "    .dataframe tbody tr th {\n",
       "        vertical-align: top;\n",
       "    }\n",
       "\n",
       "    .dataframe thead th {\n",
       "        text-align: right;\n",
       "    }\n",
       "</style>\n",
       "<table border=\"1\" class=\"dataframe\">\n",
       "  <thead>\n",
       "    <tr style=\"text-align: right;\">\n",
       "      <th></th>\n",
       "      <th>item_id</th>\n",
       "      <th>long_description</th>\n",
       "      <th>quantity</th>\n",
       "      <th>bidder_id</th>\n",
       "      <th>unit_price</th>\n",
       "      <th>contract_id</th>\n",
       "      <th>compound_id</th>\n",
       "      <th>is_in_2016</th>\n",
       "      <th>is_in_2018</th>\n",
       "      <th>is_in_2020</th>\n",
       "    </tr>\n",
       "  </thead>\n",
       "  <tbody>\n",
       "  </tbody>\n",
       "</table>\n",
       "</div>"
      ],
      "text/plain": [
       "Empty DataFrame\n",
       "Columns: [item_id, long_description, quantity, bidder_id, unit_price, contract_id, compound_id, is_in_2016, is_in_2018, is_in_2020]\n",
       "Index: []"
      ]
     },
     "execution_count": 16,
     "metadata": {},
     "output_type": "execute_result"
    }
   ],
   "source": [
    "bid_df_matrix[bid_df_matrix[\"is_in_2016\"].isna()]"
   ]
  },
  {
   "cell_type": "code",
   "execution_count": 19,
   "metadata": {},
   "outputs": [
    {
     "name": "stdout",
     "output_type": "stream",
     "text": [
      "<class 'pandas.core.frame.DataFrame'>\n",
      "RangeIndex: 568 entries, 0 to 567\n",
      "Data columns (total 10 columns):\n",
      " #   Column            Non-Null Count  Dtype  \n",
      "---  ------            --------------  -----  \n",
      " 0   item_id           568 non-null    object \n",
      " 1   long_description  568 non-null    object \n",
      " 2   quantity          568 non-null    float64\n",
      " 3   bidder_id         568 non-null    object \n",
      " 4   unit_price        568 non-null    int64  \n",
      " 5   contract_id       568 non-null    object \n",
      " 6   compound_id       568 non-null    object \n",
      " 7   is_in_2016        568 non-null    bool   \n",
      " 8   is_in_2018        568 non-null    bool   \n",
      " 9   is_in_2020        568 non-null    bool   \n",
      "dtypes: bool(3), float64(1), int64(1), object(5)\n",
      "memory usage: 32.9+ KB\n"
     ]
    }
   ],
   "source": [
    "bid_df_matrix.info()"
   ]
  },
  {
   "cell_type": "markdown",
   "metadata": {},
   "source": [
    "# This 2022 let project used spec year 2018 items..."
   ]
  },
  {
   "cell_type": "code",
   "execution_count": 27,
   "metadata": {},
   "outputs": [
    {
     "data": {
      "text/plain": [
       "{'is_in_2016': 84, 'is_in_2018': 568, 'is_in_2020': 548}"
      ]
     },
     "execution_count": 27,
     "metadata": {},
     "output_type": "execute_result"
    }
   ],
   "source": [
    "count_df = bid_df_matrix[[\"is_in_2016\", \"is_in_2018\", \"is_in_2020\"]].sum(axis=0).to_dict()\n",
    "count_df"
   ]
  },
  {
   "cell_type": "code",
   "execution_count": 29,
   "metadata": {},
   "outputs": [
    {
     "data": {
      "text/plain": [
       "'is_in_2018'"
      ]
     },
     "execution_count": 29,
     "metadata": {},
     "output_type": "execute_result"
    }
   ],
   "source": [
    "max(count_df, key=count_df.get)"
   ]
  },
  {
   "cell_type": "code",
   "execution_count": 33,
   "metadata": {},
   "outputs": [
    {
     "data": {
      "text/plain": [
       "120"
      ]
     },
     "execution_count": 33,
     "metadata": {},
     "output_type": "execute_result"
    }
   ],
   "source": [
    "stats = {\"2016\": 100, \"2018\": 120, \"2020\": 120}\n",
    "count_2016, count_2018, count_2020 = stats.values()\n",
    "count_2018"
   ]
  },
  {
   "cell_type": "code",
   "execution_count": 23,
   "metadata": {},
   "outputs": [
    {
     "data": {
      "text/html": [
       "<div>\n",
       "<style scoped>\n",
       "    .dataframe tbody tr th:only-of-type {\n",
       "        vertical-align: middle;\n",
       "    }\n",
       "\n",
       "    .dataframe tbody tr th {\n",
       "        vertical-align: top;\n",
       "    }\n",
       "\n",
       "    .dataframe thead th {\n",
       "        text-align: right;\n",
       "    }\n",
       "</style>\n",
       "<table border=\"1\" class=\"dataframe\">\n",
       "  <thead>\n",
       "    <tr style=\"text-align: right;\">\n",
       "      <th></th>\n",
       "      <th>item_id</th>\n",
       "      <th>long_description</th>\n",
       "      <th>quantity</th>\n",
       "      <th>bidder_id</th>\n",
       "      <th>unit_price</th>\n",
       "      <th>contract_id</th>\n",
       "      <th>compound_id</th>\n",
       "      <th>is_in_2016</th>\n",
       "      <th>is_in_2018</th>\n",
       "      <th>is_in_2020</th>\n",
       "    </tr>\n",
       "  </thead>\n",
       "  <tbody>\n",
       "    <tr>\n",
       "      <th>5</th>\n",
       "      <td>2101.524/00050</td>\n",
       "      <td>GRUBBING</td>\n",
       "      <td>4.0</td>\n",
       "      <td>engineers</td>\n",
       "      <td>12500</td>\n",
       "      <td>220002</td>\n",
       "      <td>2101.524/00050_GRUBBING</td>\n",
       "      <td>False</td>\n",
       "      <td>True</td>\n",
       "      <td>False</td>\n",
       "    </tr>\n",
       "    <tr>\n",
       "      <th>31</th>\n",
       "      <td>2105.601/00045</td>\n",
       "      <td>TEMPORARY STREAM DIVERSION SYSTEM</td>\n",
       "      <td>1.0</td>\n",
       "      <td>engineers</td>\n",
       "      <td>3000000</td>\n",
       "      <td>220002</td>\n",
       "      <td>2105.601/00045_TEMPORARY STREAM DIVERSION SYSTEM</td>\n",
       "      <td>True</td>\n",
       "      <td>True</td>\n",
       "      <td>False</td>\n",
       "    </tr>\n",
       "    <tr>\n",
       "      <th>100</th>\n",
       "      <td>2564.502/00780</td>\n",
       "      <td>RIGHT OF WAY MARKER TYPE X3-1</td>\n",
       "      <td>190.0</td>\n",
       "      <td>engineers</td>\n",
       "      <td>16000</td>\n",
       "      <td>220002</td>\n",
       "      <td>2564.502/00780_RIGHT OF WAY MARKER TYPE X3-1</td>\n",
       "      <td>False</td>\n",
       "      <td>True</td>\n",
       "      <td>False</td>\n",
       "    </tr>\n",
       "    <tr>\n",
       "      <th>129</th>\n",
       "      <td>2575.604/01225</td>\n",
       "      <td>ROLLED EROSION PREVENTION CATEGORY 25</td>\n",
       "      <td>318.0</td>\n",
       "      <td>engineers</td>\n",
       "      <td>220</td>\n",
       "      <td>220002</td>\n",
       "      <td>2575.604/01225_ROLLED EROSION PREVENTION CATEG...</td>\n",
       "      <td>False</td>\n",
       "      <td>True</td>\n",
       "      <td>False</td>\n",
       "    </tr>\n",
       "    <tr>\n",
       "      <th>141</th>\n",
       "      <td>2582.603/79010</td>\n",
       "      <td>MOBILE RETROREFLECTOMETER MEASUREMENTS</td>\n",
       "      <td>151910.0</td>\n",
       "      <td>engineers</td>\n",
       "      <td>1</td>\n",
       "      <td>220002</td>\n",
       "      <td>2582.603/79010_MOBILE RETROREFLECTOMETER MEASU...</td>\n",
       "      <td>False</td>\n",
       "      <td>True</td>\n",
       "      <td>False</td>\n",
       "    </tr>\n",
       "    <tr>\n",
       "      <th>147</th>\n",
       "      <td>2101.524/00050</td>\n",
       "      <td>GRUBBING</td>\n",
       "      <td>4.0</td>\n",
       "      <td>0000198793</td>\n",
       "      <td>50000</td>\n",
       "      <td>220002</td>\n",
       "      <td>2101.524/00050_GRUBBING</td>\n",
       "      <td>False</td>\n",
       "      <td>True</td>\n",
       "      <td>False</td>\n",
       "    </tr>\n",
       "    <tr>\n",
       "      <th>173</th>\n",
       "      <td>2105.601/00045</td>\n",
       "      <td>TEMPORARY STREAM DIVERSION SYSTEM</td>\n",
       "      <td>1.0</td>\n",
       "      <td>0000198793</td>\n",
       "      <td>1000000</td>\n",
       "      <td>220002</td>\n",
       "      <td>2105.601/00045_TEMPORARY STREAM DIVERSION SYSTEM</td>\n",
       "      <td>True</td>\n",
       "      <td>True</td>\n",
       "      <td>False</td>\n",
       "    </tr>\n",
       "    <tr>\n",
       "      <th>242</th>\n",
       "      <td>2564.502/00780</td>\n",
       "      <td>RIGHT OF WAY MARKER TYPE X3-1</td>\n",
       "      <td>190.0</td>\n",
       "      <td>0000198793</td>\n",
       "      <td>20000</td>\n",
       "      <td>220002</td>\n",
       "      <td>2564.502/00780_RIGHT OF WAY MARKER TYPE X3-1</td>\n",
       "      <td>False</td>\n",
       "      <td>True</td>\n",
       "      <td>False</td>\n",
       "    </tr>\n",
       "    <tr>\n",
       "      <th>271</th>\n",
       "      <td>2575.604/01225</td>\n",
       "      <td>ROLLED EROSION PREVENTION CATEGORY 25</td>\n",
       "      <td>318.0</td>\n",
       "      <td>0000198793</td>\n",
       "      <td>275</td>\n",
       "      <td>220002</td>\n",
       "      <td>2575.604/01225_ROLLED EROSION PREVENTION CATEG...</td>\n",
       "      <td>False</td>\n",
       "      <td>True</td>\n",
       "      <td>False</td>\n",
       "    </tr>\n",
       "    <tr>\n",
       "      <th>283</th>\n",
       "      <td>2582.603/79010</td>\n",
       "      <td>MOBILE RETROREFLECTOMETER MEASUREMENTS</td>\n",
       "      <td>151910.0</td>\n",
       "      <td>0000198793</td>\n",
       "      <td>1</td>\n",
       "      <td>220002</td>\n",
       "      <td>2582.603/79010_MOBILE RETROREFLECTOMETER MEASU...</td>\n",
       "      <td>False</td>\n",
       "      <td>True</td>\n",
       "      <td>False</td>\n",
       "    </tr>\n",
       "    <tr>\n",
       "      <th>289</th>\n",
       "      <td>2101.524/00050</td>\n",
       "      <td>GRUBBING</td>\n",
       "      <td>4.0</td>\n",
       "      <td>0000210000</td>\n",
       "      <td>50000</td>\n",
       "      <td>220002</td>\n",
       "      <td>2101.524/00050_GRUBBING</td>\n",
       "      <td>False</td>\n",
       "      <td>True</td>\n",
       "      <td>False</td>\n",
       "    </tr>\n",
       "    <tr>\n",
       "      <th>315</th>\n",
       "      <td>2105.601/00045</td>\n",
       "      <td>TEMPORARY STREAM DIVERSION SYSTEM</td>\n",
       "      <td>1.0</td>\n",
       "      <td>0000210000</td>\n",
       "      <td>1000000</td>\n",
       "      <td>220002</td>\n",
       "      <td>2105.601/00045_TEMPORARY STREAM DIVERSION SYSTEM</td>\n",
       "      <td>True</td>\n",
       "      <td>True</td>\n",
       "      <td>False</td>\n",
       "    </tr>\n",
       "    <tr>\n",
       "      <th>384</th>\n",
       "      <td>2564.502/00780</td>\n",
       "      <td>RIGHT OF WAY MARKER TYPE X3-1</td>\n",
       "      <td>190.0</td>\n",
       "      <td>0000210000</td>\n",
       "      <td>20000</td>\n",
       "      <td>220002</td>\n",
       "      <td>2564.502/00780_RIGHT OF WAY MARKER TYPE X3-1</td>\n",
       "      <td>False</td>\n",
       "      <td>True</td>\n",
       "      <td>False</td>\n",
       "    </tr>\n",
       "    <tr>\n",
       "      <th>413</th>\n",
       "      <td>2575.604/01225</td>\n",
       "      <td>ROLLED EROSION PREVENTION CATEGORY 25</td>\n",
       "      <td>318.0</td>\n",
       "      <td>0000210000</td>\n",
       "      <td>275</td>\n",
       "      <td>220002</td>\n",
       "      <td>2575.604/01225_ROLLED EROSION PREVENTION CATEG...</td>\n",
       "      <td>False</td>\n",
       "      <td>True</td>\n",
       "      <td>False</td>\n",
       "    </tr>\n",
       "    <tr>\n",
       "      <th>425</th>\n",
       "      <td>2582.603/79010</td>\n",
       "      <td>MOBILE RETROREFLECTOMETER MEASUREMENTS</td>\n",
       "      <td>151910.0</td>\n",
       "      <td>0000210000</td>\n",
       "      <td>2</td>\n",
       "      <td>220002</td>\n",
       "      <td>2582.603/79010_MOBILE RETROREFLECTOMETER MEASU...</td>\n",
       "      <td>False</td>\n",
       "      <td>True</td>\n",
       "      <td>False</td>\n",
       "    </tr>\n",
       "    <tr>\n",
       "      <th>431</th>\n",
       "      <td>2101.524/00050</td>\n",
       "      <td>GRUBBING</td>\n",
       "      <td>4.0</td>\n",
       "      <td>0000207897</td>\n",
       "      <td>17500</td>\n",
       "      <td>220002</td>\n",
       "      <td>2101.524/00050_GRUBBING</td>\n",
       "      <td>False</td>\n",
       "      <td>True</td>\n",
       "      <td>False</td>\n",
       "    </tr>\n",
       "    <tr>\n",
       "      <th>457</th>\n",
       "      <td>2105.601/00045</td>\n",
       "      <td>TEMPORARY STREAM DIVERSION SYSTEM</td>\n",
       "      <td>1.0</td>\n",
       "      <td>0000207897</td>\n",
       "      <td>800000</td>\n",
       "      <td>220002</td>\n",
       "      <td>2105.601/00045_TEMPORARY STREAM DIVERSION SYSTEM</td>\n",
       "      <td>True</td>\n",
       "      <td>True</td>\n",
       "      <td>False</td>\n",
       "    </tr>\n",
       "    <tr>\n",
       "      <th>526</th>\n",
       "      <td>2564.502/00780</td>\n",
       "      <td>RIGHT OF WAY MARKER TYPE X3-1</td>\n",
       "      <td>190.0</td>\n",
       "      <td>0000207897</td>\n",
       "      <td>20000</td>\n",
       "      <td>220002</td>\n",
       "      <td>2564.502/00780_RIGHT OF WAY MARKER TYPE X3-1</td>\n",
       "      <td>False</td>\n",
       "      <td>True</td>\n",
       "      <td>False</td>\n",
       "    </tr>\n",
       "    <tr>\n",
       "      <th>555</th>\n",
       "      <td>2575.604/01225</td>\n",
       "      <td>ROLLED EROSION PREVENTION CATEGORY 25</td>\n",
       "      <td>318.0</td>\n",
       "      <td>0000207897</td>\n",
       "      <td>275</td>\n",
       "      <td>220002</td>\n",
       "      <td>2575.604/01225_ROLLED EROSION PREVENTION CATEG...</td>\n",
       "      <td>False</td>\n",
       "      <td>True</td>\n",
       "      <td>False</td>\n",
       "    </tr>\n",
       "    <tr>\n",
       "      <th>567</th>\n",
       "      <td>2582.603/79010</td>\n",
       "      <td>MOBILE RETROREFLECTOMETER MEASUREMENTS</td>\n",
       "      <td>151910.0</td>\n",
       "      <td>0000207897</td>\n",
       "      <td>1</td>\n",
       "      <td>220002</td>\n",
       "      <td>2582.603/79010_MOBILE RETROREFLECTOMETER MEASU...</td>\n",
       "      <td>False</td>\n",
       "      <td>True</td>\n",
       "      <td>False</td>\n",
       "    </tr>\n",
       "  </tbody>\n",
       "</table>\n",
       "</div>"
      ],
      "text/plain": [
       "            item_id                        long_description  quantity  \\\n",
       "5    2101.524/00050                                GRUBBING       4.0   \n",
       "31   2105.601/00045       TEMPORARY STREAM DIVERSION SYSTEM       1.0   \n",
       "100  2564.502/00780           RIGHT OF WAY MARKER TYPE X3-1     190.0   \n",
       "129  2575.604/01225   ROLLED EROSION PREVENTION CATEGORY 25     318.0   \n",
       "141  2582.603/79010  MOBILE RETROREFLECTOMETER MEASUREMENTS  151910.0   \n",
       "147  2101.524/00050                                GRUBBING       4.0   \n",
       "173  2105.601/00045       TEMPORARY STREAM DIVERSION SYSTEM       1.0   \n",
       "242  2564.502/00780           RIGHT OF WAY MARKER TYPE X3-1     190.0   \n",
       "271  2575.604/01225   ROLLED EROSION PREVENTION CATEGORY 25     318.0   \n",
       "283  2582.603/79010  MOBILE RETROREFLECTOMETER MEASUREMENTS  151910.0   \n",
       "289  2101.524/00050                                GRUBBING       4.0   \n",
       "315  2105.601/00045       TEMPORARY STREAM DIVERSION SYSTEM       1.0   \n",
       "384  2564.502/00780           RIGHT OF WAY MARKER TYPE X3-1     190.0   \n",
       "413  2575.604/01225   ROLLED EROSION PREVENTION CATEGORY 25     318.0   \n",
       "425  2582.603/79010  MOBILE RETROREFLECTOMETER MEASUREMENTS  151910.0   \n",
       "431  2101.524/00050                                GRUBBING       4.0   \n",
       "457  2105.601/00045       TEMPORARY STREAM DIVERSION SYSTEM       1.0   \n",
       "526  2564.502/00780           RIGHT OF WAY MARKER TYPE X3-1     190.0   \n",
       "555  2575.604/01225   ROLLED EROSION PREVENTION CATEGORY 25     318.0   \n",
       "567  2582.603/79010  MOBILE RETROREFLECTOMETER MEASUREMENTS  151910.0   \n",
       "\n",
       "      bidder_id  unit_price contract_id  \\\n",
       "5     engineers       12500      220002   \n",
       "31    engineers     3000000      220002   \n",
       "100   engineers       16000      220002   \n",
       "129   engineers         220      220002   \n",
       "141   engineers           1      220002   \n",
       "147  0000198793       50000      220002   \n",
       "173  0000198793     1000000      220002   \n",
       "242  0000198793       20000      220002   \n",
       "271  0000198793         275      220002   \n",
       "283  0000198793           1      220002   \n",
       "289  0000210000       50000      220002   \n",
       "315  0000210000     1000000      220002   \n",
       "384  0000210000       20000      220002   \n",
       "413  0000210000         275      220002   \n",
       "425  0000210000           2      220002   \n",
       "431  0000207897       17500      220002   \n",
       "457  0000207897      800000      220002   \n",
       "526  0000207897       20000      220002   \n",
       "555  0000207897         275      220002   \n",
       "567  0000207897           1      220002   \n",
       "\n",
       "                                           compound_id  is_in_2016  \\\n",
       "5                              2101.524/00050_GRUBBING       False   \n",
       "31    2105.601/00045_TEMPORARY STREAM DIVERSION SYSTEM        True   \n",
       "100       2564.502/00780_RIGHT OF WAY MARKER TYPE X3-1       False   \n",
       "129  2575.604/01225_ROLLED EROSION PREVENTION CATEG...       False   \n",
       "141  2582.603/79010_MOBILE RETROREFLECTOMETER MEASU...       False   \n",
       "147                            2101.524/00050_GRUBBING       False   \n",
       "173   2105.601/00045_TEMPORARY STREAM DIVERSION SYSTEM        True   \n",
       "242       2564.502/00780_RIGHT OF WAY MARKER TYPE X3-1       False   \n",
       "271  2575.604/01225_ROLLED EROSION PREVENTION CATEG...       False   \n",
       "283  2582.603/79010_MOBILE RETROREFLECTOMETER MEASU...       False   \n",
       "289                            2101.524/00050_GRUBBING       False   \n",
       "315   2105.601/00045_TEMPORARY STREAM DIVERSION SYSTEM        True   \n",
       "384       2564.502/00780_RIGHT OF WAY MARKER TYPE X3-1       False   \n",
       "413  2575.604/01225_ROLLED EROSION PREVENTION CATEG...       False   \n",
       "425  2582.603/79010_MOBILE RETROREFLECTOMETER MEASU...       False   \n",
       "431                            2101.524/00050_GRUBBING       False   \n",
       "457   2105.601/00045_TEMPORARY STREAM DIVERSION SYSTEM        True   \n",
       "526       2564.502/00780_RIGHT OF WAY MARKER TYPE X3-1       False   \n",
       "555  2575.604/01225_ROLLED EROSION PREVENTION CATEG...       False   \n",
       "567  2582.603/79010_MOBILE RETROREFLECTOMETER MEASU...       False   \n",
       "\n",
       "     is_in_2018  is_in_2020  \n",
       "5          True       False  \n",
       "31         True       False  \n",
       "100        True       False  \n",
       "129        True       False  \n",
       "141        True       False  \n",
       "147        True       False  \n",
       "173        True       False  \n",
       "242        True       False  \n",
       "271        True       False  \n",
       "283        True       False  \n",
       "289        True       False  \n",
       "315        True       False  \n",
       "384        True       False  \n",
       "413        True       False  \n",
       "425        True       False  \n",
       "431        True       False  \n",
       "457        True       False  \n",
       "526        True       False  \n",
       "555        True       False  \n",
       "567        True       False  "
      ]
     },
     "execution_count": 23,
     "metadata": {},
     "output_type": "execute_result"
    }
   ],
   "source": [
    "bid_df_matrix.query(\"is_in_2018 == True and is_in_2020 == False\")"
   ]
  },
  {
   "cell_type": "code",
   "execution_count": 24,
   "metadata": {},
   "outputs": [
    {
     "data": {
      "text/html": [
       "<div>\n",
       "<style scoped>\n",
       "    .dataframe tbody tr th:only-of-type {\n",
       "        vertical-align: middle;\n",
       "    }\n",
       "\n",
       "    .dataframe tbody tr th {\n",
       "        vertical-align: top;\n",
       "    }\n",
       "\n",
       "    .dataframe thead th {\n",
       "        text-align: right;\n",
       "    }\n",
       "</style>\n",
       "<table border=\"1\" class=\"dataframe\">\n",
       "  <thead>\n",
       "    <tr style=\"text-align: right;\">\n",
       "      <th></th>\n",
       "      <th>item_id</th>\n",
       "      <th>long_description</th>\n",
       "      <th>quantity</th>\n",
       "      <th>bidder_id</th>\n",
       "      <th>unit_price</th>\n",
       "      <th>contract_id</th>\n",
       "      <th>compound_id</th>\n",
       "      <th>is_in_2016</th>\n",
       "      <th>is_in_2018</th>\n",
       "      <th>is_in_2020</th>\n",
       "    </tr>\n",
       "  </thead>\n",
       "  <tbody>\n",
       "  </tbody>\n",
       "</table>\n",
       "</div>"
      ],
      "text/plain": [
       "Empty DataFrame\n",
       "Columns: [item_id, long_description, quantity, bidder_id, unit_price, contract_id, compound_id, is_in_2016, is_in_2018, is_in_2020]\n",
       "Index: []"
      ]
     },
     "execution_count": 24,
     "metadata": {},
     "output_type": "execute_result"
    }
   ],
   "source": [
    "bid_df_matrix.query(\"is_in_2018 == False and is_in_2020 == True\")"
   ]
  }
 ],
 "metadata": {
  "kernelspec": {
   "display_name": "Python 3.10.4 ('mndot-bid-etl-YQuOmX7S-py3.10')",
   "language": "python",
   "name": "python3"
  },
  "language_info": {
   "codemirror_mode": {
    "name": "ipython",
    "version": 3
   },
   "file_extension": ".py",
   "mimetype": "text/x-python",
   "name": "python",
   "nbconvert_exporter": "python",
   "pygments_lexer": "ipython3",
   "version": "3.10.4"
  },
  "orig_nbformat": 4,
  "vscode": {
   "interpreter": {
    "hash": "f9c9d2af983e9106a5331158cee0de754d053900e4906c0641bac8d646089032"
   }
  }
 },
 "nbformat": 4,
 "nbformat_minor": 2
}
